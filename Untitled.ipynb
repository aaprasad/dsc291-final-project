{
 "cells": [
  {
   "cell_type": "code",
   "execution_count": 1,
   "id": "ef17c505",
   "metadata": {},
   "outputs": [],
   "source": [
    "from les.les import les_desc_comp, les_dist_comp\n",
    "import numpy as np\n",
    "import h5py\n",
    "from matplotlib import pyplot as plt\n",
    "from tqdm import tqdm"
   ]
  },
  {
   "cell_type": "code",
   "execution_count": null,
   "id": "be50272d",
   "metadata": {},
   "outputs": [],
   "source": [
    "with h5py.File('../../../Volumes/talmodata/aadi/domain_rep/assets/model_activations/model_activations_AIVC_rep1.hdf5','r') as f:\n",
    "    activations = {domain:{layer:np.array(f[domain]['AIVC'][layer]) for layer in f[domain]['AIVC'].keys()} for domain in f.keys()}\n",
    "# activations"
   ]
  },
  {
   "cell_type": "code",
   "execution_count": null,
   "id": "8ea45b16",
   "metadata": {},
   "outputs": [],
   "source": [
    "dist_mat = np.zeros((5,5))\n",
    "for i in range(1,6):\n",
    "    for j in range(1,6):\n",
    "        les_desc = SIGMA, NEV, GAMMA = 2, 200, 1e-8\n",
    "        les_desc_x1 = les_desc_comp(activations['ImageNet'][f'conv{i}'], SIGMA, NEV, GAMMA)\n",
    "        les_desc_x2 = les_desc_comp(activations['ImageNet'][f'conv{j}'], SIGMA, NEV, GAMMA)\n",
    "        dist_mat[i-1,j-1]=les_dist_comp(les_desc_x1, les_desc_x2)"
   ]
  },
  {
   "cell_type": "code",
   "execution_count": 22,
   "id": "5f145b37",
   "metadata": {},
   "outputs": [
    {
     "data": {
      "text/plain": [
       "<matplotlib.colorbar.Colorbar at 0x177a3b3d0>"
      ]
     },
     "execution_count": 22,
     "metadata": {},
     "output_type": "execute_result"
    },
    {
     "data": {
      "image/png": "[encoded data removed]",
      "text/plain": [
       "<Figure size 432x288 with 2 Axes>"
      ]
     },
     "metadata": {
      "needs_background": "light"
     },
     "output_type": "display_data"
    }
   ],
   "source": [
    "plt.imshow(dist_mat)\n",
    "plt.colorbar()"
   ]
  },
  {
   "cell_type": "code",
   "execution_count": 36,
   "id": "fc66ec98",
   "metadata": {},
   "outputs": [],
   "source": [
    "domain_dist_mat = []\n",
    "labels = []\n",
    "for k,domain in enumerate(activations.keys()):\n",
    "    dist_mat = np.zeros((5,5))\n",
    "    domain_activations = activations[domain]\n",
    "    for i in range(1,6):\n",
    "        for j in range(1,6):\n",
    "            les_desc = SIGMA, NEV, GAMMA = 2, 200, 1e-8\n",
    "            les_desc_x1 = les_desc_comp(domain_activations[f'conv{i}'], SIGMA, NEV, GAMMA)\n",
    "            les_desc_x2 = les_desc_comp(domain_activations[f'conv{j}'], SIGMA, NEV, GAMMA)\n",
    "            dist_mat[i-1,j-1]=les_dist_comp(les_desc_x1, les_desc_x2)\n",
    "    domain_dist_mat.append(dist_mat)"
   ]
  },
  {
   "cell_type": "code",
   "execution_count": 37,
   "id": "5a1c4fa5",
   "metadata": {},
   "outputs": [
    {
     "name": "stdout",
     "output_type": "stream",
     "text": [
      "[[4.01673719e-14 4.66828547e+00 1.41944899e+01 2.30732203e+01\n",
      "  2.80073044e+01]\n",
      " [4.66828547e+00 8.14283312e-14 9.58618238e+00 1.84591181e+01\n",
      "  2.33998631e+01]\n",
      " [1.41944899e+01 9.58618238e+00 2.73899558e-13 8.97675482e+00\n",
      "  1.39290705e+01]\n",
      " [2.30732203e+01 1.84591181e+01 8.97675482e+00 7.48068636e-13\n",
      "  5.01158101e+00]\n",
      " [2.80073044e+01 2.33998631e+01 1.39290705e+01 5.01158101e+00\n",
      "  1.87477425e-12]]\n"
     ]
    }
   ],
   "source": [
    "print(domain_dist_mat[0])"
   ]
  },
  {
   "cell_type": "code",
   "execution_count": 38,
   "id": "1eb51089",
   "metadata": {},
   "outputs": [
    {
     "data": {
      "image/png": "[encoded data removed]",
      "text/plain": [
       "<Figure size 720x720 with 14 Axes>"
      ]
     },
     "metadata": {
      "needs_background": "light"
     },
     "output_type": "display_data"
    }
   ],
   "source": [
    "fig,axs = plt.subplots(1,7,figsize=(10,10))\n",
    "for k,domain in enumerate(activations.keys()):\n",
    "    mat = axs[k].imshow(domain_dist_mat[k])\n",
    "    axs[k].set_title(domain)\n",
    "    fig.colorbar(mat, ax=axs[k])"
   ]
  },
  {
   "cell_type": "code",
   "execution_count": 21,
   "id": "dc04164f",
   "metadata": {},
   "outputs": [
    {
     "name": "stderr",
     "output_type": "stream",
     "text": [
      "0it [00:00, ?it/s]\n",
      "0it [00:00, ?it/s]\u001b[A\n",
      "1it [00:02,  2.44s/it]\u001b[A\n",
      "2it [00:04,  2.47s/it]\u001b[A\n",
      "3it [00:07,  2.48s/it]\u001b[A\n",
      "4it [00:09,  2.48s/it]\u001b[A\n",
      "5it [00:12,  2.49s/it]\u001b[A\n",
      "6it [00:14,  2.49s/it]\u001b[A\n",
      "7it [00:17,  2.49s/it]\u001b[A\n",
      "1it [00:17, 17.43s/it]\n",
      "0it [00:00, ?it/s]\u001b[A\n",
      "1it [00:02,  2.42s/it]\u001b[A\n",
      "2it [00:04,  2.43s/it]\u001b[A\n",
      "3it [00:07,  2.45s/it]\u001b[A\n",
      "4it [00:09,  2.46s/it]\u001b[A\n",
      "5it [00:12,  2.45s/it]\u001b[A\n",
      "6it [00:14,  2.46s/it]\u001b[A\n",
      "7it [00:17,  2.46s/it]\u001b[A\n",
      "2it [00:34, 17.29s/it]\n",
      "0it [00:00, ?it/s]\u001b[A\n",
      "1it [00:02,  2.49s/it]\u001b[A\n",
      "2it [00:04,  2.45s/it]\u001b[A\n",
      "3it [00:07,  2.42s/it]\u001b[A\n",
      "4it [00:09,  2.42s/it]\u001b[A\n",
      "5it [00:12,  2.42s/it]\u001b[A\n",
      "6it [00:14,  2.41s/it]\u001b[A\n",
      "7it [00:16,  2.42s/it]\u001b[A\n",
      "3it [00:51, 17.14s/it]\n",
      "0it [00:00, ?it/s]\u001b[A\n",
      "1it [00:02,  2.47s/it]\u001b[A\n",
      "2it [00:04,  2.41s/it]\u001b[A\n",
      "3it [00:07,  2.47s/it]\u001b[A\n",
      "4it [00:09,  2.45s/it]\u001b[A\n",
      "5it [00:12,  2.42s/it]\u001b[A\n",
      "6it [00:14,  2.43s/it]\u001b[A\n",
      "7it [00:17,  2.43s/it]\u001b[A\n",
      "4it [01:08, 17.10s/it]\n",
      "0it [00:00, ?it/s]\u001b[A\n",
      "1it [00:02,  2.43s/it]\u001b[A\n",
      "2it [00:04,  2.43s/it]\u001b[A\n",
      "3it [00:07,  2.45s/it]\u001b[A\n",
      "4it [00:09,  2.43s/it]\u001b[A\n",
      "5it [00:12,  2.42s/it]\u001b[A\n",
      "6it [00:14,  2.42s/it]\u001b[A\n",
      "7it [00:17,  2.43s/it]\u001b[A\n",
      "5it [01:25, 17.08s/it]\n",
      "0it [00:00, ?it/s]\u001b[A\n",
      "1it [00:02,  2.43s/it]\u001b[A\n",
      "2it [00:04,  2.41s/it]\u001b[A\n",
      "3it [00:07,  2.43s/it]\u001b[A\n",
      "4it [00:09,  2.41s/it]\u001b[A\n",
      "5it [00:12,  2.44s/it]\u001b[A\n",
      "6it [00:14,  2.42s/it]\u001b[A\n",
      "7it [00:17,  2.43s/it]\u001b[A\n",
      "6it [01:42, 17.05s/it]\n",
      "0it [00:00, ?it/s]\u001b[A\n",
      "1it [00:02,  2.52s/it]\u001b[A\n",
      "2it [00:05,  2.50s/it]\u001b[A\n",
      "3it [00:07,  2.48s/it]\u001b[A\n",
      "4it [00:09,  2.46s/it]\u001b[A\n",
      "5it [00:12,  2.43s/it]\u001b[A\n",
      "6it [00:14,  2.44s/it]\u001b[A\n",
      "7it [00:17,  2.45s/it]\u001b[A\n",
      "7it [01:59, 17.12s/it]\n"
     ]
    }
   ],
   "source": [
    "pairwise_dists = np.array(35,35)\n",
    "\n",
    "for i, domain1 in tqdm(enumerate(activations.keys())):\n",
    "    activations_d1 = activations[domain1]\n",
    "    for j, domain2 in tqdm(enumerate(activations.keys())):\n",
    "        activations_d2 = activations[domain2]\n",
    "        for m in range(1,6):\n",
    "            activations_d1_l1 = activations_d1[f'conv{m}']\n",
    "            for n in range(1,6):\n",
    "                activations_d2_l2 = activations_d2[f'conv{n}']\n",
    "                les_desc = SIGMA, NEV, GAMMA = 2, 200, 1e-8\n",
    "                les_desc_x1 = les_desc_comp(activations_d1_l1, SIGMA, NEV, GAMMA)\n",
    "                les_desc_x2 = les_desc_comp(activations_d2_l2, SIGMA, NEV, GAMMA)\n",
    "                dists.append(les_dist_comp(les_desc_x1, les_desc_x2))\n",
    "    pairwise_dists.append(dists)"
   ]
  },
  {
   "cell_type": "code",
   "execution_count": 83,
   "id": "3bc972c7",
   "metadata": {},
   "outputs": [
    {
     "name": "stderr",
     "output_type": "stream",
     "text": [
      "0it [00:00, ?it/s]\n",
      "0it [00:00, ?it/s]\u001b[A"
     ]
    },
    {
     "name": "stdout",
     "output_type": "stream",
     "text": [
      "LES distance between Clipart-conv1 and Clipart-conv1:0.7359580130005767\n",
      "LES distance between Clipart-conv1 and Clipart-conv2:3.3388522674760948\n",
      "LES distance between Clipart-conv1 and Clipart-conv3:8.383100386167577\n",
      "LES distance between Clipart-conv1 and Clipart-conv4:13.332255250451619\n"
     ]
    },
    {
     "name": "stderr",
     "output_type": "stream",
     "text": [
      "\n",
      "1it [00:00,  1.76it/s]\u001b[A"
     ]
    },
    {
     "name": "stdout",
     "output_type": "stream",
     "text": [
      "LES distance between Clipart-conv1 and Clipart-conv5:17.889634900910373\n",
      "LES distance between Clipart-conv1 and ImageNet-conv1:0.7359580130005877\n",
      "LES distance between Clipart-conv1 and ImageNet-conv2:3.3388522674760703\n",
      "LES distance between Clipart-conv1 and ImageNet-conv3:8.383100386167555\n"
     ]
    },
    {
     "name": "stderr",
     "output_type": "stream",
     "text": [
      "\n",
      "2it [00:01,  1.72it/s]\u001b[A"
     ]
    },
    {
     "name": "stdout",
     "output_type": "stream",
     "text": [
      "LES distance between Clipart-conv1 and ImageNet-conv4:13.33225525045158\n",
      "LES distance between Clipart-conv1 and ImageNet-conv5:17.889634900910274\n",
      "LES distance between Clipart-conv1 and Infograph-conv1:0.7359580130005896\n",
      "LES distance between Clipart-conv1 and Infograph-conv2:3.3388522674760757\n",
      "LES distance between Clipart-conv1 and Infograph-conv3:8.383100386167577\n",
      "LES distance between Clipart-conv1 and Infograph-conv4:13.332255250451617\n"
     ]
    },
    {
     "name": "stderr",
     "output_type": "stream",
     "text": [
      "\n",
      "3it [00:01,  1.73it/s]\u001b[A"
     ]
    },
    {
     "name": "stdout",
     "output_type": "stream",
     "text": [
      "LES distance between Clipart-conv1 and Infograph-conv5:17.889634900910327\n",
      "LES distance between Clipart-conv1 and Paint-conv1:0.7359580130005826\n",
      "LES distance between Clipart-conv1 and Paint-conv2:3.3388522674760797\n",
      "LES distance between Clipart-conv1 and Paint-conv3:8.383100386167579\n"
     ]
    },
    {
     "name": "stderr",
     "output_type": "stream",
     "text": [
      "\n",
      "4it [00:02,  1.74it/s]\u001b[A"
     ]
    },
    {
     "name": "stdout",
     "output_type": "stream",
     "text": [
      "LES distance between Clipart-conv1 and Paint-conv4:13.332255250451656\n",
      "LES distance between Clipart-conv1 and Paint-conv5:17.889634900910256\n",
      "LES distance between Clipart-conv1 and Quickdraw-conv1:0.7359580130005864\n",
      "LES distance between Clipart-conv1 and Quickdraw-conv2:3.3388522674760783\n",
      "LES distance between Clipart-conv1 and Quickdraw-conv3:8.38310038616756\n",
      "LES distance between Clipart-conv1 and Quickdraw-conv4:13.332255250451647\n"
     ]
    },
    {
     "name": "stderr",
     "output_type": "stream",
     "text": [
      "\n",
      "5it [00:02,  1.72it/s]\u001b[A"
     ]
    },
    {
     "name": "stdout",
     "output_type": "stream",
     "text": [
      "LES distance between Clipart-conv1 and Quickdraw-conv5:17.889634900910227\n",
      "LES distance between Clipart-conv1 and Real-conv1:0.7359580130005898\n",
      "LES distance between Clipart-conv1 and Real-conv2:3.3388522674760717\n",
      "LES distance between Clipart-conv1 and Real-conv3:8.383100386167543\n"
     ]
    },
    {
     "name": "stderr",
     "output_type": "stream",
     "text": [
      "\n",
      "6it [00:03,  1.72it/s]\u001b[A"
     ]
    },
    {
     "name": "stdout",
     "output_type": "stream",
     "text": [
      "LES distance between Clipart-conv1 and Real-conv4:13.332255250451666\n",
      "LES distance between Clipart-conv1 and Real-conv5:17.88963490091028\n",
      "LES distance between Clipart-conv1 and Sketch-conv1:0.7359580130005898\n",
      "LES distance between Clipart-conv1 and Sketch-conv2:3.338852267476062\n",
      "LES distance between Clipart-conv1 and Sketch-conv3:8.38310038616756\n",
      "LES distance between Clipart-conv1 and Sketch-conv4:13.33225525045159\n"
     ]
    },
    {
     "name": "stderr",
     "output_type": "stream",
     "text": [
      "\n",
      "7it [00:04,  1.72it/s]\u001b[A\n"
     ]
    },
    {
     "name": "stdout",
     "output_type": "stream",
     "text": [
      "LES distance between Clipart-conv1 and Sketch-conv5:17.88963490091024\n"
     ]
    },
    {
     "name": "stderr",
     "output_type": "stream",
     "text": [
      "\n",
      "0it [00:00, ?it/s]\u001b[A"
     ]
    },
    {
     "name": "stdout",
     "output_type": "stream",
     "text": [
      "LES distance between Clipart-conv2 and Clipart-conv1:5.275144464901973\n",
      "LES distance between Clipart-conv2 and Clipart-conv2:1.6451079699844562\n",
      "LES distance between Clipart-conv2 and Clipart-conv3:3.820978695956356\n",
      "LES distance between Clipart-conv2 and Clipart-conv4:8.755657888775144\n"
     ]
    },
    {
     "name": "stderr",
     "output_type": "stream",
     "text": [
      "\n",
      "1it [00:00,  1.90it/s]\u001b[A"
     ]
    },
    {
     "name": "stdout",
     "output_type": "stream",
     "text": [
      "LES distance between Clipart-conv2 and Clipart-conv5:13.308423300295212\n",
      "LES distance between Clipart-conv2 and ImageNet-conv1:5.275144464901974\n",
      "LES distance between Clipart-conv2 and ImageNet-conv2:1.645107969984454\n",
      "LES distance between Clipart-conv2 and ImageNet-conv3:3.820978695956342\n",
      "LES distance between Clipart-conv2 and ImageNet-conv4:8.755657888775152\n"
     ]
    },
    {
     "name": "stderr",
     "output_type": "stream",
     "text": [
      "\n",
      "2it [00:01,  1.93it/s]\u001b[A"
     ]
    },
    {
     "name": "stdout",
     "output_type": "stream",
     "text": [
      "LES distance between Clipart-conv2 and ImageNet-conv5:13.308423300295258\n",
      "LES distance between Clipart-conv2 and Infograph-conv1:5.275144464901972\n",
      "LES distance between Clipart-conv2 and Infograph-conv2:1.6451079699844395\n",
      "LES distance between Clipart-conv2 and Infograph-conv3:3.8209786959563727\n",
      "LES distance between Clipart-conv2 and Infograph-conv4:8.75565788877517\n"
     ]
    },
    {
     "name": "stderr",
     "output_type": "stream",
     "text": [
      "\n",
      "3it [00:01,  1.91it/s]\u001b[A"
     ]
    },
    {
     "name": "stdout",
     "output_type": "stream",
     "text": [
      "LES distance between Clipart-conv2 and Infograph-conv5:13.308423300295264\n",
      "LES distance between Clipart-conv2 and Paint-conv1:5.275144464901976\n",
      "LES distance between Clipart-conv2 and Paint-conv2:1.6451079699844422\n",
      "LES distance between Clipart-conv2 and Paint-conv3:3.820978695956344\n",
      "LES distance between Clipart-conv2 and Paint-conv4:8.755657888775138\n"
     ]
    },
    {
     "name": "stderr",
     "output_type": "stream",
     "text": [
      "\n",
      "4it [00:02,  1.93it/s]\u001b[A"
     ]
    },
    {
     "name": "stdout",
     "output_type": "stream",
     "text": [
      "LES distance between Clipart-conv2 and Paint-conv5:13.308423300295203\n",
      "LES distance between Clipart-conv2 and Quickdraw-conv1:5.27514446490197\n",
      "LES distance between Clipart-conv2 and Quickdraw-conv2:1.6451079699844537\n",
      "LES distance between Clipart-conv2 and Quickdraw-conv3:3.8209786959563274\n",
      "LES distance between Clipart-conv2 and Quickdraw-conv4:8.755657888775161\n"
     ]
    },
    {
     "name": "stderr",
     "output_type": "stream",
     "text": [
      "\n",
      "5it [00:02,  1.93it/s]\u001b[A"
     ]
    },
    {
     "name": "stdout",
     "output_type": "stream",
     "text": [
      "LES distance between Clipart-conv2 and Quickdraw-conv5:13.308423300295138\n",
      "LES distance between Clipart-conv2 and Real-conv1:5.275144464901969\n",
      "LES distance between Clipart-conv2 and Real-conv2:1.6451079699844413\n",
      "LES distance between Clipart-conv2 and Real-conv3:3.8209786959563403\n",
      "LES distance between Clipart-conv2 and Real-conv4:8.755657888775135\n"
     ]
    },
    {
     "name": "stderr",
     "output_type": "stream",
     "text": [
      "\n",
      "6it [00:03,  1.95it/s]\u001b[A"
     ]
    },
    {
     "name": "stdout",
     "output_type": "stream",
     "text": [
      "LES distance between Clipart-conv2 and Real-conv5:13.308423300295193\n",
      "LES distance between Clipart-conv2 and Sketch-conv1:5.2751444649019845\n",
      "LES distance between Clipart-conv2 and Sketch-conv2:1.6451079699844529\n",
      "LES distance between Clipart-conv2 and Sketch-conv3:3.8209786959563377\n",
      "LES distance between Clipart-conv2 and Sketch-conv4:8.75565788877515\n"
     ]
    },
    {
     "name": "stderr",
     "output_type": "stream",
     "text": [
      "\n",
      "7it [00:03,  1.94it/s]\u001b[A\n"
     ]
    },
    {
     "name": "stdout",
     "output_type": "stream",
     "text": [
      "LES distance between Clipart-conv2 and Sketch-conv5:13.30842330029526\n"
     ]
    },
    {
     "name": "stderr",
     "output_type": "stream",
     "text": [
      "\n",
      "0it [00:00, ?it/s]\u001b[A"
     ]
    },
    {
     "name": "stdout",
     "output_type": "stream",
     "text": [
      "LES distance between Clipart-conv3 and Clipart-conv1:14.80481696166442\n",
      "LES distance between Clipart-conv3 and Clipart-conv2:10.951949505174781\n",
      "LES distance between Clipart-conv3 and Clipart-conv3:5.854951411213495\n",
      "LES distance between Clipart-conv3 and Clipart-conv4:1.4977430017756073\n"
     ]
    },
    {
     "name": "stderr",
     "output_type": "stream",
     "text": [
      "\n",
      "1it [00:00,  2.16it/s]\u001b[A"
     ]
    },
    {
     "name": "stdout",
     "output_type": "stream",
     "text": [
      "LES distance between Clipart-conv3 and Clipart-conv5:4.048018241140842\n",
      "LES distance between Clipart-conv3 and ImageNet-conv1:14.804816961664446\n",
      "LES distance between Clipart-conv3 and ImageNet-conv2:10.951949505174834\n",
      "LES distance between Clipart-conv3 and ImageNet-conv3:5.854951411213565\n",
      "LES distance between Clipart-conv3 and ImageNet-conv4:1.4977430017756845\n"
     ]
    },
    {
     "name": "stderr",
     "output_type": "stream",
     "text": [
      "\n",
      "2it [00:00,  2.15it/s]\u001b[A"
     ]
    },
    {
     "name": "stdout",
     "output_type": "stream",
     "text": [
      "LES distance between Clipart-conv3 and ImageNet-conv5:4.048018241140798\n",
      "LES distance between Clipart-conv3 and Infograph-conv1:14.804816961664432\n",
      "LES distance between Clipart-conv3 and Infograph-conv2:10.951949505174797\n",
      "LES distance between Clipart-conv3 and Infograph-conv3:5.854951411213555\n",
      "LES distance between Clipart-conv3 and Infograph-conv4:1.4977430017756228\n"
     ]
    },
    {
     "name": "stderr",
     "output_type": "stream",
     "text": [
      "\n",
      "3it [00:01,  2.18it/s]\u001b[A"
     ]
    },
    {
     "name": "stdout",
     "output_type": "stream",
     "text": [
      "LES distance between Clipart-conv3 and Infograph-conv5:4.048018241140796\n",
      "LES distance between Clipart-conv3 and Paint-conv1:14.804816961664486\n",
      "LES distance between Clipart-conv3 and Paint-conv2:10.951949505174825\n",
      "LES distance between Clipart-conv3 and Paint-conv3:5.854951411213515\n",
      "LES distance between Clipart-conv3 and Paint-conv4:1.4977430017756455\n"
     ]
    },
    {
     "name": "stderr",
     "output_type": "stream",
     "text": [
      "\n",
      "4it [00:01,  2.20it/s]\u001b[A"
     ]
    },
    {
     "name": "stdout",
     "output_type": "stream",
     "text": [
      "LES distance between Clipart-conv3 and Paint-conv5:4.048018241140732\n",
      "LES distance between Clipart-conv3 and Quickdraw-conv1:14.804816961664468\n",
      "LES distance between Clipart-conv3 and Quickdraw-conv2:10.951949505174762\n",
      "LES distance between Clipart-conv3 and Quickdraw-conv3:5.854951411213564\n",
      "LES distance between Clipart-conv3 and Quickdraw-conv4:1.4977430017756659\n"
     ]
    },
    {
     "name": "stderr",
     "output_type": "stream",
     "text": [
      "\n",
      "5it [00:02,  2.19it/s]\u001b[A"
     ]
    },
    {
     "name": "stdout",
     "output_type": "stream",
     "text": [
      "LES distance between Clipart-conv3 and Quickdraw-conv5:4.048018241140817\n",
      "LES distance between Clipart-conv3 and Real-conv1:14.804816961664462\n",
      "LES distance between Clipart-conv3 and Real-conv2:10.95194950517473\n",
      "LES distance between Clipart-conv3 and Real-conv3:5.85495141121358\n",
      "LES distance between Clipart-conv3 and Real-conv4:1.4977430017756417\n"
     ]
    },
    {
     "name": "stderr",
     "output_type": "stream",
     "text": [
      "\n",
      "6it [00:02,  2.22it/s]\u001b[A"
     ]
    },
    {
     "name": "stdout",
     "output_type": "stream",
     "text": [
      "LES distance between Clipart-conv3 and Real-conv5:4.048018241140805\n",
      "LES distance between Clipart-conv3 and Sketch-conv1:14.804816961664466\n",
      "LES distance between Clipart-conv3 and Sketch-conv2:10.951949505174797\n"
     ]
    },
    {
     "name": "stderr",
     "output_type": "stream",
     "text": [
      "\n",
      "7it [00:03,  2.21it/s]\u001b[A\n"
     ]
    },
    {
     "name": "stdout",
     "output_type": "stream",
     "text": [
      "LES distance between Clipart-conv3 and Sketch-conv3:5.8549514112134675\n",
      "LES distance between Clipart-conv3 and Sketch-conv4:1.497743001775589\n",
      "LES distance between Clipart-conv3 and Sketch-conv5:4.048018241140826\n"
     ]
    },
    {
     "name": "stderr",
     "output_type": "stream",
     "text": [
      "\n",
      "0it [00:00, ?it/s]\u001b[A"
     ]
    },
    {
     "name": "stdout",
     "output_type": "stream",
     "text": [
      "LES distance between Clipart-conv4 and Clipart-conv1:23.67693222021397\n",
      "LES distance between Clipart-conv4 and Clipart-conv2:19.845452714364445\n",
      "LES distance between Clipart-conv4 and Clipart-conv3:14.730044772903536\n"
     ]
    },
    {
     "name": "stderr",
     "output_type": "stream",
     "text": [
      "\n",
      "1it [00:00,  2.43it/s]\u001b[A"
     ]
    },
    {
     "name": "stdout",
     "output_type": "stream",
     "text": [
      "LES distance between Clipart-conv4 and Clipart-conv4:9.809161034473961\n",
      "LES distance between Clipart-conv4 and Clipart-conv5:5.341568066133027\n",
      "LES distance between Clipart-conv4 and ImageNet-conv1:23.676932220214074\n",
      "LES distance between Clipart-conv4 and ImageNet-conv2:19.84545271436436\n",
      "LES distance between Clipart-conv4 and ImageNet-conv3:14.730044772903613\n",
      "LES distance between Clipart-conv4 and ImageNet-conv4:9.809161034474029\n"
     ]
    },
    {
     "name": "stderr",
     "output_type": "stream",
     "text": [
      "\n",
      "2it [00:00,  2.42it/s]\u001b[A"
     ]
    },
    {
     "name": "stdout",
     "output_type": "stream",
     "text": [
      "LES distance between Clipart-conv4 and ImageNet-conv5:5.3415680661327825\n",
      "LES distance between Clipart-conv4 and Infograph-conv1:23.676932220213985\n",
      "LES distance between Clipart-conv4 and Infograph-conv2:19.84545271436431\n"
     ]
    },
    {
     "name": "stderr",
     "output_type": "stream",
     "text": [
      "\n",
      "3it [00:01,  2.43it/s]\u001b[A"
     ]
    },
    {
     "name": "stdout",
     "output_type": "stream",
     "text": [
      "LES distance between Clipart-conv4 and Infograph-conv3:14.73004477290352\n",
      "LES distance between Clipart-conv4 and Infograph-conv4:9.809161034474126\n",
      "LES distance between Clipart-conv4 and Infograph-conv5:5.341568066132938\n",
      "LES distance between Clipart-conv4 and Paint-conv1:23.676932220214013\n",
      "LES distance between Clipart-conv4 and Paint-conv2:19.845452714364463\n",
      "LES distance between Clipart-conv4 and Paint-conv3:14.730044772903552\n"
     ]
    },
    {
     "name": "stderr",
     "output_type": "stream",
     "text": [
      "\n",
      "4it [00:01,  2.42it/s]\u001b[A"
     ]
    },
    {
     "name": "stdout",
     "output_type": "stream",
     "text": [
      "LES distance between Clipart-conv4 and Paint-conv4:9.80916103447393\n",
      "LES distance between Clipart-conv4 and Paint-conv5:5.341568066132845\n",
      "LES distance between Clipart-conv4 and Quickdraw-conv1:23.676932220214077\n",
      "LES distance between Clipart-conv4 and Quickdraw-conv2:19.84545271436438\n",
      "LES distance between Clipart-conv4 and Quickdraw-conv3:14.730044772903671\n",
      "LES distance between Clipart-conv4 and Quickdraw-conv4:9.809161034474096\n"
     ]
    },
    {
     "name": "stderr",
     "output_type": "stream",
     "text": [
      "\n",
      "5it [00:02,  2.39it/s]\u001b[A"
     ]
    },
    {
     "name": "stdout",
     "output_type": "stream",
     "text": [
      "LES distance between Clipart-conv4 and Quickdraw-conv5:5.341568066133014\n",
      "LES distance between Clipart-conv4 and Real-conv1:23.67693222021404\n",
      "LES distance between Clipart-conv4 and Real-conv2:19.845452714364466\n"
     ]
    },
    {
     "name": "stderr",
     "output_type": "stream",
     "text": [
      "\n",
      "6it [00:02,  2.37it/s]\u001b[A"
     ]
    },
    {
     "name": "stdout",
     "output_type": "stream",
     "text": [
      "LES distance between Clipart-conv4 and Real-conv3:14.730044772903486\n",
      "LES distance between Clipart-conv4 and Real-conv4:9.809161034474153\n",
      "LES distance between Clipart-conv4 and Real-conv5:5.341568066132833\n",
      "LES distance between Clipart-conv4 and Sketch-conv1:23.676932220214116\n",
      "LES distance between Clipart-conv4 and Sketch-conv2:19.845452714364395\n",
      "LES distance between Clipart-conv4 and Sketch-conv3:14.730044772903527\n"
     ]
    },
    {
     "name": "stderr",
     "output_type": "stream",
     "text": [
      "\n",
      "7it [00:02,  2.40it/s]\u001b[A\n"
     ]
    },
    {
     "name": "stdout",
     "output_type": "stream",
     "text": [
      "LES distance between Clipart-conv4 and Sketch-conv4:9.809161034474077\n",
      "LES distance between Clipart-conv4 and Sketch-conv5:5.341568066133298\n"
     ]
    },
    {
     "name": "stderr",
     "output_type": "stream",
     "text": [
      "\n",
      "0it [00:00, ?it/s]\u001b[A"
     ]
    },
    {
     "name": "stdout",
     "output_type": "stream",
     "text": [
      "LES distance between Clipart-conv5 and Clipart-conv1:28.606483634927972\n",
      "LES distance between Clipart-conv5 and Clipart-conv2:24.789610706935935\n",
      "LES distance between Clipart-conv5 and Clipart-conv3:19.67717609594742\n",
      "LES distance between Clipart-conv5 and Clipart-conv4:14.742755776579411\n"
     ]
    },
    {
     "name": "stderr",
     "output_type": "stream",
     "text": [
      "\n",
      "1it [00:00,  2.30it/s]\u001b[A"
     ]
    },
    {
     "name": "stdout",
     "output_type": "stream",
     "text": [
      "LES distance between Clipart-conv5 and Clipart-conv5:10.21923562818459\n",
      "LES distance between Clipart-conv5 and ImageNet-conv1:28.606483634927805\n",
      "LES distance between Clipart-conv5 and ImageNet-conv2:24.789610706935495\n",
      "LES distance between Clipart-conv5 and ImageNet-conv3:19.67717609594781\n",
      "LES distance between Clipart-conv5 and ImageNet-conv4:14.742755776579042\n"
     ]
    },
    {
     "name": "stderr",
     "output_type": "stream",
     "text": [
      "\n",
      "2it [00:00,  2.31it/s]\u001b[A"
     ]
    },
    {
     "name": "stdout",
     "output_type": "stream",
     "text": [
      "LES distance between Clipart-conv5 and ImageNet-conv5:10.219235628184451\n",
      "LES distance between Clipart-conv5 and Infograph-conv1:28.606483634927958\n",
      "LES distance between Clipart-conv5 and Infograph-conv2:24.789610706935896\n"
     ]
    },
    {
     "name": "stderr",
     "output_type": "stream",
     "text": [
      "\n",
      "3it [00:01,  2.33it/s]\u001b[A"
     ]
    },
    {
     "name": "stdout",
     "output_type": "stream",
     "text": [
      "LES distance between Clipart-conv5 and Infograph-conv3:19.677176095947498\n",
      "LES distance between Clipart-conv5 and Infograph-conv4:14.742755776579397\n",
      "LES distance between Clipart-conv5 and Infograph-conv5:10.219235628184505\n",
      "LES distance between Clipart-conv5 and Paint-conv1:28.606483634927987\n",
      "LES distance between Clipart-conv5 and Paint-conv2:24.78961070693554\n",
      "LES distance between Clipart-conv5 and Paint-conv3:19.67717609594771\n"
     ]
    },
    {
     "name": "stderr",
     "output_type": "stream",
     "text": [
      "\n",
      "4it [00:01,  2.35it/s]\u001b[A"
     ]
    },
    {
     "name": "stdout",
     "output_type": "stream",
     "text": [
      "LES distance between Clipart-conv5 and Paint-conv4:14.742755776579488\n",
      "LES distance between Clipart-conv5 and Paint-conv5:10.21923562818425\n",
      "LES distance between Clipart-conv5 and Quickdraw-conv1:28.606483634928093\n",
      "LES distance between Clipart-conv5 and Quickdraw-conv2:24.789610706935793\n",
      "LES distance between Clipart-conv5 and Quickdraw-conv3:19.67717609594762\n",
      "LES distance between Clipart-conv5 and Quickdraw-conv4:14.742755776579727\n"
     ]
    },
    {
     "name": "stderr",
     "output_type": "stream",
     "text": [
      "\n",
      "5it [00:02,  2.34it/s]\u001b[A"
     ]
    },
    {
     "name": "stdout",
     "output_type": "stream",
     "text": [
      "LES distance between Clipart-conv5 and Quickdraw-conv5:10.219235628184048\n",
      "LES distance between Clipart-conv5 and Real-conv1:28.606483634928107\n",
      "LES distance between Clipart-conv5 and Real-conv2:24.78961070693577\n",
      "LES distance between Clipart-conv5 and Real-conv3:19.677176095947676\n",
      "LES distance between Clipart-conv5 and Real-conv4:14.742755776579639\n"
     ]
    },
    {
     "name": "stderr",
     "output_type": "stream",
     "text": [
      "\n",
      "6it [00:02,  2.35it/s]\u001b[A"
     ]
    },
    {
     "name": "stdout",
     "output_type": "stream",
     "text": [
      "LES distance between Clipart-conv5 and Real-conv5:10.219235628184485\n",
      "LES distance between Clipart-conv5 and Sketch-conv1:28.606483634927812\n",
      "LES distance between Clipart-conv5 and Sketch-conv2:24.789610706935544\n"
     ]
    },
    {
     "name": "stderr",
     "output_type": "stream",
     "text": [
      "\n",
      "7it [00:02,  2.34it/s]\u001b[A\n",
      "1it [00:16, 16.75s/it]"
     ]
    },
    {
     "name": "stdout",
     "output_type": "stream",
     "text": [
      "LES distance between Clipart-conv5 and Sketch-conv3:19.67717609594764\n",
      "LES distance between Clipart-conv5 and Sketch-conv4:14.742755776579255\n",
      "LES distance between Clipart-conv5 and Sketch-conv5:10.219235628184663\n"
     ]
    },
    {
     "name": "stderr",
     "output_type": "stream",
     "text": [
      "\n",
      "0it [00:00, ?it/s]\u001b[A"
     ]
    },
    {
     "name": "stdout",
     "output_type": "stream",
     "text": [
      "LES distance between ImageNet-conv1 and Clipart-conv1:4.904660187562734\n",
      "LES distance between ImageNet-conv1 and Clipart-conv2:8.651849275364913\n",
      "LES distance between ImageNet-conv1 and Clipart-conv3:13.704948391502882\n",
      "LES distance between ImageNet-conv1 and Clipart-conv4:18.620960238120823\n"
     ]
    },
    {
     "name": "stderr",
     "output_type": "stream",
     "text": [
      "\n",
      "1it [00:00,  1.78it/s]\u001b[A"
     ]
    },
    {
     "name": "stdout",
     "output_type": "stream",
     "text": [
      "LES distance between ImageNet-conv1 and Clipart-conv5:23.147099309480346\n",
      "LES distance between ImageNet-conv1 and ImageNet-conv1:4.904660187562733\n",
      "LES distance between ImageNet-conv1 and ImageNet-conv2:8.651849275364897\n",
      "LES distance between ImageNet-conv1 and ImageNet-conv3:13.704948391502871\n"
     ]
    },
    {
     "name": "stderr",
     "output_type": "stream",
     "text": [
      "\n",
      "2it [00:01,  1.77it/s]\u001b[A"
     ]
    },
    {
     "name": "stdout",
     "output_type": "stream",
     "text": [
      "LES distance between ImageNet-conv1 and ImageNet-conv4:18.6209602381208\n",
      "LES distance between ImageNet-conv1 and ImageNet-conv5:23.147099309480268\n",
      "LES distance between ImageNet-conv1 and Infograph-conv1:4.904660187562729\n",
      "LES distance between ImageNet-conv1 and Infograph-conv2:8.651849275364912\n",
      "LES distance between ImageNet-conv1 and Infograph-conv3:13.704948391502864\n",
      "LES distance between ImageNet-conv1 and Infograph-conv4:18.620960238120826\n"
     ]
    },
    {
     "name": "stderr",
     "output_type": "stream",
     "text": [
      "\n",
      "3it [00:01,  1.73it/s]\u001b[A"
     ]
    },
    {
     "name": "stdout",
     "output_type": "stream",
     "text": [
      "LES distance between ImageNet-conv1 and Infograph-conv5:23.14709930948029\n",
      "LES distance between ImageNet-conv1 and Paint-conv1:4.904660187562725\n",
      "LES distance between ImageNet-conv1 and Paint-conv2:8.651849275364917\n",
      "LES distance between ImageNet-conv1 and Paint-conv3:13.704948391502857\n",
      "LES distance between ImageNet-conv1 and Paint-conv4:18.62096023812086\n"
     ]
    },
    {
     "name": "stderr",
     "output_type": "stream",
     "text": [
      "\n",
      "4it [00:02,  1.78it/s]\u001b[A"
     ]
    },
    {
     "name": "stdout",
     "output_type": "stream",
     "text": [
      "LES distance between ImageNet-conv1 and Paint-conv5:23.147099309480353\n",
      "LES distance between ImageNet-conv1 and Quickdraw-conv1:4.904660187562729\n",
      "LES distance between ImageNet-conv1 and Quickdraw-conv2:8.65184927536491\n",
      "LES distance between ImageNet-conv1 and Quickdraw-conv3:13.704948391502866\n"
     ]
    },
    {
     "name": "stderr",
     "output_type": "stream",
     "text": [
      "\n",
      "5it [00:02,  1.76it/s]\u001b[A"
     ]
    },
    {
     "name": "stdout",
     "output_type": "stream",
     "text": [
      "LES distance between ImageNet-conv1 and Quickdraw-conv4:18.620960238120823\n",
      "LES distance between ImageNet-conv1 and Quickdraw-conv5:23.14709930948032\n",
      "LES distance between ImageNet-conv1 and Real-conv1:4.904660187562726\n",
      "LES distance between ImageNet-conv1 and Real-conv2:8.651849275364912\n",
      "LES distance between ImageNet-conv1 and Real-conv3:13.704948391502853\n",
      "LES distance between ImageNet-conv1 and Real-conv4:18.620960238120833\n"
     ]
    },
    {
     "name": "stderr",
     "output_type": "stream",
     "text": [
      "\n",
      "6it [00:03,  1.75it/s]\u001b[A"
     ]
    },
    {
     "name": "stdout",
     "output_type": "stream",
     "text": [
      "LES distance between ImageNet-conv1 and Real-conv5:23.147099309480243\n",
      "LES distance between ImageNet-conv1 and Sketch-conv1:4.904660187562726\n",
      "LES distance between ImageNet-conv1 and Sketch-conv2:8.651849275364915\n",
      "LES distance between ImageNet-conv1 and Sketch-conv3:13.70494839150288\n",
      "LES distance between ImageNet-conv1 and Sketch-conv4:18.620960238120805\n"
     ]
    },
    {
     "name": "stderr",
     "output_type": "stream",
     "text": [
      "\n",
      "7it [00:03,  1.77it/s]\u001b[A\n"
     ]
    },
    {
     "name": "stdout",
     "output_type": "stream",
     "text": [
      "LES distance between ImageNet-conv1 and Sketch-conv5:23.147099309480396\n"
     ]
    },
    {
     "name": "stderr",
     "output_type": "stream",
     "text": [
      "\n",
      "0it [00:00, ?it/s]\u001b[A"
     ]
    },
    {
     "name": "stdout",
     "output_type": "stream",
     "text": [
      "LES distance between ImageNet-conv2 and Clipart-conv1:2.469926779240526\n",
      "LES distance between ImageNet-conv2 and Clipart-conv2:5.841155277718696\n",
      "LES distance between ImageNet-conv2 and Clipart-conv3:10.916457072593397\n",
      "LES distance between ImageNet-conv2 and Clipart-conv4:15.883108719457923\n"
     ]
    },
    {
     "name": "stderr",
     "output_type": "stream",
     "text": [
      "\n",
      "1it [00:00,  1.98it/s]\u001b[A"
     ]
    },
    {
     "name": "stdout",
     "output_type": "stream",
     "text": [
      "LES distance between ImageNet-conv2 and Clipart-conv5:20.452304106261174\n",
      "LES distance between ImageNet-conv2 and ImageNet-conv1:2.4699267792405353\n",
      "LES distance between ImageNet-conv2 and ImageNet-conv2:5.841155277718683\n",
      "LES distance between ImageNet-conv2 and ImageNet-conv3:10.916457072593458\n",
      "LES distance between ImageNet-conv2 and ImageNet-conv4:15.883108719457915\n"
     ]
    },
    {
     "name": "stderr",
     "output_type": "stream",
     "text": [
      "\n",
      "2it [00:01,  1.95it/s]\u001b[A"
     ]
    },
    {
     "name": "stdout",
     "output_type": "stream",
     "text": [
      "LES distance between ImageNet-conv2 and ImageNet-conv5:20.45230410626113\n",
      "LES distance between ImageNet-conv2 and Infograph-conv1:2.469926779240553\n",
      "LES distance between ImageNet-conv2 and Infograph-conv2:5.841155277718689\n",
      "LES distance between ImageNet-conv2 and Infograph-conv3:10.916457072593417\n",
      "LES distance between ImageNet-conv2 and Infograph-conv4:15.883108719457878\n"
     ]
    },
    {
     "name": "stderr",
     "output_type": "stream",
     "text": [
      "\n",
      "3it [00:01,  1.89it/s]\u001b[A"
     ]
    },
    {
     "name": "stdout",
     "output_type": "stream",
     "text": [
      "LES distance between ImageNet-conv2 and Infograph-conv5:20.452304106261078\n",
      "LES distance between ImageNet-conv2 and Paint-conv1:2.4699267792405504\n",
      "LES distance between ImageNet-conv2 and Paint-conv2:5.841155277718683\n",
      "LES distance between ImageNet-conv2 and Paint-conv3:10.916457072593419\n",
      "LES distance between ImageNet-conv2 and Paint-conv4:15.883108719457937\n"
     ]
    },
    {
     "name": "stderr",
     "output_type": "stream",
     "text": [
      "\n",
      "4it [00:02,  1.91it/s]\u001b[A"
     ]
    },
    {
     "name": "stdout",
     "output_type": "stream",
     "text": [
      "LES distance between ImageNet-conv2 and Paint-conv5:20.452304106261142\n",
      "LES distance between ImageNet-conv2 and Quickdraw-conv1:2.4699267792405473\n",
      "LES distance between ImageNet-conv2 and Quickdraw-conv2:5.841155277718698\n",
      "LES distance between ImageNet-conv2 and Quickdraw-conv3:10.916457072593424\n"
     ]
    },
    {
     "name": "stderr",
     "output_type": "stream",
     "text": [
      "\n",
      "5it [00:02,  1.83it/s]\u001b[A"
     ]
    },
    {
     "name": "stdout",
     "output_type": "stream",
     "text": [
      "LES distance between ImageNet-conv2 and Quickdraw-conv4:15.883108719457958\n",
      "LES distance between ImageNet-conv2 and Quickdraw-conv5:20.452304106261227\n",
      "LES distance between ImageNet-conv2 and Real-conv1:2.4699267792405384\n",
      "LES distance between ImageNet-conv2 and Real-conv2:5.841155277718688\n"
     ]
    },
    {
     "name": "stderr",
     "output_type": "stream",
     "text": [
      "\n",
      "6it [00:03,  1.82it/s]\u001b[A"
     ]
    },
    {
     "name": "stdout",
     "output_type": "stream",
     "text": [
      "LES distance between ImageNet-conv2 and Real-conv3:10.916457072593442\n",
      "LES distance between ImageNet-conv2 and Real-conv4:15.883108719457873\n",
      "LES distance between ImageNet-conv2 and Real-conv5:20.45230410626109\n",
      "LES distance between ImageNet-conv2 and Sketch-conv1:2.4699267792405397\n",
      "LES distance between ImageNet-conv2 and Sketch-conv2:5.841155277718709\n",
      "LES distance between ImageNet-conv2 and Sketch-conv3:10.916457072593449\n",
      "LES distance between ImageNet-conv2 and Sketch-conv4:15.883108719457887\n"
     ]
    },
    {
     "name": "stderr",
     "output_type": "stream",
     "text": [
      "\n",
      "7it [00:03,  1.82it/s]\u001b[A\n"
     ]
    },
    {
     "name": "stdout",
     "output_type": "stream",
     "text": [
      "LES distance between ImageNet-conv2 and Sketch-conv5:20.452304106261195\n"
     ]
    },
    {
     "name": "stderr",
     "output_type": "stream",
     "text": [
      "\n",
      "0it [00:00, ?it/s]\u001b[A"
     ]
    },
    {
     "name": "stdout",
     "output_type": "stream",
     "text": [
      "LES distance between ImageNet-conv3 and Clipart-conv1:1.730569694796695\n",
      "LES distance between ImageNet-conv3 and Clipart-conv2:4.886589328542232\n",
      "LES distance between ImageNet-conv3 and Clipart-conv3:9.983700117659842\n"
     ]
    },
    {
     "name": "stderr",
     "output_type": "stream",
     "text": [
      "\n",
      "1it [00:00,  2.13it/s]\u001b[A"
     ]
    },
    {
     "name": "stdout",
     "output_type": "stream",
     "text": [
      "LES distance between ImageNet-conv3 and Clipart-conv4:14.941410122297503\n",
      "LES distance between ImageNet-conv3 and Clipart-conv5:19.497998944191025\n",
      "LES distance between ImageNet-conv3 and ImageNet-conv1:1.7305696947966793\n",
      "LES distance between ImageNet-conv3 and ImageNet-conv2:4.8865893285422555\n",
      "LES distance between ImageNet-conv3 and ImageNet-conv3:9.983700117659867\n",
      "LES distance between ImageNet-conv3 and ImageNet-conv4:14.94141012229746\n"
     ]
    },
    {
     "name": "stderr",
     "output_type": "stream",
     "text": [
      "\n",
      "2it [00:00,  2.22it/s]\u001b[A"
     ]
    },
    {
     "name": "stdout",
     "output_type": "stream",
     "text": [
      "LES distance between ImageNet-conv3 and ImageNet-conv5:19.49799894419094\n",
      "LES distance between ImageNet-conv3 and Infograph-conv1:1.7305696947966678\n",
      "LES distance between ImageNet-conv3 and Infograph-conv2:4.8865893285422555\n",
      "LES distance between ImageNet-conv3 and Infograph-conv3:9.983700117659836\n"
     ]
    },
    {
     "name": "stderr",
     "output_type": "stream",
     "text": [
      "\n",
      "3it [00:01,  1.86it/s]\u001b[A"
     ]
    },
    {
     "name": "stdout",
     "output_type": "stream",
     "text": [
      "LES distance between ImageNet-conv3 and Infograph-conv4:14.941410122297478\n",
      "LES distance between ImageNet-conv3 and Infograph-conv5:19.497998944190996\n",
      "LES distance between ImageNet-conv3 and Paint-conv1:1.7305696947966753\n",
      "LES distance between ImageNet-conv3 and Paint-conv2:4.8865893285422475\n",
      "LES distance between ImageNet-conv3 and Paint-conv3:9.98370011765983\n",
      "LES distance between ImageNet-conv3 and Paint-conv4:14.941410122297453\n"
     ]
    },
    {
     "name": "stderr",
     "output_type": "stream",
     "text": [
      "\n",
      "4it [00:02,  1.94it/s]\u001b[A"
     ]
    },
    {
     "name": "stdout",
     "output_type": "stream",
     "text": [
      "LES distance between ImageNet-conv3 and Paint-conv5:19.497998944190932\n",
      "LES distance between ImageNet-conv3 and Quickdraw-conv1:1.7305696947966802\n",
      "LES distance between ImageNet-conv3 and Quickdraw-conv2:4.886589328542238\n",
      "LES distance between ImageNet-conv3 and Quickdraw-conv3:9.983700117659817\n",
      "LES distance between ImageNet-conv3 and Quickdraw-conv4:14.941410122297428\n"
     ]
    },
    {
     "name": "stderr",
     "output_type": "stream",
     "text": [
      "\n",
      "5it [00:02,  1.96it/s]\u001b[A"
     ]
    },
    {
     "name": "stdout",
     "output_type": "stream",
     "text": [
      "LES distance between ImageNet-conv3 and Quickdraw-conv5:19.497998944190975\n",
      "LES distance between ImageNet-conv3 and Real-conv1:1.7305696947966864\n",
      "LES distance between ImageNet-conv3 and Real-conv2:4.886589328542248\n",
      "LES distance between ImageNet-conv3 and Real-conv3:9.983700117659895\n",
      "LES distance between ImageNet-conv3 and Real-conv4:14.941410122297455\n"
     ]
    },
    {
     "name": "stderr",
     "output_type": "stream",
     "text": [
      "\n",
      "6it [00:03,  1.93it/s]\u001b[A"
     ]
    },
    {
     "name": "stdout",
     "output_type": "stream",
     "text": [
      "LES distance between ImageNet-conv3 and Real-conv5:19.497998944190968\n",
      "LES distance between ImageNet-conv3 and Sketch-conv1:1.730569694796679\n",
      "LES distance between ImageNet-conv3 and Sketch-conv2:4.886589328542226\n",
      "LES distance between ImageNet-conv3 and Sketch-conv3:9.98370011765984\n"
     ]
    },
    {
     "name": "stderr",
     "output_type": "stream",
     "text": [
      "\n",
      "7it [00:03,  1.91it/s]\u001b[A\n"
     ]
    },
    {
     "name": "stdout",
     "output_type": "stream",
     "text": [
      "LES distance between ImageNet-conv3 and Sketch-conv4:14.941410122297532\n",
      "LES distance between ImageNet-conv3 and Sketch-conv5:19.497998944191053\n"
     ]
    },
    {
     "name": "stderr",
     "output_type": "stream",
     "text": [
      "\n",
      "0it [00:00, ?it/s]\u001b[A"
     ]
    },
    {
     "name": "stdout",
     "output_type": "stream",
     "text": [
      "LES distance between ImageNet-conv4 and Clipart-conv1:1.626442304671539\n",
      "LES distance between ImageNet-conv4 and Clipart-conv2:4.468680709954152\n",
      "LES distance between ImageNet-conv4 and Clipart-conv3:9.549201587430064\n",
      "LES distance between ImageNet-conv4 and Clipart-conv4:14.503939701205192\n"
     ]
    },
    {
     "name": "stderr",
     "output_type": "stream",
     "text": [
      "\n",
      "1it [00:00,  1.67it/s]\u001b[A"
     ]
    },
    {
     "name": "stdout",
     "output_type": "stream",
     "text": [
      "LES distance between ImageNet-conv4 and Clipart-conv5:19.057884276591853\n",
      "LES distance between ImageNet-conv4 and ImageNet-conv1:1.6264423046715386\n",
      "LES distance between ImageNet-conv4 and ImageNet-conv2:4.468680709954157\n",
      "LES distance between ImageNet-conv4 and ImageNet-conv3:9.549201587430062\n"
     ]
    },
    {
     "name": "stderr",
     "output_type": "stream",
     "text": [
      "\n",
      "2it [00:01,  1.72it/s]\u001b[A"
     ]
    },
    {
     "name": "stdout",
     "output_type": "stream",
     "text": [
      "LES distance between ImageNet-conv4 and ImageNet-conv4:14.503939701205153\n",
      "LES distance between ImageNet-conv4 and ImageNet-conv5:19.057884276591793\n",
      "LES distance between ImageNet-conv4 and Infograph-conv1:1.62644230467154\n",
      "LES distance between ImageNet-conv4 and Infograph-conv2:4.468680709954158\n",
      "LES distance between ImageNet-conv4 and Infograph-conv3:9.549201587430089\n"
     ]
    },
    {
     "name": "stderr",
     "output_type": "stream",
     "text": [
      "\n",
      "3it [00:01,  1.81it/s]\u001b[A"
     ]
    },
    {
     "name": "stdout",
     "output_type": "stream",
     "text": [
      "LES distance between ImageNet-conv4 and Infograph-conv4:14.503939701205109\n",
      "LES distance between ImageNet-conv4 and Infograph-conv5:19.0578842765918\n",
      "LES distance between ImageNet-conv4 and Paint-conv1:1.6264423046715157\n",
      "LES distance between ImageNet-conv4 and Paint-conv2:4.4686807099541594\n",
      "LES distance between ImageNet-conv4 and Paint-conv3:9.549201587430055\n"
     ]
    },
    {
     "name": "stderr",
     "output_type": "stream",
     "text": [
      "\n",
      "4it [00:02,  1.88it/s]\u001b[A"
     ]
    },
    {
     "name": "stdout",
     "output_type": "stream",
     "text": [
      "LES distance between ImageNet-conv4 and Paint-conv4:14.50393970120512\n",
      "LES distance between ImageNet-conv4 and Paint-conv5:19.05788427659174\n",
      "LES distance between ImageNet-conv4 and Quickdraw-conv1:1.6264423046715297\n",
      "LES distance between ImageNet-conv4 and Quickdraw-conv2:4.468680709954178\n",
      "LES distance between ImageNet-conv4 and Quickdraw-conv3:9.549201587430094\n"
     ]
    },
    {
     "name": "stderr",
     "output_type": "stream",
     "text": [
      "\n",
      "5it [00:02,  1.92it/s]\u001b[A"
     ]
    },
    {
     "name": "stdout",
     "output_type": "stream",
     "text": [
      "LES distance between ImageNet-conv4 and Quickdraw-conv4:14.503939701205198\n",
      "LES distance between ImageNet-conv4 and Quickdraw-conv5:19.057884276591793\n",
      "LES distance between ImageNet-conv4 and Real-conv1:1.6264423046715293\n",
      "LES distance between ImageNet-conv4 and Real-conv2:4.468680709954162\n",
      "LES distance between ImageNet-conv4 and Real-conv3:9.549201587430039\n",
      "LES distance between ImageNet-conv4 and Real-conv4:14.503939701205182\n"
     ]
    },
    {
     "name": "stderr",
     "output_type": "stream",
     "text": [
      "\n",
      "6it [00:03,  1.99it/s]\u001b[A"
     ]
    },
    {
     "name": "stdout",
     "output_type": "stream",
     "text": [
      "LES distance between ImageNet-conv4 and Real-conv5:19.057884276591864\n",
      "LES distance between ImageNet-conv4 and Sketch-conv1:1.626442304671529\n",
      "LES distance between ImageNet-conv4 and Sketch-conv2:4.4686807099541594\n"
     ]
    },
    {
     "name": "stderr",
     "output_type": "stream",
     "text": [
      "\n",
      "7it [00:03,  1.93it/s]\u001b[A\n"
     ]
    },
    {
     "name": "stdout",
     "output_type": "stream",
     "text": [
      "LES distance between ImageNet-conv4 and Sketch-conv3:9.549201587430073\n",
      "LES distance between ImageNet-conv4 and Sketch-conv4:14.503939701205155\n",
      "LES distance between ImageNet-conv4 and Sketch-conv5:19.057884276591796\n"
     ]
    },
    {
     "name": "stderr",
     "output_type": "stream",
     "text": [
      "\n",
      "0it [00:00, ?it/s]\u001b[A"
     ]
    },
    {
     "name": "stdout",
     "output_type": "stream",
     "text": [
      "LES distance between ImageNet-conv5 and Clipart-conv1:1.9268575003107533\n",
      "LES distance between ImageNet-conv5 and Clipart-conv2:3.3266537272785714\n",
      "LES distance between ImageNet-conv5 and Clipart-conv3:8.318201285302539\n"
     ]
    },
    {
     "name": "stderr",
     "output_type": "stream",
     "text": [
      "\n",
      "1it [00:00,  1.98it/s]\u001b[A"
     ]
    },
    {
     "name": "stdout",
     "output_type": "stream",
     "text": [
      "LES distance between ImageNet-conv5 and Clipart-conv4:13.277028746050437\n",
      "LES distance between ImageNet-conv5 and Clipart-conv5:17.823294870443977\n",
      "LES distance between ImageNet-conv5 and ImageNet-conv1:1.9268575003107538\n",
      "LES distance between ImageNet-conv5 and ImageNet-conv2:3.326653727278582\n",
      "LES distance between ImageNet-conv5 and ImageNet-conv3:8.318201285302544\n"
     ]
    },
    {
     "name": "stderr",
     "output_type": "stream",
     "text": [
      "\n",
      "2it [00:00,  2.01it/s]\u001b[A"
     ]
    },
    {
     "name": "stdout",
     "output_type": "stream",
     "text": [
      "LES distance between ImageNet-conv5 and ImageNet-conv4:13.277028746050426\n",
      "LES distance between ImageNet-conv5 and ImageNet-conv5:17.823294870443984\n",
      "LES distance between ImageNet-conv5 and Infograph-conv1:1.9268575003107542\n",
      "LES distance between ImageNet-conv5 and Infograph-conv2:3.326653727278589\n",
      "LES distance between ImageNet-conv5 and Infograph-conv3:8.318201285302548\n"
     ]
    },
    {
     "name": "stderr",
     "output_type": "stream",
     "text": [
      "\n",
      "3it [00:01,  1.95it/s]\u001b[A"
     ]
    },
    {
     "name": "stdout",
     "output_type": "stream",
     "text": [
      "LES distance between ImageNet-conv5 and Infograph-conv4:13.277028746050398\n",
      "LES distance between ImageNet-conv5 and Infograph-conv5:17.82329487044405\n",
      "LES distance between ImageNet-conv5 and Paint-conv1:1.926857500310763\n",
      "LES distance between ImageNet-conv5 and Paint-conv2:3.326653727278592\n"
     ]
    },
    {
     "name": "stderr",
     "output_type": "stream",
     "text": [
      "\n",
      "4it [00:02,  1.94it/s]\u001b[A"
     ]
    },
    {
     "name": "stdout",
     "output_type": "stream",
     "text": [
      "LES distance between ImageNet-conv5 and Paint-conv3:8.318201285302532\n",
      "LES distance between ImageNet-conv5 and Paint-conv4:13.277028746050348\n",
      "LES distance between ImageNet-conv5 and Paint-conv5:17.823294870444098\n",
      "LES distance between ImageNet-conv5 and Quickdraw-conv1:1.9268575003107642\n",
      "LES distance between ImageNet-conv5 and Quickdraw-conv2:3.3266537272785786\n"
     ]
    },
    {
     "name": "stderr",
     "output_type": "stream",
     "text": [
      "\n",
      "5it [00:02,  1.96it/s]\u001b[A"
     ]
    },
    {
     "name": "stdout",
     "output_type": "stream",
     "text": [
      "LES distance between ImageNet-conv5 and Quickdraw-conv3:8.318201285302559\n",
      "LES distance between ImageNet-conv5 and Quickdraw-conv4:13.277028746050359\n",
      "LES distance between ImageNet-conv5 and Quickdraw-conv5:17.823294870444016\n",
      "LES distance between ImageNet-conv5 and Real-conv1:1.9268575003107593\n",
      "LES distance between ImageNet-conv5 and Real-conv2:3.3266537272785954\n",
      "LES distance between ImageNet-conv5 and Real-conv3:8.318201285302527\n"
     ]
    },
    {
     "name": "stderr",
     "output_type": "stream",
     "text": [
      "\n",
      "6it [00:03,  1.96it/s]\u001b[A"
     ]
    },
    {
     "name": "stdout",
     "output_type": "stream",
     "text": [
      "LES distance between ImageNet-conv5 and Real-conv4:13.277028746050414\n",
      "LES distance between ImageNet-conv5 and Real-conv5:17.82329487044401\n",
      "LES distance between ImageNet-conv5 and Sketch-conv1:1.926857500310753\n",
      "LES distance between ImageNet-conv5 and Sketch-conv2:3.326653727278603\n"
     ]
    },
    {
     "name": "stderr",
     "output_type": "stream",
     "text": [
      "\n",
      "7it [00:03,  1.96it/s]\u001b[A\n",
      "2it [00:35, 17.88s/it]"
     ]
    },
    {
     "name": "stdout",
     "output_type": "stream",
     "text": [
      "LES distance between ImageNet-conv5 and Sketch-conv3:8.318201285302534\n",
      "LES distance between ImageNet-conv5 and Sketch-conv4:13.277028746050389\n",
      "LES distance between ImageNet-conv5 and Sketch-conv5:17.82329487044414\n"
     ]
    },
    {
     "name": "stderr",
     "output_type": "stream",
     "text": [
      "\n",
      "0it [00:00, ?it/s]\u001b[A"
     ]
    },
    {
     "name": "stdout",
     "output_type": "stream",
     "text": [
      "LES distance between Infograph-conv1 and Clipart-conv1:0.5486370164818889\n",
      "LES distance between Infograph-conv1 and Clipart-conv2:3.577116567405917\n",
      "LES distance between Infograph-conv1 and Clipart-conv3:8.600033334931132\n",
      "LES distance between Infograph-conv1 and Clipart-conv4:13.54939308564199\n"
     ]
    },
    {
     "name": "stderr",
     "output_type": "stream",
     "text": [
      "\n",
      "1it [00:00,  1.57it/s]\u001b[A"
     ]
    },
    {
     "name": "stdout",
     "output_type": "stream",
     "text": [
      "LES distance between Infograph-conv1 and Clipart-conv5:18.09235620923042\n",
      "LES distance between Infograph-conv1 and ImageNet-conv1:0.5486370164818751\n",
      "LES distance between Infograph-conv1 and ImageNet-conv2:3.5771165674059193\n",
      "LES distance between Infograph-conv1 and ImageNet-conv3:8.600033334931112\n"
     ]
    },
    {
     "name": "stderr",
     "output_type": "stream",
     "text": [
      "\n",
      "2it [00:01,  1.63it/s]\u001b[A"
     ]
    },
    {
     "name": "stdout",
     "output_type": "stream",
     "text": [
      "LES distance between Infograph-conv1 and ImageNet-conv4:13.549393085642034\n",
      "LES distance between Infograph-conv1 and ImageNet-conv5:18.092356209230502\n",
      "LES distance between Infograph-conv1 and Infograph-conv1:0.5486370164818877\n",
      "LES distance between Infograph-conv1 and Infograph-conv2:3.577116567405921\n",
      "LES distance between Infograph-conv1 and Infograph-conv3:8.600033334931126\n",
      "LES distance between Infograph-conv1 and Infograph-conv4:13.549393085642023\n"
     ]
    },
    {
     "name": "stderr",
     "output_type": "stream",
     "text": [
      "\n",
      "3it [00:01,  1.66it/s]\u001b[A"
     ]
    },
    {
     "name": "stdout",
     "output_type": "stream",
     "text": [
      "LES distance between Infograph-conv1 and Infograph-conv5:18.0923562092305\n",
      "LES distance between Infograph-conv1 and Paint-conv1:0.5486370164818833\n",
      "LES distance between Infograph-conv1 and Paint-conv2:3.577116567405915\n",
      "LES distance between Infograph-conv1 and Paint-conv3:8.60003333493109\n"
     ]
    },
    {
     "name": "stderr",
     "output_type": "stream",
     "text": [
      "\n",
      "4it [00:02,  1.66it/s]\u001b[A"
     ]
    },
    {
     "name": "stdout",
     "output_type": "stream",
     "text": [
      "LES distance between Infograph-conv1 and Paint-conv4:13.549393085641997\n",
      "LES distance between Infograph-conv1 and Paint-conv5:18.092356209230367\n",
      "LES distance between Infograph-conv1 and Quickdraw-conv1:0.5486370164818702\n",
      "LES distance between Infograph-conv1 and Quickdraw-conv2:3.577116567405922\n",
      "LES distance between Infograph-conv1 and Quickdraw-conv3:8.600033334931105\n",
      "LES distance between Infograph-conv1 and Quickdraw-conv4:13.549393085642066\n"
     ]
    },
    {
     "name": "stderr",
     "output_type": "stream",
     "text": [
      "\n",
      "5it [00:03,  1.65it/s]\u001b[A"
     ]
    },
    {
     "name": "stdout",
     "output_type": "stream",
     "text": [
      "LES distance between Infograph-conv1 and Quickdraw-conv5:18.09235620923048\n",
      "LES distance between Infograph-conv1 and Real-conv1:0.5486370164818437\n",
      "LES distance between Infograph-conv1 and Real-conv2:3.577116567405917\n",
      "LES distance between Infograph-conv1 and Real-conv3:8.600033334931114\n"
     ]
    },
    {
     "name": "stderr",
     "output_type": "stream",
     "text": [
      "\n",
      "6it [00:03,  1.67it/s]\u001b[A"
     ]
    },
    {
     "name": "stdout",
     "output_type": "stream",
     "text": [
      "LES distance between Infograph-conv1 and Real-conv4:13.549393085642034\n",
      "LES distance between Infograph-conv1 and Real-conv5:18.092356209230385\n",
      "LES distance between Infograph-conv1 and Sketch-conv1:0.5486370164818725\n",
      "LES distance between Infograph-conv1 and Sketch-conv2:3.57711656740591\n",
      "LES distance between Infograph-conv1 and Sketch-conv3:8.600033334931117\n",
      "LES distance between Infograph-conv1 and Sketch-conv4:13.549393085641997\n"
     ]
    },
    {
     "name": "stderr",
     "output_type": "stream",
     "text": [
      "\n",
      "7it [00:04,  1.65it/s]\u001b[A\n"
     ]
    },
    {
     "name": "stdout",
     "output_type": "stream",
     "text": [
      "LES distance between Infograph-conv1 and Sketch-conv5:18.092356209230395\n"
     ]
    },
    {
     "name": "stderr",
     "output_type": "stream",
     "text": [
      "\n",
      "0it [00:00, ?it/s]\u001b[A"
     ]
    },
    {
     "name": "stdout",
     "output_type": "stream",
     "text": [
      "LES distance between Infograph-conv2 and Clipart-conv1:6.212316403022959\n",
      "LES distance between Infograph-conv2 and Clipart-conv2:2.451545792656426\n",
      "LES distance between Infograph-conv2 and Clipart-conv3:2.8937075692703775\n",
      "LES distance between Infograph-conv2 and Clipart-conv4:7.8297761976076385\n"
     ]
    },
    {
     "name": "stderr",
     "output_type": "stream",
     "text": [
      "\n",
      "1it [00:00,  1.87it/s]\u001b[A"
     ]
    },
    {
     "name": "stdout",
     "output_type": "stream",
     "text": [
      "LES distance between Infograph-conv2 and Clipart-conv5:12.364408176943838\n",
      "LES distance between Infograph-conv2 and ImageNet-conv1:6.212316403022947\n",
      "LES distance between Infograph-conv2 and ImageNet-conv2:2.4515457926564386\n",
      "LES distance between Infograph-conv2 and ImageNet-conv3:2.8937075692703607\n",
      "LES distance between Infograph-conv2 and ImageNet-conv4:7.829776197607705\n"
     ]
    },
    {
     "name": "stderr",
     "output_type": "stream",
     "text": [
      "\n",
      "2it [00:01,  1.93it/s]\u001b[A"
     ]
    },
    {
     "name": "stdout",
     "output_type": "stream",
     "text": [
      "LES distance between Infograph-conv2 and ImageNet-conv5:12.36440817694369\n",
      "LES distance between Infograph-conv2 and Infograph-conv1:6.212316403022941\n",
      "LES distance between Infograph-conv2 and Infograph-conv2:2.451545792656475\n",
      "LES distance between Infograph-conv2 and Infograph-conv3:2.89370756927035\n",
      "LES distance between Infograph-conv2 and Infograph-conv4:7.829776197607648\n"
     ]
    },
    {
     "name": "stderr",
     "output_type": "stream",
     "text": [
      "\n",
      "3it [00:01,  1.90it/s]\u001b[A"
     ]
    },
    {
     "name": "stdout",
     "output_type": "stream",
     "text": [
      "LES distance between Infograph-conv2 and Infograph-conv5:12.36440817694372\n",
      "LES distance between Infograph-conv2 and Paint-conv1:6.212316403022932\n",
      "LES distance between Infograph-conv2 and Paint-conv2:2.4515457926564292\n",
      "LES distance between Infograph-conv2 and Paint-conv3:2.8937075692703687\n",
      "LES distance between Infograph-conv2 and Paint-conv4:7.829776197607642\n"
     ]
    },
    {
     "name": "stderr",
     "output_type": "stream",
     "text": [
      "\n",
      "4it [00:02,  1.89it/s]\u001b[A"
     ]
    },
    {
     "name": "stdout",
     "output_type": "stream",
     "text": [
      "LES distance between Infograph-conv2 and Paint-conv5:12.364408176943698\n",
      "LES distance between Infograph-conv2 and Quickdraw-conv1:6.212316403022928\n",
      "LES distance between Infograph-conv2 and Quickdraw-conv2:2.4515457926564457\n",
      "LES distance between Infograph-conv2 and Quickdraw-conv3:2.8937075692703615\n",
      "LES distance between Infograph-conv2 and Quickdraw-conv4:7.829776197607636\n"
     ]
    },
    {
     "name": "stderr",
     "output_type": "stream",
     "text": [
      "\n",
      "5it [00:02,  1.90it/s]\u001b[A"
     ]
    },
    {
     "name": "stdout",
     "output_type": "stream",
     "text": [
      "LES distance between Infograph-conv2 and Quickdraw-conv5:12.36440817694379\n",
      "LES distance between Infograph-conv2 and Real-conv1:6.212316403022942\n",
      "LES distance between Infograph-conv2 and Real-conv2:2.451545792656462\n",
      "LES distance between Infograph-conv2 and Real-conv3:2.8937075692703718\n",
      "LES distance between Infograph-conv2 and Real-conv4:7.829776197607685\n"
     ]
    },
    {
     "name": "stderr",
     "output_type": "stream",
     "text": [
      "\n",
      "6it [00:03,  1.92it/s]\u001b[A"
     ]
    },
    {
     "name": "stdout",
     "output_type": "stream",
     "text": [
      "LES distance between Infograph-conv2 and Real-conv5:12.3644081769437\n",
      "LES distance between Infograph-conv2 and Sketch-conv1:6.212316403022935\n",
      "LES distance between Infograph-conv2 and Sketch-conv2:2.451545792656426\n",
      "LES distance between Infograph-conv2 and Sketch-conv3:2.8937075692703464\n",
      "LES distance between Infograph-conv2 and Sketch-conv4:7.829776197607688\n"
     ]
    },
    {
     "name": "stderr",
     "output_type": "stream",
     "text": [
      "\n",
      "7it [00:03,  1.91it/s]\u001b[A\n"
     ]
    },
    {
     "name": "stdout",
     "output_type": "stream",
     "text": [
      "LES distance between Infograph-conv2 and Sketch-conv5:12.364408176943703\n"
     ]
    },
    {
     "name": "stderr",
     "output_type": "stream",
     "text": [
      "\n",
      "0it [00:00, ?it/s]\u001b[A"
     ]
    },
    {
     "name": "stdout",
     "output_type": "stream",
     "text": [
      "LES distance between Infograph-conv3 and Clipart-conv1:10.426825468620159\n",
      "LES distance between Infograph-conv3 and Clipart-conv2:6.62151792491273\n",
      "LES distance between Infograph-conv3 and Clipart-conv3:1.7132728083578643\n",
      "LES distance between Infograph-conv3 and Clipart-conv4:3.739625354315057\n"
     ]
    },
    {
     "name": "stderr",
     "output_type": "stream",
     "text": [
      "\n",
      "1it [00:00,  2.17it/s]\u001b[A"
     ]
    },
    {
     "name": "stdout",
     "output_type": "stream",
     "text": [
      "LES distance between Infograph-conv3 and Clipart-conv5:8.186405512602555\n",
      "LES distance between Infograph-conv3 and ImageNet-conv1:10.42682546862013\n",
      "LES distance between Infograph-conv3 and ImageNet-conv2:6.621517924912715\n",
      "LES distance between Infograph-conv3 and ImageNet-conv3:1.7132728083579047\n",
      "LES distance between Infograph-conv3 and ImageNet-conv4:3.73962535431505\n"
     ]
    },
    {
     "name": "stderr",
     "output_type": "stream",
     "text": [
      "\n",
      "2it [00:00,  2.08it/s]\u001b[A"
     ]
    },
    {
     "name": "stdout",
     "output_type": "stream",
     "text": [
      "LES distance between Infograph-conv3 and ImageNet-conv5:8.186405512602516\n",
      "LES distance between Infograph-conv3 and Infograph-conv1:10.426825468620144\n",
      "LES distance between Infograph-conv3 and Infograph-conv2:6.6215179249126965\n",
      "LES distance between Infograph-conv3 and Infograph-conv3:1.7132728083578839\n",
      "LES distance between Infograph-conv3 and Infograph-conv4:3.739625354315076\n"
     ]
    },
    {
     "name": "stderr",
     "output_type": "stream",
     "text": [
      "\n",
      "3it [00:01,  2.11it/s]\u001b[A"
     ]
    },
    {
     "name": "stdout",
     "output_type": "stream",
     "text": [
      "LES distance between Infograph-conv3 and Infograph-conv5:8.186405512602631\n",
      "LES distance between Infograph-conv3 and Paint-conv1:10.426825468620136\n",
      "LES distance between Infograph-conv3 and Paint-conv2:6.621517924912711\n",
      "LES distance between Infograph-conv3 and Paint-conv3:1.7132728083578608\n",
      "LES distance between Infograph-conv3 and Paint-conv4:3.739625354315009\n"
     ]
    },
    {
     "name": "stderr",
     "output_type": "stream",
     "text": [
      "\n",
      "4it [00:01,  2.08it/s]\u001b[A"
     ]
    },
    {
     "name": "stdout",
     "output_type": "stream",
     "text": [
      "LES distance between Infograph-conv3 and Paint-conv5:8.186405512602528\n",
      "LES distance between Infograph-conv3 and Quickdraw-conv1:10.426825468620114\n",
      "LES distance between Infograph-conv3 and Quickdraw-conv2:6.6215179249127205\n",
      "LES distance between Infograph-conv3 and Quickdraw-conv3:1.713272808357911\n",
      "LES distance between Infograph-conv3 and Quickdraw-conv4:3.7396253543150366\n"
     ]
    },
    {
     "name": "stderr",
     "output_type": "stream",
     "text": [
      "\n",
      "5it [00:02,  2.11it/s]\u001b[A"
     ]
    },
    {
     "name": "stdout",
     "output_type": "stream",
     "text": [
      "LES distance between Infograph-conv3 and Quickdraw-conv5:8.186405512602533\n",
      "LES distance between Infograph-conv3 and Real-conv1:10.426825468620105\n",
      "LES distance between Infograph-conv3 and Real-conv2:6.621517924912723\n",
      "LES distance between Infograph-conv3 and Real-conv3:1.7132728083579074\n",
      "LES distance between Infograph-conv3 and Real-conv4:3.739625354315019\n"
     ]
    },
    {
     "name": "stderr",
     "output_type": "stream",
     "text": [
      "\n",
      "6it [00:02,  2.10it/s]\u001b[A"
     ]
    },
    {
     "name": "stdout",
     "output_type": "stream",
     "text": [
      "LES distance between Infograph-conv3 and Real-conv5:8.18640551260258\n",
      "LES distance between Infograph-conv3 and Sketch-conv1:10.426825468620123\n",
      "LES distance between Infograph-conv3 and Sketch-conv2:6.621517924912694\n",
      "LES distance between Infograph-conv3 and Sketch-conv3:1.7132728083578954\n",
      "LES distance between Infograph-conv3 and Sketch-conv4:3.7396253543150433\n"
     ]
    },
    {
     "name": "stderr",
     "output_type": "stream",
     "text": [
      "\n",
      "7it [00:03,  2.11it/s]\u001b[A\n"
     ]
    },
    {
     "name": "stdout",
     "output_type": "stream",
     "text": [
      "LES distance between Infograph-conv3 and Sketch-conv5:8.18640551260258\n"
     ]
    },
    {
     "name": "stderr",
     "output_type": "stream",
     "text": [
      "\n",
      "0it [00:00, ?it/s]\u001b[A"
     ]
    },
    {
     "name": "stdout",
     "output_type": "stream",
     "text": [
      "LES distance between Infograph-conv4 and Clipart-conv1:14.248169381984\n",
      "LES distance between Infograph-conv4 and Clipart-conv2:10.415937651428898\n",
      "LES distance between Infograph-conv4 and Clipart-conv3:5.36194443642794\n"
     ]
    },
    {
     "name": "stderr",
     "output_type": "stream",
     "text": [
      "\n",
      "1it [00:00,  2.24it/s]\u001b[A"
     ]
    },
    {
     "name": "stdout",
     "output_type": "stream",
     "text": [
      "LES distance between Infograph-conv4 and Clipart-conv4:1.5024013478861502\n",
      "LES distance between Infograph-conv4 and Clipart-conv5:4.556139264169554\n",
      "LES distance between Infograph-conv4 and ImageNet-conv1:14.248169381983995\n",
      "LES distance between Infograph-conv4 and ImageNet-conv2:10.415937651428901\n",
      "LES distance between Infograph-conv4 and ImageNet-conv3:5.3619444364278985\n",
      "LES distance between Infograph-conv4 and ImageNet-conv4:1.5024013478860576\n"
     ]
    },
    {
     "name": "stderr",
     "output_type": "stream",
     "text": [
      "\n",
      "2it [00:00,  2.28it/s]\u001b[A"
     ]
    },
    {
     "name": "stdout",
     "output_type": "stream",
     "text": [
      "LES distance between Infograph-conv4 and ImageNet-conv5:4.556139264169486\n",
      "LES distance between Infograph-conv4 and Infograph-conv1:14.248169381983956\n",
      "LES distance between Infograph-conv4 and Infograph-conv2:10.415937651428889\n",
      "LES distance between Infograph-conv4 and Infograph-conv3:5.361944436427925\n",
      "LES distance between Infograph-conv4 and Infograph-conv4:1.5024013478860916\n"
     ]
    },
    {
     "name": "stderr",
     "output_type": "stream",
     "text": [
      "\n",
      "3it [00:01,  2.32it/s]\u001b[A"
     ]
    },
    {
     "name": "stdout",
     "output_type": "stream",
     "text": [
      "LES distance between Infograph-conv4 and Infograph-conv5:4.5561392641694685\n",
      "LES distance between Infograph-conv4 and Paint-conv1:14.248169381984015\n",
      "LES distance between Infograph-conv4 and Paint-conv2:10.415937651428887\n",
      "LES distance between Infograph-conv4 and Paint-conv3:5.361944436427976\n",
      "LES distance between Infograph-conv4 and Paint-conv4:1.5024013478860618\n"
     ]
    },
    {
     "name": "stderr",
     "output_type": "stream",
     "text": [
      "\n",
      "4it [00:01,  2.32it/s]\u001b[A"
     ]
    },
    {
     "name": "stdout",
     "output_type": "stream",
     "text": [
      "LES distance between Infograph-conv4 and Paint-conv5:4.556139264169447\n",
      "LES distance between Infograph-conv4 and Quickdraw-conv1:14.248169381983994\n",
      "LES distance between Infograph-conv4 and Quickdraw-conv2:10.415937651428797\n",
      "LES distance between Infograph-conv4 and Quickdraw-conv3:5.36194443642794\n",
      "LES distance between Infograph-conv4 and Quickdraw-conv4:1.5024013478861287\n"
     ]
    },
    {
     "name": "stderr",
     "output_type": "stream",
     "text": [
      "\n",
      "5it [00:02,  2.29it/s]\u001b[A"
     ]
    },
    {
     "name": "stdout",
     "output_type": "stream",
     "text": [
      "LES distance between Infograph-conv4 and Quickdraw-conv5:4.556139264169531\n",
      "LES distance between Infograph-conv4 and Real-conv1:14.248169381984047\n",
      "LES distance between Infograph-conv4 and Real-conv2:10.415937651428813\n"
     ]
    },
    {
     "name": "stderr",
     "output_type": "stream",
     "text": [
      "\n",
      "6it [00:02,  2.29it/s]\u001b[A"
     ]
    },
    {
     "name": "stdout",
     "output_type": "stream",
     "text": [
      "LES distance between Infograph-conv4 and Real-conv3:5.361944436427931\n",
      "LES distance between Infograph-conv4 and Real-conv4:1.5024013478861304\n",
      "LES distance between Infograph-conv4 and Real-conv5:4.556139264169509\n",
      "LES distance between Infograph-conv4 and Sketch-conv1:14.248169381983962\n",
      "LES distance between Infograph-conv4 and Sketch-conv2:10.415937651428843\n",
      "LES distance between Infograph-conv4 and Sketch-conv3:5.361944436427938\n"
     ]
    },
    {
     "name": "stderr",
     "output_type": "stream",
     "text": [
      "\n",
      "7it [00:03,  2.28it/s]\u001b[A\n"
     ]
    },
    {
     "name": "stdout",
     "output_type": "stream",
     "text": [
      "LES distance between Infograph-conv4 and Sketch-conv4:1.5024013478861025\n",
      "LES distance between Infograph-conv4 and Sketch-conv5:4.556139264169603\n"
     ]
    },
    {
     "name": "stderr",
     "output_type": "stream",
     "text": [
      "\n",
      "0it [00:00, ?it/s]\u001b[A"
     ]
    },
    {
     "name": "stdout",
     "output_type": "stream",
     "text": [
      "LES distance between Infograph-conv5 and Clipart-conv1:18.24542593303063\n",
      "LES distance between Infograph-conv5 and Clipart-conv2:14.418773871552087\n",
      "LES distance between Infograph-conv5 and Clipart-conv3:9.32551052067812\n"
     ]
    },
    {
     "name": "stderr",
     "output_type": "stream",
     "text": [
      "\n",
      "1it [00:00,  2.12it/s]\u001b[A"
     ]
    },
    {
     "name": "stdout",
     "output_type": "stream",
     "text": [
      "LES distance between Infograph-conv5 and Clipart-conv4:4.522782535288158\n",
      "LES distance between Infograph-conv5 and Clipart-conv5:1.4809552189291655\n",
      "LES distance between Infograph-conv5 and ImageNet-conv1:18.245425933030557\n",
      "LES distance between Infograph-conv5 and ImageNet-conv2:14.418773871552158\n",
      "LES distance between Infograph-conv5 and ImageNet-conv3:9.325510520677984\n"
     ]
    },
    {
     "name": "stderr",
     "output_type": "stream",
     "text": [
      "\n",
      "2it [00:00,  2.10it/s]\u001b[A"
     ]
    },
    {
     "name": "stdout",
     "output_type": "stream",
     "text": [
      "LES distance between Infograph-conv5 and ImageNet-conv4:4.522782535288179\n",
      "LES distance between Infograph-conv5 and ImageNet-conv5:1.480955218929144\n",
      "LES distance between Infograph-conv5 and Infograph-conv1:18.245425933030536\n",
      "LES distance between Infograph-conv5 and Infograph-conv2:14.418773871552252\n",
      "LES distance between Infograph-conv5 and Infograph-conv3:9.325510520678105\n"
     ]
    },
    {
     "name": "stderr",
     "output_type": "stream",
     "text": [
      "\n",
      "3it [00:01,  2.13it/s]\u001b[A"
     ]
    },
    {
     "name": "stdout",
     "output_type": "stream",
     "text": [
      "LES distance between Infograph-conv5 and Infograph-conv4:4.522782535288175\n",
      "LES distance between Infograph-conv5 and Infograph-conv5:1.4809552189291741\n",
      "LES distance between Infograph-conv5 and Paint-conv1:18.245425933030575\n",
      "LES distance between Infograph-conv5 and Paint-conv2:14.418773871552203\n",
      "LES distance between Infograph-conv5 and Paint-conv3:9.325510520678076\n",
      "LES distance between Infograph-conv5 and Paint-conv4:4.522782535288258\n"
     ]
    },
    {
     "name": "stderr",
     "output_type": "stream",
     "text": [
      "\n",
      "4it [00:01,  2.22it/s]\u001b[A"
     ]
    },
    {
     "name": "stdout",
     "output_type": "stream",
     "text": [
      "LES distance between Infograph-conv5 and Paint-conv5:1.4809552189291586\n",
      "LES distance between Infograph-conv5 and Quickdraw-conv1:18.24542593303064\n",
      "LES distance between Infograph-conv5 and Quickdraw-conv2:14.418773871552096\n"
     ]
    },
    {
     "name": "stderr",
     "output_type": "stream",
     "text": [
      "\n",
      "5it [00:02,  2.24it/s]\u001b[A"
     ]
    },
    {
     "name": "stdout",
     "output_type": "stream",
     "text": [
      "LES distance between Infograph-conv5 and Quickdraw-conv3:9.325510520678032\n",
      "LES distance between Infograph-conv5 and Quickdraw-conv4:4.52278253528816\n",
      "LES distance between Infograph-conv5 and Quickdraw-conv5:1.4809552189291488\n",
      "LES distance between Infograph-conv5 and Real-conv1:18.245425933030567\n",
      "LES distance between Infograph-conv5 and Real-conv2:14.418773871552089\n",
      "LES distance between Infograph-conv5 and Real-conv3:9.325510520678074\n"
     ]
    },
    {
     "name": "stderr",
     "output_type": "stream",
     "text": [
      "\n",
      "6it [00:02,  2.23it/s]\u001b[A"
     ]
    },
    {
     "name": "stdout",
     "output_type": "stream",
     "text": [
      "LES distance between Infograph-conv5 and Real-conv4:4.522782535288224\n",
      "LES distance between Infograph-conv5 and Real-conv5:1.4809552189291468\n",
      "LES distance between Infograph-conv5 and Sketch-conv1:18.245425933030553\n",
      "LES distance between Infograph-conv5 and Sketch-conv2:14.418773871552048\n",
      "LES distance between Infograph-conv5 and Sketch-conv3:9.325510520678018\n",
      "LES distance between Infograph-conv5 and Sketch-conv4:4.5227825352882425\n"
     ]
    },
    {
     "name": "stderr",
     "output_type": "stream",
     "text": [
      "\n",
      "7it [00:03,  2.20it/s]\u001b[A\n",
      "3it [00:52, 17.69s/it]"
     ]
    },
    {
     "name": "stdout",
     "output_type": "stream",
     "text": [
      "LES distance between Infograph-conv5 and Sketch-conv5:1.480955218929172\n"
     ]
    },
    {
     "name": "stderr",
     "output_type": "stream",
     "text": [
      "\n",
      "0it [00:00, ?it/s]\u001b[A"
     ]
    },
    {
     "name": "stdout",
     "output_type": "stream",
     "text": [
      "LES distance between Paint-conv1 and Clipart-conv1:2.8218382086572182\n",
      "LES distance between Paint-conv1 and Clipart-conv2:6.5655935237907785\n",
      "LES distance between Paint-conv1 and Clipart-conv3:11.626670327634276\n",
      "LES distance between Paint-conv1 and Clipart-conv4:16.55449901251671\n"
     ]
    },
    {
     "name": "stderr",
     "output_type": "stream",
     "text": [
      "\n",
      "1it [00:00,  1.70it/s]\u001b[A"
     ]
    },
    {
     "name": "stdout",
     "output_type": "stream",
     "text": [
      "LES distance between Paint-conv1 and Clipart-conv5:21.107128683161935\n",
      "LES distance between Paint-conv1 and ImageNet-conv1:2.8218382086572102\n",
      "LES distance between Paint-conv1 and ImageNet-conv2:6.565593523790782\n",
      "LES distance between Paint-conv1 and ImageNet-conv3:11.626670327634294\n",
      "LES distance between Paint-conv1 and ImageNet-conv4:16.554499012516683\n"
     ]
    },
    {
     "name": "stderr",
     "output_type": "stream",
     "text": [
      "\n",
      "2it [00:01,  1.71it/s]\u001b[A"
     ]
    },
    {
     "name": "stdout",
     "output_type": "stream",
     "text": [
      "LES distance between Paint-conv1 and ImageNet-conv5:21.107128683162\n",
      "LES distance between Paint-conv1 and Infograph-conv1:2.8218382086572062\n",
      "LES distance between Paint-conv1 and Infograph-conv2:6.565593523790774\n",
      "LES distance between Paint-conv1 and Infograph-conv3:11.626670327634287\n",
      "LES distance between Paint-conv1 and Infograph-conv4:16.554499012516704\n"
     ]
    },
    {
     "name": "stderr",
     "output_type": "stream",
     "text": [
      "\n",
      "3it [00:01,  1.66it/s]\u001b[A"
     ]
    },
    {
     "name": "stdout",
     "output_type": "stream",
     "text": [
      "LES distance between Paint-conv1 and Infograph-conv5:21.10712868316207\n",
      "LES distance between Paint-conv1 and Paint-conv1:2.821838208657219\n",
      "LES distance between Paint-conv1 and Paint-conv2:6.5655935237907785\n",
      "LES distance between Paint-conv1 and Paint-conv3:11.626670327634285\n",
      "LES distance between Paint-conv1 and Paint-conv4:16.554499012516686\n"
     ]
    },
    {
     "name": "stderr",
     "output_type": "stream",
     "text": [
      "\n",
      "4it [00:02,  1.69it/s]\u001b[A"
     ]
    },
    {
     "name": "stdout",
     "output_type": "stream",
     "text": [
      "LES distance between Paint-conv1 and Paint-conv5:21.107128683162028\n",
      "LES distance between Paint-conv1 and Quickdraw-conv1:2.8218382086572147\n",
      "LES distance between Paint-conv1 and Quickdraw-conv2:6.565593523790795\n",
      "LES distance between Paint-conv1 and Quickdraw-conv3:11.626670327634256\n",
      "LES distance between Paint-conv1 and Quickdraw-conv4:16.554499012516747\n"
     ]
    },
    {
     "name": "stderr",
     "output_type": "stream",
     "text": [
      "\n",
      "5it [00:02,  1.71it/s]\u001b[A"
     ]
    },
    {
     "name": "stdout",
     "output_type": "stream",
     "text": [
      "LES distance between Paint-conv1 and Quickdraw-conv5:21.10712868316199\n",
      "LES distance between Paint-conv1 and Real-conv1:2.821838208657209\n",
      "LES distance between Paint-conv1 and Real-conv2:6.565593523790795\n",
      "LES distance between Paint-conv1 and Real-conv3:11.62667032763427\n",
      "LES distance between Paint-conv1 and Real-conv4:16.554499012516736\n"
     ]
    },
    {
     "name": "stderr",
     "output_type": "stream",
     "text": [
      "\n",
      "6it [00:03,  1.71it/s]\u001b[A"
     ]
    },
    {
     "name": "stdout",
     "output_type": "stream",
     "text": [
      "LES distance between Paint-conv1 and Real-conv5:21.107128683161957\n",
      "LES distance between Paint-conv1 and Sketch-conv1:2.8218382086572276\n",
      "LES distance between Paint-conv1 and Sketch-conv2:6.565593523790779\n",
      "LES distance between Paint-conv1 and Sketch-conv3:11.626670327634294\n",
      "LES distance between Paint-conv1 and Sketch-conv4:16.55449901251673\n"
     ]
    },
    {
     "name": "stderr",
     "output_type": "stream",
     "text": [
      "\n",
      "7it [00:04,  1.70it/s]\u001b[A\n"
     ]
    },
    {
     "name": "stdout",
     "output_type": "stream",
     "text": [
      "LES distance between Paint-conv1 and Sketch-conv5:21.107128683161978\n"
     ]
    },
    {
     "name": "stderr",
     "output_type": "stream",
     "text": [
      "\n",
      "0it [00:00, ?it/s]\u001b[A"
     ]
    },
    {
     "name": "stdout",
     "output_type": "stream",
     "text": [
      "LES distance between Paint-conv2 and Clipart-conv1:2.61082850701705\n",
      "LES distance between Paint-conv2 and Clipart-conv2:2.1138342995297674\n",
      "LES distance between Paint-conv2 and Clipart-conv3:7.022902903900514\n",
      "LES distance between Paint-conv2 and Clipart-conv4:11.958041281964155\n"
     ]
    },
    {
     "name": "stderr",
     "output_type": "stream",
     "text": [
      "\n",
      "1it [00:00,  1.81it/s]\u001b[A"
     ]
    },
    {
     "name": "stdout",
     "output_type": "stream",
     "text": [
      "LES distance between Paint-conv2 and Clipart-conv5:16.52651987527971\n",
      "LES distance between Paint-conv2 and ImageNet-conv1:2.6108285070170383\n",
      "LES distance between Paint-conv2 and ImageNet-conv2:2.113834299529799\n",
      "LES distance between Paint-conv2 and ImageNet-conv3:7.022902903900493\n",
      "LES distance between Paint-conv2 and ImageNet-conv4:11.95804128196413\n"
     ]
    },
    {
     "name": "stderr",
     "output_type": "stream",
     "text": [
      "\n",
      "2it [00:01,  1.81it/s]\u001b[A"
     ]
    },
    {
     "name": "stdout",
     "output_type": "stream",
     "text": [
      "LES distance between Paint-conv2 and ImageNet-conv5:16.52651987527976\n",
      "LES distance between Paint-conv2 and Infograph-conv1:2.61082850701705\n",
      "LES distance between Paint-conv2 and Infograph-conv2:2.113834299529779\n",
      "LES distance between Paint-conv2 and Infograph-conv3:7.0229029039004915\n",
      "LES distance between Paint-conv2 and Infograph-conv4:11.958041281964112\n"
     ]
    },
    {
     "name": "stderr",
     "output_type": "stream",
     "text": [
      "\n",
      "3it [00:01,  1.86it/s]\u001b[A"
     ]
    },
    {
     "name": "stdout",
     "output_type": "stream",
     "text": [
      "LES distance between Paint-conv2 and Infograph-conv5:16.526519875279664\n",
      "LES distance between Paint-conv2 and Paint-conv1:2.6108285070170396\n",
      "LES distance between Paint-conv2 and Paint-conv2:2.113834299529789\n",
      "LES distance between Paint-conv2 and Paint-conv3:7.022902903900499\n"
     ]
    },
    {
     "name": "stderr",
     "output_type": "stream",
     "text": [
      "\n",
      "4it [00:02,  1.87it/s]\u001b[A"
     ]
    },
    {
     "name": "stdout",
     "output_type": "stream",
     "text": [
      "LES distance between Paint-conv2 and Paint-conv4:11.958041281964144\n",
      "LES distance between Paint-conv2 and Paint-conv5:16.526519875279742\n",
      "LES distance between Paint-conv2 and Quickdraw-conv1:2.610828507017036\n",
      "LES distance between Paint-conv2 and Quickdraw-conv2:2.1138342995297736\n"
     ]
    },
    {
     "name": "stderr",
     "output_type": "stream",
     "text": [
      "\n",
      "5it [00:02,  1.89it/s]\u001b[A"
     ]
    },
    {
     "name": "stdout",
     "output_type": "stream",
     "text": [
      "LES distance between Paint-conv2 and Quickdraw-conv3:7.022902903900478\n",
      "LES distance between Paint-conv2 and Quickdraw-conv4:11.958041281964158\n",
      "LES distance between Paint-conv2 and Quickdraw-conv5:16.52651987527971\n",
      "LES distance between Paint-conv2 and Real-conv1:2.6108285070170294\n",
      "LES distance between Paint-conv2 and Real-conv2:2.11383429952976\n"
     ]
    },
    {
     "name": "stderr",
     "output_type": "stream",
     "text": [
      "\n",
      "6it [00:03,  1.88it/s]\u001b[A"
     ]
    },
    {
     "name": "stdout",
     "output_type": "stream",
     "text": [
      "LES distance between Paint-conv2 and Real-conv3:7.022902903900491\n",
      "LES distance between Paint-conv2 and Real-conv4:11.958041281964155\n",
      "LES distance between Paint-conv2 and Real-conv5:16.526519875279714\n",
      "LES distance between Paint-conv2 and Sketch-conv1:2.610828507017035\n",
      "LES distance between Paint-conv2 and Sketch-conv2:2.113834299529788\n"
     ]
    },
    {
     "name": "stderr",
     "output_type": "stream",
     "text": [
      "\n",
      "7it [00:03,  1.87it/s]\u001b[A\n"
     ]
    },
    {
     "name": "stdout",
     "output_type": "stream",
     "text": [
      "LES distance between Paint-conv2 and Sketch-conv3:7.022902903900499\n",
      "LES distance between Paint-conv2 and Sketch-conv4:11.958041281964144\n",
      "LES distance between Paint-conv2 and Sketch-conv5:16.526519875279615\n"
     ]
    },
    {
     "name": "stderr",
     "output_type": "stream",
     "text": [
      "\n",
      "0it [00:00, ?it/s]\u001b[A"
     ]
    },
    {
     "name": "stdout",
     "output_type": "stream",
     "text": [
      "LES distance between Paint-conv3 and Clipart-conv1:5.656741528434819\n",
      "LES distance between Paint-conv3 and Clipart-conv2:1.9109411436356805\n",
      "LES distance between Paint-conv3 and Clipart-conv3:3.7371495224334343\n"
     ]
    },
    {
     "name": "stderr",
     "output_type": "stream",
     "text": [
      "\n",
      "1it [00:00,  2.14it/s]\u001b[A"
     ]
    },
    {
     "name": "stdout",
     "output_type": "stream",
     "text": [
      "LES distance between Paint-conv3 and Clipart-conv4:8.622486511724336\n",
      "LES distance between Paint-conv3 and Clipart-conv5:13.182035355280094\n",
      "LES distance between Paint-conv3 and ImageNet-conv1:5.656741528434823\n",
      "LES distance between Paint-conv3 and ImageNet-conv2:1.9109411436356578\n",
      "LES distance between Paint-conv3 and ImageNet-conv3:3.7371495224334055\n",
      "LES distance between Paint-conv3 and ImageNet-conv4:8.622486511724325\n"
     ]
    },
    {
     "name": "stderr",
     "output_type": "stream",
     "text": [
      "\n",
      "2it [00:00,  2.23it/s]\u001b[A"
     ]
    },
    {
     "name": "stdout",
     "output_type": "stream",
     "text": [
      "LES distance between Paint-conv3 and ImageNet-conv5:13.1820353552801\n",
      "LES distance between Paint-conv3 and Infograph-conv1:5.656741528434834\n",
      "LES distance between Paint-conv3 and Infograph-conv2:1.9109411436356707\n",
      "LES distance between Paint-conv3 and Infograph-conv3:3.737149522433418\n",
      "LES distance between Paint-conv3 and Infograph-conv4:8.622486511724336\n"
     ]
    },
    {
     "name": "stderr",
     "output_type": "stream",
     "text": [
      "\n",
      "3it [00:01,  2.20it/s]\u001b[A"
     ]
    },
    {
     "name": "stdout",
     "output_type": "stream",
     "text": [
      "LES distance between Paint-conv3 and Infograph-conv5:13.182035355280009\n",
      "LES distance between Paint-conv3 and Paint-conv1:5.656741528434835\n",
      "LES distance between Paint-conv3 and Paint-conv2:1.9109411436356831\n",
      "LES distance between Paint-conv3 and Paint-conv3:3.7371495224334024\n",
      "LES distance between Paint-conv3 and Paint-conv4:8.622486511724313\n"
     ]
    },
    {
     "name": "stderr",
     "output_type": "stream",
     "text": [
      "\n",
      "4it [00:01,  2.19it/s]\u001b[A"
     ]
    },
    {
     "name": "stdout",
     "output_type": "stream",
     "text": [
      "LES distance between Paint-conv3 and Paint-conv5:13.182035355280165\n",
      "LES distance between Paint-conv3 and Quickdraw-conv1:5.656741528434819\n",
      "LES distance between Paint-conv3 and Quickdraw-conv2:1.9109411436356747\n",
      "LES distance between Paint-conv3 and Quickdraw-conv3:3.737149522433399\n",
      "LES distance between Paint-conv3 and Quickdraw-conv4:8.62248651172433\n"
     ]
    },
    {
     "name": "stderr",
     "output_type": "stream",
     "text": [
      "\n",
      "5it [00:02,  2.16it/s]\u001b[A"
     ]
    },
    {
     "name": "stdout",
     "output_type": "stream",
     "text": [
      "LES distance between Paint-conv3 and Quickdraw-conv5:13.18203535528009\n",
      "LES distance between Paint-conv3 and Real-conv1:5.656741528434834\n",
      "LES distance between Paint-conv3 and Real-conv2:1.910941143635669\n",
      "LES distance between Paint-conv3 and Real-conv3:3.73714952243344\n",
      "LES distance between Paint-conv3 and Real-conv4:8.622486511724349\n"
     ]
    },
    {
     "name": "stderr",
     "output_type": "stream",
     "text": [
      "\n",
      "6it [00:02,  2.11it/s]\u001b[A"
     ]
    },
    {
     "name": "stdout",
     "output_type": "stream",
     "text": [
      "LES distance between Paint-conv3 and Real-conv5:13.18203535528003\n",
      "LES distance between Paint-conv3 and Sketch-conv1:5.656741528434848\n",
      "LES distance between Paint-conv3 and Sketch-conv2:1.9109411436356567\n",
      "LES distance between Paint-conv3 and Sketch-conv3:3.737149522433414\n",
      "LES distance between Paint-conv3 and Sketch-conv4:8.622486511724329\n"
     ]
    },
    {
     "name": "stderr",
     "output_type": "stream",
     "text": [
      "\n",
      "7it [00:03,  2.13it/s]\u001b[A\n"
     ]
    },
    {
     "name": "stdout",
     "output_type": "stream",
     "text": [
      "LES distance between Paint-conv3 and Sketch-conv5:13.182035355280052\n"
     ]
    },
    {
     "name": "stderr",
     "output_type": "stream",
     "text": [
      "\n",
      "0it [00:00, ?it/s]\u001b[A"
     ]
    },
    {
     "name": "stdout",
     "output_type": "stream",
     "text": [
      "LES distance between Paint-conv4 and Clipart-conv1:9.033326374677117\n",
      "LES distance between Paint-conv4 and Clipart-conv2:5.163927797492601\n",
      "LES distance between Paint-conv4 and Clipart-conv3:1.044813682532455\n",
      "LES distance between Paint-conv4 and Clipart-conv4:5.169241113375197\n"
     ]
    },
    {
     "name": "stderr",
     "output_type": "stream",
     "text": [
      "\n",
      "1it [00:00,  2.28it/s]\u001b[A"
     ]
    },
    {
     "name": "stdout",
     "output_type": "stream",
     "text": [
      "LES distance between Paint-conv4 and Clipart-conv5:9.70249309167575\n",
      "LES distance between Paint-conv4 and ImageNet-conv1:9.033326374677134\n",
      "LES distance between Paint-conv4 and ImageNet-conv2:5.163927797492615\n",
      "LES distance between Paint-conv4 and ImageNet-conv3:1.0448136825324061\n",
      "LES distance between Paint-conv4 and ImageNet-conv4:5.169241113375134\n"
     ]
    },
    {
     "name": "stderr",
     "output_type": "stream",
     "text": [
      "\n",
      "2it [00:00,  2.23it/s]\u001b[A"
     ]
    },
    {
     "name": "stdout",
     "output_type": "stream",
     "text": [
      "LES distance between Paint-conv4 and ImageNet-conv5:9.702493091675734\n",
      "LES distance between Paint-conv4 and Infograph-conv1:9.033326374677106\n",
      "LES distance between Paint-conv4 and Infograph-conv2:5.1639277974925895\n",
      "LES distance between Paint-conv4 and Infograph-conv3:1.0448136825324397\n",
      "LES distance between Paint-conv4 and Infograph-conv4:5.169241113375181\n"
     ]
    },
    {
     "name": "stderr",
     "output_type": "stream",
     "text": [
      "\n",
      "3it [00:01,  2.18it/s]\u001b[A"
     ]
    },
    {
     "name": "stdout",
     "output_type": "stream",
     "text": [
      "LES distance between Paint-conv4 and Infograph-conv5:9.702493091675686\n",
      "LES distance between Paint-conv4 and Paint-conv1:9.033326374677127\n",
      "LES distance between Paint-conv4 and Paint-conv2:5.163927797492609\n",
      "LES distance between Paint-conv4 and Paint-conv3:1.04481368253243\n",
      "LES distance between Paint-conv4 and Paint-conv4:5.169241113375227\n"
     ]
    },
    {
     "name": "stderr",
     "output_type": "stream",
     "text": [
      "\n",
      "4it [00:01,  2.20it/s]\u001b[A"
     ]
    },
    {
     "name": "stdout",
     "output_type": "stream",
     "text": [
      "LES distance between Paint-conv4 and Paint-conv5:9.702493091675793\n",
      "LES distance between Paint-conv4 and Quickdraw-conv1:9.033326374677095\n",
      "LES distance between Paint-conv4 and Quickdraw-conv2:5.163927797492619\n",
      "LES distance between Paint-conv4 and Quickdraw-conv3:1.0448136825324281\n",
      "LES distance between Paint-conv4 and Quickdraw-conv4:5.16924111337519\n"
     ]
    },
    {
     "name": "stderr",
     "output_type": "stream",
     "text": [
      "\n",
      "5it [00:02,  2.19it/s]\u001b[A"
     ]
    },
    {
     "name": "stdout",
     "output_type": "stream",
     "text": [
      "LES distance between Paint-conv4 and Quickdraw-conv5:9.702493091675818\n",
      "LES distance between Paint-conv4 and Real-conv1:9.033326374677099\n",
      "LES distance between Paint-conv4 and Real-conv2:5.1639277974925974\n",
      "LES distance between Paint-conv4 and Real-conv3:1.0448136825324483\n",
      "LES distance between Paint-conv4 and Real-conv4:5.169241113375154\n"
     ]
    },
    {
     "name": "stderr",
     "output_type": "stream",
     "text": [
      "\n",
      "6it [00:02,  2.18it/s]\u001b[A"
     ]
    },
    {
     "name": "stdout",
     "output_type": "stream",
     "text": [
      "LES distance between Paint-conv4 and Real-conv5:9.702493091675759\n",
      "LES distance between Paint-conv4 and Sketch-conv1:9.033326374677115\n",
      "LES distance between Paint-conv4 and Sketch-conv2:5.163927797492587\n"
     ]
    },
    {
     "name": "stderr",
     "output_type": "stream",
     "text": [
      "\n",
      "7it [00:03,  2.20it/s]\u001b[A\n"
     ]
    },
    {
     "name": "stdout",
     "output_type": "stream",
     "text": [
      "LES distance between Paint-conv4 and Sketch-conv3:1.0448136825324497\n",
      "LES distance between Paint-conv4 and Sketch-conv4:5.169241113375272\n",
      "LES distance between Paint-conv4 and Sketch-conv5:9.702493091675779\n"
     ]
    },
    {
     "name": "stderr",
     "output_type": "stream",
     "text": [
      "\n",
      "0it [00:00, ?it/s]\u001b[A"
     ]
    },
    {
     "name": "stdout",
     "output_type": "stream",
     "text": [
      "LES distance between Paint-conv5 and Clipart-conv1:12.739331091792119\n",
      "LES distance between Paint-conv5 and Clipart-conv2:8.881610029823957\n",
      "LES distance between Paint-conv5 and Clipart-conv3:3.8576497734085495\n"
     ]
    },
    {
     "name": "stderr",
     "output_type": "stream",
     "text": [
      "\n",
      "1it [00:00,  2.28it/s]\u001b[A"
     ]
    },
    {
     "name": "stdout",
     "output_type": "stream",
     "text": [
      "LES distance between Paint-conv5 and Clipart-conv4:1.8711540139076146\n",
      "LES distance between Paint-conv5 and Clipart-conv5:6.081831685371004\n",
      "LES distance between Paint-conv5 and ImageNet-conv1:12.739331091792122\n",
      "LES distance between Paint-conv5 and ImageNet-conv2:8.881610029823959\n",
      "LES distance between Paint-conv5 and ImageNet-conv3:3.857649773408535\n",
      "LES distance between Paint-conv5 and ImageNet-conv4:1.8711540139076073\n"
     ]
    },
    {
     "name": "stderr",
     "output_type": "stream",
     "text": [
      "\n",
      "2it [00:00,  2.21it/s]\u001b[A"
     ]
    },
    {
     "name": "stdout",
     "output_type": "stream",
     "text": [
      "LES distance between Paint-conv5 and ImageNet-conv5:6.08183168537099\n",
      "LES distance between Paint-conv5 and Infograph-conv1:12.739331091792112\n",
      "LES distance between Paint-conv5 and Infograph-conv2:8.881610029823936\n",
      "LES distance between Paint-conv5 and Infograph-conv3:3.8576497734085518\n",
      "LES distance between Paint-conv5 and Infograph-conv4:1.8711540139076432\n"
     ]
    },
    {
     "name": "stderr",
     "output_type": "stream",
     "text": [
      "\n",
      "3it [00:01,  2.23it/s]\u001b[A"
     ]
    },
    {
     "name": "stdout",
     "output_type": "stream",
     "text": [
      "LES distance between Paint-conv5 and Infograph-conv5:6.081831685371097\n",
      "LES distance between Paint-conv5 and Paint-conv1:12.73933109179215\n",
      "LES distance between Paint-conv5 and Paint-conv2:8.881610029823944\n"
     ]
    },
    {
     "name": "stderr",
     "output_type": "stream",
     "text": [
      "\n",
      "4it [00:01,  2.30it/s]\u001b[A"
     ]
    },
    {
     "name": "stdout",
     "output_type": "stream",
     "text": [
      "LES distance between Paint-conv5 and Paint-conv3:3.8576497734085495\n",
      "LES distance between Paint-conv5 and Paint-conv4:1.8711540139076033\n",
      "LES distance between Paint-conv5 and Paint-conv5:6.081831685370968\n",
      "LES distance between Paint-conv5 and Quickdraw-conv1:12.73933109179211\n",
      "LES distance between Paint-conv5 and Quickdraw-conv2:8.88161002982394\n",
      "LES distance between Paint-conv5 and Quickdraw-conv3:3.8576497734085553\n"
     ]
    },
    {
     "name": "stderr",
     "output_type": "stream",
     "text": [
      "\n",
      "5it [00:02,  2.31it/s]\u001b[A"
     ]
    },
    {
     "name": "stdout",
     "output_type": "stream",
     "text": [
      "LES distance between Paint-conv5 and Quickdraw-conv4:1.8711540139076144\n",
      "LES distance between Paint-conv5 and Quickdraw-conv5:6.081831685371024\n",
      "LES distance between Paint-conv5 and Real-conv1:12.739331091792165\n",
      "LES distance between Paint-conv5 and Real-conv2:8.881610029823937\n",
      "LES distance between Paint-conv5 and Real-conv3:3.8576497734085624\n",
      "LES distance between Paint-conv5 and Real-conv4:1.8711540139077087\n"
     ]
    },
    {
     "name": "stderr",
     "output_type": "stream",
     "text": [
      "\n",
      "6it [00:02,  2.30it/s]\u001b[A"
     ]
    },
    {
     "name": "stdout",
     "output_type": "stream",
     "text": [
      "LES distance between Paint-conv5 and Real-conv5:6.081831685371115\n",
      "LES distance between Paint-conv5 and Sketch-conv1:12.739331091792161\n",
      "LES distance between Paint-conv5 and Sketch-conv2:8.881610029823952\n",
      "LES distance between Paint-conv5 and Sketch-conv3:3.857649773408554\n",
      "LES distance between Paint-conv5 and Sketch-conv4:1.8711540139076206\n"
     ]
    },
    {
     "name": "stderr",
     "output_type": "stream",
     "text": [
      "\n",
      "7it [00:03,  2.29it/s]\u001b[A\n",
      "4it [01:10, 17.57s/it]"
     ]
    },
    {
     "name": "stdout",
     "output_type": "stream",
     "text": [
      "LES distance between Paint-conv5 and Sketch-conv5:6.081831685370974\n"
     ]
    },
    {
     "name": "stderr",
     "output_type": "stream",
     "text": [
      "\n",
      "0it [00:00, ?it/s]\u001b[A"
     ]
    },
    {
     "name": "stdout",
     "output_type": "stream",
     "text": [
      "LES distance between Quickdraw-conv1 and Clipart-conv1:1.1254640114207415\n",
      "LES distance between Quickdraw-conv1 and Clipart-conv2:4.735971807999074\n",
      "LES distance between Quickdraw-conv1 and Clipart-conv3:9.801367597505465\n",
      "LES distance between Quickdraw-conv1 and Clipart-conv4:14.742337099245624\n"
     ]
    },
    {
     "name": "stderr",
     "output_type": "stream",
     "text": [
      "\n",
      "1it [00:00,  1.67it/s]\u001b[A"
     ]
    },
    {
     "name": "stdout",
     "output_type": "stream",
     "text": [
      "LES distance between Quickdraw-conv1 and Clipart-conv5:19.299600270889847\n",
      "LES distance between Quickdraw-conv1 and ImageNet-conv1:1.1254640114207275\n",
      "LES distance between Quickdraw-conv1 and ImageNet-conv2:4.735971807999082\n",
      "LES distance between Quickdraw-conv1 and ImageNet-conv3:9.801367597505438\n",
      "LES distance between Quickdraw-conv1 and ImageNet-conv4:14.742337099245633\n"
     ]
    },
    {
     "name": "stderr",
     "output_type": "stream",
     "text": [
      "\n",
      "2it [00:01,  1.72it/s]\u001b[A"
     ]
    },
    {
     "name": "stdout",
     "output_type": "stream",
     "text": [
      "LES distance between Quickdraw-conv1 and ImageNet-conv5:19.29960027088984\n",
      "LES distance between Quickdraw-conv1 and Infograph-conv1:1.1254640114207433\n",
      "LES distance between Quickdraw-conv1 and Infograph-conv2:4.735971807999076\n",
      "LES distance between Quickdraw-conv1 and Infograph-conv3:9.801367597505452\n",
      "LES distance between Quickdraw-conv1 and Infograph-conv4:14.742337099245612\n"
     ]
    },
    {
     "name": "stderr",
     "output_type": "stream",
     "text": [
      "\n",
      "3it [00:01,  1.72it/s]\u001b[A"
     ]
    },
    {
     "name": "stdout",
     "output_type": "stream",
     "text": [
      "LES distance between Quickdraw-conv1 and Infograph-conv5:19.299600270889812\n",
      "LES distance between Quickdraw-conv1 and Paint-conv1:1.1254640114207235\n",
      "LES distance between Quickdraw-conv1 and Paint-conv2:4.735971807999094\n",
      "LES distance between Quickdraw-conv1 and Paint-conv3:9.801367597505433\n",
      "LES distance between Quickdraw-conv1 and Paint-conv4:14.742337099245637\n"
     ]
    },
    {
     "name": "stderr",
     "output_type": "stream",
     "text": [
      "\n",
      "4it [00:02,  1.72it/s]\u001b[A"
     ]
    },
    {
     "name": "stdout",
     "output_type": "stream",
     "text": [
      "LES distance between Quickdraw-conv1 and Paint-conv5:19.299600270889876\n",
      "LES distance between Quickdraw-conv1 and Quickdraw-conv1:1.125464011420713\n",
      "LES distance between Quickdraw-conv1 and Quickdraw-conv2:4.73597180799908\n",
      "LES distance between Quickdraw-conv1 and Quickdraw-conv3:9.801367597505454\n",
      "LES distance between Quickdraw-conv1 and Quickdraw-conv4:14.742337099245637\n"
     ]
    },
    {
     "name": "stderr",
     "output_type": "stream",
     "text": [
      "\n",
      "5it [00:02,  1.72it/s]\u001b[A"
     ]
    },
    {
     "name": "stdout",
     "output_type": "stream",
     "text": [
      "LES distance between Quickdraw-conv1 and Quickdraw-conv5:19.29960027088985\n",
      "LES distance between Quickdraw-conv1 and Real-conv1:1.1254640114207424\n",
      "LES distance between Quickdraw-conv1 and Real-conv2:4.735971807999091\n",
      "LES distance between Quickdraw-conv1 and Real-conv3:9.801367597505461\n",
      "LES distance between Quickdraw-conv1 and Real-conv4:14.742337099245686\n"
     ]
    },
    {
     "name": "stderr",
     "output_type": "stream",
     "text": [
      "\n",
      "6it [00:03,  1.64it/s]\u001b[A"
     ]
    },
    {
     "name": "stdout",
     "output_type": "stream",
     "text": [
      "LES distance between Quickdraw-conv1 and Real-conv5:19.299600270889847\n",
      "LES distance between Quickdraw-conv1 and Sketch-conv1:1.1254640114207186\n",
      "LES distance between Quickdraw-conv1 and Sketch-conv2:4.735971807999081\n",
      "LES distance between Quickdraw-conv1 and Sketch-conv3:9.801367597505454\n",
      "LES distance between Quickdraw-conv1 and Sketch-conv4:14.742337099245667\n"
     ]
    },
    {
     "name": "stderr",
     "output_type": "stream",
     "text": [
      "\n",
      "7it [00:04,  1.69it/s]\u001b[A\n"
     ]
    },
    {
     "name": "stdout",
     "output_type": "stream",
     "text": [
      "LES distance between Quickdraw-conv1 and Sketch-conv5:19.299600270889776\n"
     ]
    },
    {
     "name": "stderr",
     "output_type": "stream",
     "text": [
      "\n",
      "0it [00:00, ?it/s]\u001b[A"
     ]
    },
    {
     "name": "stdout",
     "output_type": "stream",
     "text": [
      "LES distance between Quickdraw-conv2 and Clipart-conv1:3.789992968479319\n",
      "LES distance between Quickdraw-conv2 and Clipart-conv2:1.0238816264437245\n",
      "LES distance between Quickdraw-conv2 and Clipart-conv3:5.367593290588053\n",
      "LES distance between Quickdraw-conv2 and Clipart-conv4:10.312642105183208\n"
     ]
    },
    {
     "name": "stderr",
     "output_type": "stream",
     "text": [
      "\n",
      "1it [00:00,  1.80it/s]\u001b[A"
     ]
    },
    {
     "name": "stdout",
     "output_type": "stream",
     "text": [
      "LES distance between Quickdraw-conv2 and Clipart-conv5:14.859346967045106\n",
      "LES distance between Quickdraw-conv2 and ImageNet-conv1:3.789992968479301\n",
      "LES distance between Quickdraw-conv2 and ImageNet-conv2:1.0238816264437183\n",
      "LES distance between Quickdraw-conv2 and ImageNet-conv3:5.3675932905880925\n",
      "LES distance between Quickdraw-conv2 and ImageNet-conv4:10.312642105183242\n"
     ]
    },
    {
     "name": "stderr",
     "output_type": "stream",
     "text": [
      "\n",
      "2it [00:01,  1.89it/s]\u001b[A"
     ]
    },
    {
     "name": "stdout",
     "output_type": "stream",
     "text": [
      "LES distance between Quickdraw-conv2 and ImageNet-conv5:14.859346967045\n",
      "LES distance between Quickdraw-conv2 and Infograph-conv1:3.7899929684793108\n",
      "LES distance between Quickdraw-conv2 and Infograph-conv2:1.023881626443739\n",
      "LES distance between Quickdraw-conv2 and Infograph-conv3:5.367593290588094\n",
      "LES distance between Quickdraw-conv2 and Infograph-conv4:10.312642105183212\n"
     ]
    },
    {
     "name": "stderr",
     "output_type": "stream",
     "text": [
      "\n",
      "3it [00:01,  1.91it/s]\u001b[A"
     ]
    },
    {
     "name": "stdout",
     "output_type": "stream",
     "text": [
      "LES distance between Quickdraw-conv2 and Infograph-conv5:14.859346967045063\n",
      "LES distance between Quickdraw-conv2 and Paint-conv1:3.789992968479317\n",
      "LES distance between Quickdraw-conv2 and Paint-conv2:1.0238816264437272\n",
      "LES distance between Quickdraw-conv2 and Paint-conv3:5.367593290588088\n"
     ]
    },
    {
     "name": "stderr",
     "output_type": "stream",
     "text": [
      "\n",
      "4it [00:02,  1.91it/s]\u001b[A"
     ]
    },
    {
     "name": "stdout",
     "output_type": "stream",
     "text": [
      "LES distance between Quickdraw-conv2 and Paint-conv4:10.312642105183235\n",
      "LES distance between Quickdraw-conv2 and Paint-conv5:14.859346967044972\n",
      "LES distance between Quickdraw-conv2 and Quickdraw-conv1:3.7899929684793148\n",
      "LES distance between Quickdraw-conv2 and Quickdraw-conv2:1.0238816264437218\n"
     ]
    },
    {
     "name": "stderr",
     "output_type": "stream",
     "text": [
      "\n",
      "5it [00:02,  1.92it/s]\u001b[A"
     ]
    },
    {
     "name": "stdout",
     "output_type": "stream",
     "text": [
      "LES distance between Quickdraw-conv2 and Quickdraw-conv3:5.367593290588072\n",
      "LES distance between Quickdraw-conv2 and Quickdraw-conv4:10.312642105183226\n",
      "LES distance between Quickdraw-conv2 and Quickdraw-conv5:14.859346967045079\n",
      "LES distance between Quickdraw-conv2 and Real-conv1:3.789992968479335\n",
      "LES distance between Quickdraw-conv2 and Real-conv2:1.0238816264437411\n",
      "LES distance between Quickdraw-conv2 and Real-conv3:5.3675932905881005\n"
     ]
    },
    {
     "name": "stderr",
     "output_type": "stream",
     "text": [
      "\n",
      "6it [00:03,  1.93it/s]\u001b[A"
     ]
    },
    {
     "name": "stdout",
     "output_type": "stream",
     "text": [
      "LES distance between Quickdraw-conv2 and Real-conv4:10.312642105183269\n",
      "LES distance between Quickdraw-conv2 and Real-conv5:14.859346967045132\n",
      "LES distance between Quickdraw-conv2 and Sketch-conv1:3.78999296847933\n",
      "LES distance between Quickdraw-conv2 and Sketch-conv2:1.023881626443732\n",
      "LES distance between Quickdraw-conv2 and Sketch-conv3:5.367593290588103\n",
      "LES distance between Quickdraw-conv2 and Sketch-conv4:10.312642105183237\n"
     ]
    },
    {
     "name": "stderr",
     "output_type": "stream",
     "text": [
      "\n",
      "7it [00:03,  1.90it/s]\u001b[A\n"
     ]
    },
    {
     "name": "stdout",
     "output_type": "stream",
     "text": [
      "LES distance between Quickdraw-conv2 and Sketch-conv5:14.859346967045068\n"
     ]
    },
    {
     "name": "stderr",
     "output_type": "stream",
     "text": [
      "\n",
      "0it [00:00, ?it/s]\u001b[A"
     ]
    },
    {
     "name": "stdout",
     "output_type": "stream",
     "text": [
      "LES distance between Quickdraw-conv3 and Clipart-conv1:5.854367126984026\n",
      "LES distance between Quickdraw-conv3 and Clipart-conv2:2.160298905585972\n",
      "LES distance between Quickdraw-conv3 and Clipart-conv3:3.3482254046078506\n",
      "LES distance between Quickdraw-conv3 and Clipart-conv4:8.264546640503715\n"
     ]
    },
    {
     "name": "stderr",
     "output_type": "stream",
     "text": [
      "\n",
      "1it [00:00,  2.10it/s]\u001b[A"
     ]
    },
    {
     "name": "stdout",
     "output_type": "stream",
     "text": [
      "LES distance between Quickdraw-conv3 and Clipart-conv5:12.799675210609038\n",
      "LES distance between Quickdraw-conv3 and ImageNet-conv1:5.854367126984014\n",
      "LES distance between Quickdraw-conv3 and ImageNet-conv2:2.1602989055860182\n",
      "LES distance between Quickdraw-conv3 and ImageNet-conv3:3.34822540460789\n",
      "LES distance between Quickdraw-conv3 and ImageNet-conv4:8.264546640503685\n"
     ]
    },
    {
     "name": "stderr",
     "output_type": "stream",
     "text": [
      "\n",
      "2it [00:00,  2.20it/s]\u001b[A"
     ]
    },
    {
     "name": "stdout",
     "output_type": "stream",
     "text": [
      "LES distance between Quickdraw-conv3 and ImageNet-conv5:12.799675210609026\n",
      "LES distance between Quickdraw-conv3 and Infograph-conv1:5.854367126984022\n",
      "LES distance between Quickdraw-conv3 and Infograph-conv2:2.160298905585986\n",
      "LES distance between Quickdraw-conv3 and Infograph-conv3:3.3482254046078412\n",
      "LES distance between Quickdraw-conv3 and Infograph-conv4:8.264546640503724\n"
     ]
    },
    {
     "name": "stderr",
     "output_type": "stream",
     "text": [
      "\n",
      "3it [00:01,  2.23it/s]\u001b[A"
     ]
    },
    {
     "name": "stdout",
     "output_type": "stream",
     "text": [
      "LES distance between Quickdraw-conv3 and Infograph-conv5:12.79967521060894\n",
      "LES distance between Quickdraw-conv3 and Paint-conv1:5.854367126984009\n",
      "LES distance between Quickdraw-conv3 and Paint-conv2:2.160298905585984\n",
      "LES distance between Quickdraw-conv3 and Paint-conv3:3.3482254046078395\n",
      "LES distance between Quickdraw-conv3 and Paint-conv4:8.26454664050375\n"
     ]
    },
    {
     "name": "stderr",
     "output_type": "stream",
     "text": [
      "\n",
      "4it [00:01,  2.21it/s]\u001b[A"
     ]
    },
    {
     "name": "stdout",
     "output_type": "stream",
     "text": [
      "LES distance between Quickdraw-conv3 and Paint-conv5:12.799675210609054\n",
      "LES distance between Quickdraw-conv3 and Quickdraw-conv1:5.854367126984026\n",
      "LES distance between Quickdraw-conv3 and Quickdraw-conv2:2.160298905585971\n"
     ]
    },
    {
     "name": "stderr",
     "output_type": "stream",
     "text": [
      "\n",
      "5it [00:02,  2.21it/s]\u001b[A"
     ]
    },
    {
     "name": "stdout",
     "output_type": "stream",
     "text": [
      "LES distance between Quickdraw-conv3 and Quickdraw-conv3:3.348225404607882\n",
      "LES distance between Quickdraw-conv3 and Quickdraw-conv4:8.264546640503717\n",
      "LES distance between Quickdraw-conv3 and Quickdraw-conv5:12.799675210609031\n",
      "LES distance between Quickdraw-conv3 and Real-conv1:5.8543671269840125\n",
      "LES distance between Quickdraw-conv3 and Real-conv2:2.1602989055859982\n",
      "LES distance between Quickdraw-conv3 and Real-conv3:3.348225404607857\n"
     ]
    },
    {
     "name": "stderr",
     "output_type": "stream",
     "text": [
      "\n",
      "6it [00:02,  2.10it/s]\u001b[A"
     ]
    },
    {
     "name": "stdout",
     "output_type": "stream",
     "text": [
      "LES distance between Quickdraw-conv3 and Real-conv4:8.264546640503717\n",
      "LES distance between Quickdraw-conv3 and Real-conv5:12.799675210609028\n",
      "LES distance between Quickdraw-conv3 and Sketch-conv1:5.8543671269840445\n",
      "LES distance between Quickdraw-conv3 and Sketch-conv2:2.160298905586006\n",
      "LES distance between Quickdraw-conv3 and Sketch-conv3:3.348225404607857\n",
      "LES distance between Quickdraw-conv3 and Sketch-conv4:8.264546640503687\n"
     ]
    },
    {
     "name": "stderr",
     "output_type": "stream",
     "text": [
      "\n",
      "7it [00:03,  2.14it/s]\u001b[A\n"
     ]
    },
    {
     "name": "stdout",
     "output_type": "stream",
     "text": [
      "LES distance between Quickdraw-conv3 and Sketch-conv5:12.799675210609028\n"
     ]
    },
    {
     "name": "stderr",
     "output_type": "stream",
     "text": [
      "\n",
      "0it [00:00, ?it/s]\u001b[A"
     ]
    },
    {
     "name": "stdout",
     "output_type": "stream",
     "text": [
      "LES distance between Quickdraw-conv4 and Clipart-conv1:8.066849136619332\n",
      "LES distance between Quickdraw-conv4 and Clipart-conv2:4.293192054610031\n",
      "LES distance between Quickdraw-conv4 and Clipart-conv3:1.376432702744807\n",
      "LES distance between Quickdraw-conv4 and Clipart-conv4:6.0807005729790795\n"
     ]
    },
    {
     "name": "stderr",
     "output_type": "stream",
     "text": [
      "\n",
      "1it [00:00,  2.08it/s]\u001b[A"
     ]
    },
    {
     "name": "stdout",
     "output_type": "stream",
     "text": [
      "LES distance between Quickdraw-conv4 and Clipart-conv5:10.590133732689157\n",
      "LES distance between Quickdraw-conv4 and ImageNet-conv1:8.066849136619314\n",
      "LES distance between Quickdraw-conv4 and ImageNet-conv2:4.293192054610013\n",
      "LES distance between Quickdraw-conv4 and ImageNet-conv3:1.376432702744789\n",
      "LES distance between Quickdraw-conv4 and ImageNet-conv4:6.080700572979107\n"
     ]
    },
    {
     "name": "stderr",
     "output_type": "stream",
     "text": [
      "\n",
      "2it [00:00,  2.12it/s]\u001b[A"
     ]
    },
    {
     "name": "stdout",
     "output_type": "stream",
     "text": [
      "LES distance between Quickdraw-conv4 and ImageNet-conv5:10.590133732689257\n",
      "LES distance between Quickdraw-conv4 and Infograph-conv1:8.066849136619341\n",
      "LES distance between Quickdraw-conv4 and Infograph-conv2:4.293192054610025\n",
      "LES distance between Quickdraw-conv4 and Infograph-conv3:1.3764327027447967\n",
      "LES distance between Quickdraw-conv4 and Infograph-conv4:6.080700572979085\n"
     ]
    },
    {
     "name": "stderr",
     "output_type": "stream",
     "text": [
      "\n",
      "3it [00:01,  2.09it/s]\u001b[A"
     ]
    },
    {
     "name": "stdout",
     "output_type": "stream",
     "text": [
      "LES distance between Quickdraw-conv4 and Infograph-conv5:10.590133732689214\n",
      "LES distance between Quickdraw-conv4 and Paint-conv1:8.066849136619327\n",
      "LES distance between Quickdraw-conv4 and Paint-conv2:4.29319205461003\n",
      "LES distance between Quickdraw-conv4 and Paint-conv3:1.3764327027447816\n",
      "LES distance between Quickdraw-conv4 and Paint-conv4:6.0807005729790635\n"
     ]
    },
    {
     "name": "stderr",
     "output_type": "stream",
     "text": [
      "\n",
      "4it [00:01,  2.15it/s]\u001b[A"
     ]
    },
    {
     "name": "stdout",
     "output_type": "stream",
     "text": [
      "LES distance between Quickdraw-conv4 and Paint-conv5:10.590133732689194\n",
      "LES distance between Quickdraw-conv4 and Quickdraw-conv1:8.066849136619327\n",
      "LES distance between Quickdraw-conv4 and Quickdraw-conv2:4.293192054609989\n",
      "LES distance between Quickdraw-conv4 and Quickdraw-conv3:1.3764327027447771\n",
      "LES distance between Quickdraw-conv4 and Quickdraw-conv4:6.0807005729790875\n"
     ]
    },
    {
     "name": "stderr",
     "output_type": "stream",
     "text": [
      "\n",
      "5it [00:02,  2.16it/s]\u001b[A"
     ]
    },
    {
     "name": "stdout",
     "output_type": "stream",
     "text": [
      "LES distance between Quickdraw-conv4 and Quickdraw-conv5:10.590133732689138\n",
      "LES distance between Quickdraw-conv4 and Real-conv1:8.066849136619311\n",
      "LES distance between Quickdraw-conv4 and Real-conv2:4.293192054610017\n",
      "LES distance between Quickdraw-conv4 and Real-conv3:1.3764327027448064\n",
      "LES distance between Quickdraw-conv4 and Real-conv4:6.080700572979128\n"
     ]
    },
    {
     "name": "stderr",
     "output_type": "stream",
     "text": [
      "\n",
      "6it [00:02,  2.13it/s]\u001b[A"
     ]
    },
    {
     "name": "stdout",
     "output_type": "stream",
     "text": [
      "LES distance between Quickdraw-conv4 and Real-conv5:10.590133732689177\n",
      "LES distance between Quickdraw-conv4 and Sketch-conv1:8.066849136619354\n",
      "LES distance between Quickdraw-conv4 and Sketch-conv2:4.293192054609982\n"
     ]
    },
    {
     "name": "stderr",
     "output_type": "stream",
     "text": [
      "\n",
      "7it [00:03,  2.14it/s]\u001b[A\n"
     ]
    },
    {
     "name": "stdout",
     "output_type": "stream",
     "text": [
      "LES distance between Quickdraw-conv4 and Sketch-conv3:1.3764327027447962\n",
      "LES distance between Quickdraw-conv4 and Sketch-conv4:6.0807005729790395\n",
      "LES distance between Quickdraw-conv4 and Sketch-conv5:10.590133732689248\n"
     ]
    },
    {
     "name": "stderr",
     "output_type": "stream",
     "text": [
      "\n",
      "0it [00:00, ?it/s]\u001b[A"
     ]
    },
    {
     "name": "stdout",
     "output_type": "stream",
     "text": [
      "LES distance between Quickdraw-conv5 and Clipart-conv1:12.38035331626595\n",
      "LES distance between Quickdraw-conv5 and Clipart-conv2:8.565960688951817\n",
      "LES distance between Quickdraw-conv5 and Clipart-conv3:3.5007520392101363\n"
     ]
    },
    {
     "name": "stderr",
     "output_type": "stream",
     "text": [
      "\n",
      "1it [00:00,  2.32it/s]\u001b[A"
     ]
    },
    {
     "name": "stdout",
     "output_type": "stream",
     "text": [
      "LES distance between Quickdraw-conv5 and Clipart-conv4:2.00099047646662\n",
      "LES distance between Quickdraw-conv5 and Clipart-conv5:6.295404984884836\n",
      "LES distance between Quickdraw-conv5 and ImageNet-conv1:12.380353316265941\n",
      "LES distance between Quickdraw-conv5 and ImageNet-conv2:8.56596068895182\n",
      "LES distance between Quickdraw-conv5 and ImageNet-conv3:3.500752039210158\n",
      "LES distance between Quickdraw-conv5 and ImageNet-conv4:2.0009904764666246\n"
     ]
    },
    {
     "name": "stderr",
     "output_type": "stream",
     "text": [
      "\n",
      "2it [00:00,  2.31it/s]\u001b[A"
     ]
    },
    {
     "name": "stdout",
     "output_type": "stream",
     "text": [
      "LES distance between Quickdraw-conv5 and ImageNet-conv5:6.295404984884764\n",
      "LES distance between Quickdraw-conv5 and Infograph-conv1:12.380353316265998\n",
      "LES distance between Quickdraw-conv5 and Infograph-conv2:8.565960688951776\n",
      "LES distance between Quickdraw-conv5 and Infograph-conv3:3.500752039210134\n",
      "LES distance between Quickdraw-conv5 and Infograph-conv4:2.0009904764666087\n"
     ]
    },
    {
     "name": "stderr",
     "output_type": "stream",
     "text": [
      "\n",
      "3it [00:01,  2.28it/s]\u001b[A"
     ]
    },
    {
     "name": "stdout",
     "output_type": "stream",
     "text": [
      "LES distance between Quickdraw-conv5 and Infograph-conv5:6.2954049848846765\n",
      "LES distance between Quickdraw-conv5 and Paint-conv1:12.380353316265884\n",
      "LES distance between Quickdraw-conv5 and Paint-conv2:8.565960688951805\n",
      "LES distance between Quickdraw-conv5 and Paint-conv3:3.5007520392101683\n",
      "LES distance between Quickdraw-conv5 and Paint-conv4:2.000990476466639\n"
     ]
    },
    {
     "name": "stderr",
     "output_type": "stream",
     "text": [
      "\n",
      "4it [00:01,  2.26it/s]\u001b[A"
     ]
    },
    {
     "name": "stdout",
     "output_type": "stream",
     "text": [
      "LES distance between Quickdraw-conv5 and Paint-conv5:6.2954049848847875\n",
      "LES distance between Quickdraw-conv5 and Quickdraw-conv1:12.380353316265966\n",
      "LES distance between Quickdraw-conv5 and Quickdraw-conv2:8.565960688951801\n",
      "LES distance between Quickdraw-conv5 and Quickdraw-conv3:3.500752039210106\n",
      "LES distance between Quickdraw-conv5 and Quickdraw-conv4:2.0009904764665936\n"
     ]
    },
    {
     "name": "stderr",
     "output_type": "stream",
     "text": [
      "\n",
      "5it [00:02,  2.26it/s]\u001b[A"
     ]
    },
    {
     "name": "stdout",
     "output_type": "stream",
     "text": [
      "LES distance between Quickdraw-conv5 and Quickdraw-conv5:6.295404984884746\n",
      "LES distance between Quickdraw-conv5 and Real-conv1:12.380353316265952\n",
      "LES distance between Quickdraw-conv5 and Real-conv2:8.565960688951769\n"
     ]
    },
    {
     "name": "stderr",
     "output_type": "stream",
     "text": [
      "\n",
      "6it [00:02,  2.27it/s]\u001b[A"
     ]
    },
    {
     "name": "stdout",
     "output_type": "stream",
     "text": [
      "LES distance between Quickdraw-conv5 and Real-conv3:3.500752039210205\n",
      "LES distance between Quickdraw-conv5 and Real-conv4:2.000990476466616\n",
      "LES distance between Quickdraw-conv5 and Real-conv5:6.295404984884703\n",
      "LES distance between Quickdraw-conv5 and Sketch-conv1:12.380353316265928\n",
      "LES distance between Quickdraw-conv5 and Sketch-conv2:8.565960688951824\n",
      "LES distance between Quickdraw-conv5 and Sketch-conv3:3.5007520392102123\n"
     ]
    },
    {
     "name": "stderr",
     "output_type": "stream",
     "text": [
      "\n",
      "7it [00:03,  2.25it/s]\u001b[A\n",
      "5it [01:27, 17.54s/it]"
     ]
    },
    {
     "name": "stdout",
     "output_type": "stream",
     "text": [
      "LES distance between Quickdraw-conv5 and Sketch-conv4:2.0009904764666113\n",
      "LES distance between Quickdraw-conv5 and Sketch-conv5:6.295404984884831\n"
     ]
    },
    {
     "name": "stderr",
     "output_type": "stream",
     "text": [
      "\n",
      "0it [00:00, ?it/s]\u001b[A"
     ]
    },
    {
     "name": "stdout",
     "output_type": "stream",
     "text": [
      "LES distance between Real-conv1 and Clipart-conv1:4.620482355055789\n",
      "LES distance between Real-conv1 and Clipart-conv2:8.39678686003744\n",
      "LES distance between Real-conv1 and Clipart-conv3:13.459526819201765\n",
      "LES distance between Real-conv1 and Clipart-conv4:18.386101201750936\n"
     ]
    },
    {
     "name": "stderr",
     "output_type": "stream",
     "text": [
      "\n",
      "1it [00:00,  1.64it/s]\u001b[A"
     ]
    },
    {
     "name": "stdout",
     "output_type": "stream",
     "text": [
      "LES distance between Real-conv1 and Clipart-conv5:22.92009167148673\n",
      "LES distance between Real-conv1 and ImageNet-conv1:4.620482355055788\n",
      "LES distance between Real-conv1 and ImageNet-conv2:8.396786860037434\n",
      "LES distance between Real-conv1 and ImageNet-conv3:13.459526819201756\n"
     ]
    },
    {
     "name": "stderr",
     "output_type": "stream",
     "text": [
      "\n",
      "2it [00:01,  1.67it/s]\u001b[A"
     ]
    },
    {
     "name": "stdout",
     "output_type": "stream",
     "text": [
      "LES distance between Real-conv1 and ImageNet-conv4:18.38610120175095\n",
      "LES distance between Real-conv1 and ImageNet-conv5:22.920091671486624\n",
      "LES distance between Real-conv1 and Infograph-conv1:4.620482355055807\n",
      "LES distance between Real-conv1 and Infograph-conv2:8.39678686003744\n",
      "LES distance between Real-conv1 and Infograph-conv3:13.459526819201779\n",
      "LES distance between Real-conv1 and Infograph-conv4:18.386101201750957\n"
     ]
    },
    {
     "name": "stderr",
     "output_type": "stream",
     "text": [
      "\n",
      "3it [00:01,  1.66it/s]\u001b[A"
     ]
    },
    {
     "name": "stdout",
     "output_type": "stream",
     "text": [
      "LES distance between Real-conv1 and Infograph-conv5:22.92009167148664\n",
      "LES distance between Real-conv1 and Paint-conv1:4.620482355055801\n",
      "LES distance between Real-conv1 and Paint-conv2:8.39678686003743\n",
      "LES distance between Real-conv1 and Paint-conv3:13.459526819201772\n"
     ]
    },
    {
     "name": "stderr",
     "output_type": "stream",
     "text": [
      "\n",
      "4it [00:02,  1.71it/s]\u001b[A"
     ]
    },
    {
     "name": "stdout",
     "output_type": "stream",
     "text": [
      "LES distance between Real-conv1 and Paint-conv4:18.386101201750968\n",
      "LES distance between Real-conv1 and Paint-conv5:22.92009167148668\n",
      "LES distance between Real-conv1 and Quickdraw-conv1:4.620482355055795\n",
      "LES distance between Real-conv1 and Quickdraw-conv2:8.396786860037423\n",
      "LES distance between Real-conv1 and Quickdraw-conv3:13.459526819201775\n",
      "LES distance between Real-conv1 and Quickdraw-conv4:18.386101201750964\n"
     ]
    },
    {
     "name": "stderr",
     "output_type": "stream",
     "text": [
      "\n",
      "5it [00:02,  1.73it/s]\u001b[A"
     ]
    },
    {
     "name": "stdout",
     "output_type": "stream",
     "text": [
      "LES distance between Real-conv1 and Quickdraw-conv5:22.92009167148666\n",
      "LES distance between Real-conv1 and Real-conv1:4.620482355055804\n",
      "LES distance between Real-conv1 and Real-conv2:8.396786860037412\n",
      "LES distance between Real-conv1 and Real-conv3:13.459526819201765\n"
     ]
    },
    {
     "name": "stderr",
     "output_type": "stream",
     "text": [
      "\n",
      "6it [00:03,  1.74it/s]\u001b[A"
     ]
    },
    {
     "name": "stdout",
     "output_type": "stream",
     "text": [
      "LES distance between Real-conv1 and Real-conv4:18.386101201750957\n",
      "LES distance between Real-conv1 and Real-conv5:22.920091671486638\n",
      "LES distance between Real-conv1 and Sketch-conv1:4.620482355055805\n",
      "LES distance between Real-conv1 and Sketch-conv2:8.396786860037432\n",
      "LES distance between Real-conv1 and Sketch-conv3:13.459526819201765\n",
      "LES distance between Real-conv1 and Sketch-conv4:18.386101201750936\n"
     ]
    },
    {
     "name": "stderr",
     "output_type": "stream",
     "text": [
      "\n",
      "7it [00:04,  1.72it/s]\u001b[A\n"
     ]
    },
    {
     "name": "stdout",
     "output_type": "stream",
     "text": [
      "LES distance between Real-conv1 and Sketch-conv5:22.920091671486674\n"
     ]
    },
    {
     "name": "stderr",
     "output_type": "stream",
     "text": [
      "\n",
      "0it [00:00, ?it/s]\u001b[A"
     ]
    },
    {
     "name": "stdout",
     "output_type": "stream",
     "text": [
      "LES distance between Real-conv2 and Clipart-conv1:1.6410252306531898\n",
      "LES distance between Real-conv2 and Clipart-conv2:3.7168671617070745\n",
      "LES distance between Real-conv2 and Clipart-conv3:8.72520135002215\n",
      "LES distance between Real-conv2 and Clipart-conv4:13.661649761638747\n"
     ]
    },
    {
     "name": "stderr",
     "output_type": "stream",
     "text": [
      "\n",
      "1it [00:00,  1.92it/s]\u001b[A"
     ]
    },
    {
     "name": "stdout",
     "output_type": "stream",
     "text": [
      "LES distance between Real-conv2 and Clipart-conv5:18.23249733792334\n",
      "LES distance between Real-conv2 and ImageNet-conv1:1.6410252306531996\n",
      "LES distance between Real-conv2 and ImageNet-conv2:3.7168671617070834\n",
      "LES distance between Real-conv2 and ImageNet-conv3:8.725201350022145\n",
      "LES distance between Real-conv2 and ImageNet-conv4:13.661649761638815\n"
     ]
    },
    {
     "name": "stderr",
     "output_type": "stream",
     "text": [
      "\n",
      "2it [00:01,  1.95it/s]\u001b[A"
     ]
    },
    {
     "name": "stdout",
     "output_type": "stream",
     "text": [
      "LES distance between Real-conv2 and ImageNet-conv5:18.232497337923405\n",
      "LES distance between Real-conv2 and Infograph-conv1:1.6410252306531987\n",
      "LES distance between Real-conv2 and Infograph-conv2:3.716867161707069\n",
      "LES distance between Real-conv2 and Infograph-conv3:8.72520135002215\n",
      "LES distance between Real-conv2 and Infograph-conv4:13.661649761638744\n"
     ]
    },
    {
     "name": "stderr",
     "output_type": "stream",
     "text": [
      "\n",
      "3it [00:01,  1.93it/s]\u001b[A"
     ]
    },
    {
     "name": "stdout",
     "output_type": "stream",
     "text": [
      "LES distance between Real-conv2 and Infograph-conv5:18.232497337923235\n",
      "LES distance between Real-conv2 and Paint-conv1:1.6410252306532067\n",
      "LES distance between Real-conv2 and Paint-conv2:3.7168671617070776\n",
      "LES distance between Real-conv2 and Paint-conv3:8.725201350022152\n",
      "LES distance between Real-conv2 and Paint-conv4:13.661649761638742\n"
     ]
    },
    {
     "name": "stderr",
     "output_type": "stream",
     "text": [
      "\n",
      "4it [00:02,  1.95it/s]\u001b[A"
     ]
    },
    {
     "name": "stdout",
     "output_type": "stream",
     "text": [
      "LES distance between Real-conv2 and Paint-conv5:18.23249733792342\n",
      "LES distance between Real-conv2 and Quickdraw-conv1:1.6410252306532025\n",
      "LES distance between Real-conv2 and Quickdraw-conv2:3.716867161707084\n",
      "LES distance between Real-conv2 and Quickdraw-conv3:8.725201350022164\n",
      "LES distance between Real-conv2 and Quickdraw-conv4:13.66164976163877\n"
     ]
    },
    {
     "name": "stderr",
     "output_type": "stream",
     "text": [
      "\n",
      "5it [00:02,  1.94it/s]\u001b[A"
     ]
    },
    {
     "name": "stdout",
     "output_type": "stream",
     "text": [
      "LES distance between Real-conv2 and Quickdraw-conv5:18.232497337923373\n",
      "LES distance between Real-conv2 and Real-conv1:1.641025230653206\n",
      "LES distance between Real-conv2 and Real-conv2:3.7168671617070648\n",
      "LES distance between Real-conv2 and Real-conv3:8.725201350022147\n",
      "LES distance between Real-conv2 and Real-conv4:13.661649761638797\n"
     ]
    },
    {
     "name": "stderr",
     "output_type": "stream",
     "text": [
      "\n",
      "6it [00:03,  1.94it/s]\u001b[A"
     ]
    },
    {
     "name": "stdout",
     "output_type": "stream",
     "text": [
      "LES distance between Real-conv2 and Real-conv5:18.232497337923334\n",
      "LES distance between Real-conv2 and Sketch-conv1:1.6410252306531963\n",
      "LES distance between Real-conv2 and Sketch-conv2:3.7168671617070803\n",
      "LES distance between Real-conv2 and Sketch-conv3:8.72520135002214\n"
     ]
    },
    {
     "name": "stderr",
     "output_type": "stream",
     "text": [
      "\n",
      "7it [00:03,  1.91it/s]"
     ]
    },
    {
     "name": "stdout",
     "output_type": "stream",
     "text": [
      "LES distance between Real-conv2 and Sketch-conv4:13.661649761638738\n",
      "LES distance between Real-conv2 and Sketch-conv5:18.23249733792333\n"
     ]
    },
    {
     "name": "stderr",
     "output_type": "stream",
     "text": [
      "7it [00:03,  1.92it/s]\n",
      "\n",
      "0it [00:00, ?it/s]\u001b[A"
     ]
    },
    {
     "name": "stdout",
     "output_type": "stream",
     "text": [
      "LES distance between Real-conv3 and Clipart-conv1:3.614513264040655\n",
      "LES distance between Real-conv3 and Clipart-conv2:1.2248142647800448\n",
      "LES distance between Real-conv3 and Clipart-conv3:5.805776110194631\n"
     ]
    },
    {
     "name": "stderr",
     "output_type": "stream",
     "text": [
      "\n",
      "1it [00:00,  2.31it/s]\u001b[A"
     ]
    },
    {
     "name": "stdout",
     "output_type": "stream",
     "text": [
      "LES distance between Real-conv3 and Clipart-conv4:10.733456704713664\n",
      "LES distance between Real-conv3 and Clipart-conv5:15.298531789016836\n",
      "LES distance between Real-conv3 and ImageNet-conv1:3.614513264040662\n",
      "LES distance between Real-conv3 and ImageNet-conv2:1.2248142647800393\n",
      "LES distance between Real-conv3 and ImageNet-conv3:5.805776110194602\n",
      "LES distance between Real-conv3 and ImageNet-conv4:10.733456704713657\n"
     ]
    },
    {
     "name": "stderr",
     "output_type": "stream",
     "text": [
      "\n",
      "2it [00:00,  2.29it/s]\u001b[A"
     ]
    },
    {
     "name": "stdout",
     "output_type": "stream",
     "text": [
      "LES distance between Real-conv3 and ImageNet-conv5:15.298531789016891\n",
      "LES distance between Real-conv3 and Infograph-conv1:3.614513264040666\n",
      "LES distance between Real-conv3 and Infograph-conv2:1.224814264780048\n",
      "LES distance between Real-conv3 and Infograph-conv3:5.8057761101946\n",
      "LES distance between Real-conv3 and Infograph-conv4:10.73345670471367\n"
     ]
    },
    {
     "name": "stderr",
     "output_type": "stream",
     "text": [
      "\n",
      "3it [00:01,  2.16it/s]\u001b[A"
     ]
    },
    {
     "name": "stdout",
     "output_type": "stream",
     "text": [
      "LES distance between Real-conv3 and Infograph-conv5:15.298531789016861\n",
      "LES distance between Real-conv3 and Paint-conv1:3.6145132640406645\n",
      "LES distance between Real-conv3 and Paint-conv2:1.2248142647800628\n",
      "LES distance between Real-conv3 and Paint-conv3:5.805776110194625\n",
      "LES distance between Real-conv3 and Paint-conv4:10.733456704713715\n"
     ]
    },
    {
     "name": "stderr",
     "output_type": "stream",
     "text": [
      "\n",
      "4it [00:01,  2.18it/s]\u001b[A"
     ]
    },
    {
     "name": "stdout",
     "output_type": "stream",
     "text": [
      "LES distance between Real-conv3 and Paint-conv5:15.298531789016925\n",
      "LES distance between Real-conv3 and Quickdraw-conv1:3.614513264040671\n",
      "LES distance between Real-conv3 and Quickdraw-conv2:1.2248142647800409\n",
      "LES distance between Real-conv3 and Quickdraw-conv3:5.805776110194619\n",
      "LES distance between Real-conv3 and Quickdraw-conv4:10.733456704713694\n"
     ]
    },
    {
     "name": "stderr",
     "output_type": "stream",
     "text": [
      "\n",
      "5it [00:02,  2.19it/s]\u001b[A"
     ]
    },
    {
     "name": "stdout",
     "output_type": "stream",
     "text": [
      "LES distance between Real-conv3 and Quickdraw-conv5:15.298531789016867\n",
      "LES distance between Real-conv3 and Real-conv1:3.61451326404066\n",
      "LES distance between Real-conv3 and Real-conv2:1.2248142647800508\n",
      "LES distance between Real-conv3 and Real-conv3:5.805776110194588\n",
      "LES distance between Real-conv3 and Real-conv4:10.733456704713666\n"
     ]
    },
    {
     "name": "stderr",
     "output_type": "stream",
     "text": [
      "\n",
      "6it [00:02,  2.22it/s]\u001b[A"
     ]
    },
    {
     "name": "stdout",
     "output_type": "stream",
     "text": [
      "LES distance between Real-conv3 and Real-conv5:15.298531789016888\n",
      "LES distance between Real-conv3 and Sketch-conv1:3.614513264040669\n",
      "LES distance between Real-conv3 and Sketch-conv2:1.2248142647800617\n",
      "LES distance between Real-conv3 and Sketch-conv3:5.805776110194582\n",
      "LES distance between Real-conv3 and Sketch-conv4:10.733456704713705\n"
     ]
    },
    {
     "name": "stderr",
     "output_type": "stream",
     "text": [
      "\n",
      "7it [00:03,  2.22it/s]\u001b[A\n"
     ]
    },
    {
     "name": "stdout",
     "output_type": "stream",
     "text": [
      "LES distance between Real-conv3 and Sketch-conv5:15.298531789016799\n"
     ]
    },
    {
     "name": "stderr",
     "output_type": "stream",
     "text": [
      "\n",
      "0it [00:00, ?it/s]\u001b[A"
     ]
    },
    {
     "name": "stdout",
     "output_type": "stream",
     "text": [
      "LES distance between Real-conv4 and Clipart-conv1:4.511868859699771\n",
      "LES distance between Real-conv4 and Clipart-conv2:1.1024802371329878\n",
      "LES distance between Real-conv4 and Clipart-conv3:4.83981277099749\n",
      "LES distance between Real-conv4 and Clipart-conv4:9.761037931256071\n"
     ]
    },
    {
     "name": "stderr",
     "output_type": "stream",
     "text": [
      "\n",
      "1it [00:00,  2.26it/s]\u001b[A"
     ]
    },
    {
     "name": "stdout",
     "output_type": "stream",
     "text": [
      "LES distance between Real-conv4 and Clipart-conv5:14.321314719544404\n",
      "LES distance between Real-conv4 and ImageNet-conv1:4.51186885969978\n",
      "LES distance between Real-conv4 and ImageNet-conv2:1.1024802371329916\n",
      "LES distance between Real-conv4 and ImageNet-conv3:4.839812770997499\n",
      "LES distance between Real-conv4 and ImageNet-conv4:9.76103793125615\n"
     ]
    },
    {
     "name": "stderr",
     "output_type": "stream",
     "text": [
      "\n",
      "2it [00:00,  2.35it/s]\u001b[A"
     ]
    },
    {
     "name": "stdout",
     "output_type": "stream",
     "text": [
      "LES distance between Real-conv4 and ImageNet-conv5:14.321314719544405\n",
      "LES distance between Real-conv4 and Infograph-conv1:4.511868859699771\n",
      "LES distance between Real-conv4 and Infograph-conv2:1.102480237133009\n",
      "LES distance between Real-conv4 and Infograph-conv3:4.8398127709975025\n"
     ]
    },
    {
     "name": "stderr",
     "output_type": "stream",
     "text": [
      "\n",
      "3it [00:01,  2.35it/s]\u001b[A"
     ]
    },
    {
     "name": "stdout",
     "output_type": "stream",
     "text": [
      "LES distance between Real-conv4 and Infograph-conv4:9.761037931256087\n",
      "LES distance between Real-conv4 and Infograph-conv5:14.321314719544382\n",
      "LES distance between Real-conv4 and Paint-conv1:4.511868859699765\n",
      "LES distance between Real-conv4 and Paint-conv2:1.1024802371329954\n",
      "LES distance between Real-conv4 and Paint-conv3:4.839812770997508\n",
      "LES distance between Real-conv4 and Paint-conv4:9.76103793125611\n"
     ]
    },
    {
     "name": "stderr",
     "output_type": "stream",
     "text": [
      "\n",
      "4it [00:01,  2.28it/s]\u001b[A"
     ]
    },
    {
     "name": "stdout",
     "output_type": "stream",
     "text": [
      "LES distance between Real-conv4 and Paint-conv5:14.321314719544384\n",
      "LES distance between Real-conv4 and Quickdraw-conv1:4.511868859699763\n",
      "LES distance between Real-conv4 and Quickdraw-conv2:1.1024802371330116\n",
      "LES distance between Real-conv4 and Quickdraw-conv3:4.8398127709974625\n",
      "LES distance between Real-conv4 and Quickdraw-conv4:9.761037931256059\n"
     ]
    },
    {
     "name": "stderr",
     "output_type": "stream",
     "text": [
      "\n",
      "5it [00:02,  2.24it/s]\u001b[A"
     ]
    },
    {
     "name": "stdout",
     "output_type": "stream",
     "text": [
      "LES distance between Real-conv4 and Quickdraw-conv5:14.32131471954443\n",
      "LES distance between Real-conv4 and Real-conv1:4.5118688596997725\n",
      "LES distance between Real-conv4 and Real-conv2:1.1024802371330062\n",
      "LES distance between Real-conv4 and Real-conv3:4.839812770997479\n",
      "LES distance between Real-conv4 and Real-conv4:9.761037931256102\n"
     ]
    },
    {
     "name": "stderr",
     "output_type": "stream",
     "text": [
      "\n",
      "6it [00:02,  2.20it/s]\u001b[A"
     ]
    },
    {
     "name": "stdout",
     "output_type": "stream",
     "text": [
      "LES distance between Real-conv4 and Real-conv5:14.32131471954441\n",
      "LES distance between Real-conv4 and Sketch-conv1:4.511868859699772\n",
      "LES distance between Real-conv4 and Sketch-conv2:1.1024802371330018\n",
      "LES distance between Real-conv4 and Sketch-conv3:4.839812770997513\n",
      "LES distance between Real-conv4 and Sketch-conv4:9.761037931256135\n"
     ]
    },
    {
     "name": "stderr",
     "output_type": "stream",
     "text": [
      "\n",
      "7it [00:03,  2.25it/s]\u001b[A\n"
     ]
    },
    {
     "name": "stdout",
     "output_type": "stream",
     "text": [
      "LES distance between Real-conv4 and Sketch-conv5:14.321314719544368\n"
     ]
    },
    {
     "name": "stderr",
     "output_type": "stream",
     "text": [
      "\n",
      "0it [00:00, ?it/s]\u001b[A"
     ]
    },
    {
     "name": "stdout",
     "output_type": "stream",
     "text": [
      "LES distance between Real-conv5 and Clipart-conv1:7.235504296239433\n",
      "LES distance between Real-conv5 and Clipart-conv2:3.411895766612477\n",
      "LES distance between Real-conv5 and Clipart-conv3:2.24001861734312\n"
     ]
    },
    {
     "name": "stderr",
     "output_type": "stream",
     "text": [
      "\n",
      "1it [00:00,  2.28it/s]\u001b[A"
     ]
    },
    {
     "name": "stdout",
     "output_type": "stream",
     "text": [
      "LES distance between Real-conv5 and Clipart-conv4:7.018262557506691\n",
      "LES distance between Real-conv5 and Clipart-conv5:11.555051980288617\n",
      "LES distance between Real-conv5 and ImageNet-conv1:7.235504296239432\n",
      "LES distance between Real-conv5 and ImageNet-conv2:3.4118957666124703\n",
      "LES distance between Real-conv5 and ImageNet-conv3:2.2400186173431162\n",
      "LES distance between Real-conv5 and ImageNet-conv4:7.018262557506764\n"
     ]
    },
    {
     "name": "stderr",
     "output_type": "stream",
     "text": [
      "\n",
      "2it [00:00,  2.31it/s]\u001b[A"
     ]
    },
    {
     "name": "stdout",
     "output_type": "stream",
     "text": [
      "LES distance between Real-conv5 and ImageNet-conv5:11.555051980288644\n",
      "LES distance between Real-conv5 and Infograph-conv1:7.235504296239419\n",
      "LES distance between Real-conv5 and Infograph-conv2:3.411895766612495\n",
      "LES distance between Real-conv5 and Infograph-conv3:2.240018617343111\n",
      "LES distance between Real-conv5 and Infograph-conv4:7.01826255750667\n"
     ]
    },
    {
     "name": "stderr",
     "output_type": "stream",
     "text": [
      "\n",
      "3it [00:01,  2.36it/s]\u001b[A"
     ]
    },
    {
     "name": "stdout",
     "output_type": "stream",
     "text": [
      "LES distance between Real-conv5 and Infograph-conv5:11.55505198028861\n",
      "LES distance between Real-conv5 and Paint-conv1:7.235504296239438\n",
      "LES distance between Real-conv5 and Paint-conv2:3.411895766612495\n",
      "LES distance between Real-conv5 and Paint-conv3:2.2400186173431185\n"
     ]
    },
    {
     "name": "stderr",
     "output_type": "stream",
     "text": [
      "\n",
      "4it [00:01,  2.36it/s]\u001b[A"
     ]
    },
    {
     "name": "stdout",
     "output_type": "stream",
     "text": [
      "LES distance between Real-conv5 and Paint-conv4:7.0182625575066835\n",
      "LES distance between Real-conv5 and Paint-conv5:11.555051980288534\n",
      "LES distance between Real-conv5 and Quickdraw-conv1:7.235504296239436\n",
      "LES distance between Real-conv5 and Quickdraw-conv2:3.411895766612484\n",
      "LES distance between Real-conv5 and Quickdraw-conv3:2.2400186173430954\n",
      "LES distance between Real-conv5 and Quickdraw-conv4:7.018262557506713\n"
     ]
    },
    {
     "name": "stderr",
     "output_type": "stream",
     "text": [
      "\n",
      "5it [00:02,  2.32it/s]\u001b[A"
     ]
    },
    {
     "name": "stdout",
     "output_type": "stream",
     "text": [
      "LES distance between Real-conv5 and Quickdraw-conv5:11.555051980288539\n",
      "LES distance between Real-conv5 and Real-conv1:7.235504296239424\n",
      "LES distance between Real-conv5 and Real-conv2:3.4118957666124645\n",
      "LES distance between Real-conv5 and Real-conv3:2.240018617343109\n",
      "LES distance between Real-conv5 and Real-conv4:7.018262557506727\n"
     ]
    },
    {
     "name": "stderr",
     "output_type": "stream",
     "text": [
      "\n",
      "6it [00:02,  2.26it/s]\u001b[A"
     ]
    },
    {
     "name": "stdout",
     "output_type": "stream",
     "text": [
      "LES distance between Real-conv5 and Real-conv5:11.555051980288646\n",
      "LES distance between Real-conv5 and Sketch-conv1:7.235504296239433\n",
      "LES distance between Real-conv5 and Sketch-conv2:3.4118957666124596\n"
     ]
    },
    {
     "name": "stderr",
     "output_type": "stream",
     "text": [
      "\n",
      "7it [00:03,  2.28it/s]\u001b[A\n",
      "6it [01:44, 17.37s/it]"
     ]
    },
    {
     "name": "stdout",
     "output_type": "stream",
     "text": [
      "LES distance between Real-conv5 and Sketch-conv3:2.2400186173431207\n",
      "LES distance between Real-conv5 and Sketch-conv4:7.018262557506716\n",
      "LES distance between Real-conv5 and Sketch-conv5:11.555051980288608\n"
     ]
    },
    {
     "name": "stderr",
     "output_type": "stream",
     "text": [
      "\n",
      "0it [00:00, ?it/s]\u001b[A"
     ]
    },
    {
     "name": "stdout",
     "output_type": "stream",
     "text": [
      "LES distance between Sketch-conv1 and Clipart-conv1:3.633398856281753e-14\n",
      "LES distance between Sketch-conv1 and Clipart-conv2:3.94112850017969\n",
      "LES distance between Sketch-conv1 and Clipart-conv3:8.998302577783955\n",
      "LES distance between Sketch-conv1 and Clipart-conv4:13.953126751228387\n"
     ]
    },
    {
     "name": "stderr",
     "output_type": "stream",
     "text": [
      "\n",
      "1it [00:00,  1.68it/s]\u001b[A"
     ]
    },
    {
     "name": "stdout",
     "output_type": "stream",
     "text": [
      "LES distance between Sketch-conv1 and Clipart-conv5:18.501266620807503\n",
      "LES distance between Sketch-conv1 and ImageNet-conv1:5.420299373712778e-14\n",
      "LES distance between Sketch-conv1 and ImageNet-conv2:3.9411285001796807\n",
      "LES distance between Sketch-conv1 and ImageNet-conv3:8.998302577783976\n"
     ]
    },
    {
     "name": "stderr",
     "output_type": "stream",
     "text": [
      "\n",
      "2it [00:01,  1.70it/s]\u001b[A"
     ]
    },
    {
     "name": "stdout",
     "output_type": "stream",
     "text": [
      "LES distance between Sketch-conv1 and ImageNet-conv4:13.953126751228423\n",
      "LES distance between Sketch-conv1 and ImageNet-conv5:18.501266620807492\n",
      "LES distance between Sketch-conv1 and Infograph-conv1:5.406774731316097e-14\n",
      "LES distance between Sketch-conv1 and Infograph-conv2:3.941128500179693\n",
      "LES distance between Sketch-conv1 and Infograph-conv3:8.998302577783969\n",
      "LES distance between Sketch-conv1 and Infograph-conv4:13.95312675122844\n"
     ]
    },
    {
     "name": "stderr",
     "output_type": "stream",
     "text": [
      "\n",
      "3it [00:01,  1.69it/s]\u001b[A"
     ]
    },
    {
     "name": "stdout",
     "output_type": "stream",
     "text": [
      "LES distance between Sketch-conv1 and Infograph-conv5:18.501266620807442\n",
      "LES distance between Sketch-conv1 and Paint-conv1:4.80273805954669e-14\n",
      "LES distance between Sketch-conv1 and Paint-conv2:3.941128500179693\n",
      "LES distance between Sketch-conv1 and Paint-conv3:8.998302577783956\n"
     ]
    },
    {
     "name": "stderr",
     "output_type": "stream",
     "text": [
      "\n",
      "4it [00:02,  1.71it/s]\u001b[A"
     ]
    },
    {
     "name": "stdout",
     "output_type": "stream",
     "text": [
      "LES distance between Sketch-conv1 and Paint-conv4:13.953126751228433\n",
      "LES distance between Sketch-conv1 and Paint-conv5:18.501266620807446\n",
      "LES distance between Sketch-conv1 and Quickdraw-conv1:4.375349359469118e-14\n",
      "LES distance between Sketch-conv1 and Quickdraw-conv2:3.9411285001796985\n",
      "LES distance between Sketch-conv1 and Quickdraw-conv3:8.998302577783976\n",
      "LES distance between Sketch-conv1 and Quickdraw-conv4:13.953126751228432\n"
     ]
    },
    {
     "name": "stderr",
     "output_type": "stream",
     "text": [
      "\n",
      "5it [00:02,  1.73it/s]\u001b[A"
     ]
    },
    {
     "name": "stdout",
     "output_type": "stream",
     "text": [
      "LES distance between Sketch-conv1 and Quickdraw-conv5:18.501266620807527\n",
      "LES distance between Sketch-conv1 and Real-conv1:4.4373935178624314e-14\n",
      "LES distance between Sketch-conv1 and Real-conv2:3.9411285001796927\n",
      "LES distance between Sketch-conv1 and Real-conv3:8.998302577783962\n"
     ]
    },
    {
     "name": "stderr",
     "output_type": "stream",
     "text": [
      "\n",
      "6it [00:03,  1.70it/s]\u001b[A"
     ]
    },
    {
     "name": "stdout",
     "output_type": "stream",
     "text": [
      "LES distance between Sketch-conv1 and Real-conv4:13.953126751228412\n",
      "LES distance between Sketch-conv1 and Real-conv5:18.50126662080748\n",
      "LES distance between Sketch-conv1 and Sketch-conv1:5.2678415402717024e-14\n",
      "LES distance between Sketch-conv1 and Sketch-conv2:3.941128500179678\n",
      "LES distance between Sketch-conv1 and Sketch-conv3:8.998302577783965\n",
      "LES distance between Sketch-conv1 and Sketch-conv4:13.953126751228416\n"
     ]
    },
    {
     "name": "stderr",
     "output_type": "stream",
     "text": [
      "\n",
      "7it [00:04,  1.72it/s]\u001b[A\n"
     ]
    },
    {
     "name": "stdout",
     "output_type": "stream",
     "text": [
      "LES distance between Sketch-conv1 and Sketch-conv5:18.501266620807485\n"
     ]
    },
    {
     "name": "stderr",
     "output_type": "stream",
     "text": [
      "\n",
      "0it [00:00, ?it/s]\u001b[A"
     ]
    },
    {
     "name": "stdout",
     "output_type": "stream",
     "text": [
      "LES distance between Sketch-conv2 and Clipart-conv1:3.941128500179695\n",
      "LES distance between Sketch-conv2 and Clipart-conv2:6.245258626057515e-14\n",
      "LES distance between Sketch-conv2 and Clipart-conv3:5.15137312458635\n",
      "LES distance between Sketch-conv2 and Clipart-conv4:10.120140780661744\n"
     ]
    },
    {
     "name": "stderr",
     "output_type": "stream",
     "text": [
      "\n",
      "1it [00:00,  1.95it/s]\u001b[A"
     ]
    },
    {
     "name": "stdout",
     "output_type": "stream",
     "text": [
      "LES distance between Sketch-conv2 and Clipart-conv5:14.677948070572773\n",
      "LES distance between Sketch-conv2 and ImageNet-conv1:3.9411285001796688\n",
      "LES distance between Sketch-conv2 and ImageNet-conv2:6.001779826391345e-14\n",
      "LES distance between Sketch-conv2 and ImageNet-conv3:5.151373124586363\n",
      "LES distance between Sketch-conv2 and ImageNet-conv4:10.120140780661787\n"
     ]
    },
    {
     "name": "stderr",
     "output_type": "stream",
     "text": [
      "\n",
      "2it [00:01,  1.88it/s]\u001b[A"
     ]
    },
    {
     "name": "stdout",
     "output_type": "stream",
     "text": [
      "LES distance between Sketch-conv2 and ImageNet-conv5:14.677948070572759\n",
      "LES distance between Sketch-conv2 and Infograph-conv1:3.9411285001797003\n",
      "LES distance between Sketch-conv2 and Infograph-conv2:6.887392712997826e-14\n",
      "LES distance between Sketch-conv2 and Infograph-conv3:5.151373124586305\n",
      "LES distance between Sketch-conv2 and Infograph-conv4:10.120140780661785\n"
     ]
    },
    {
     "name": "stderr",
     "output_type": "stream",
     "text": [
      "\n",
      "3it [00:01,  1.95it/s]\u001b[A"
     ]
    },
    {
     "name": "stdout",
     "output_type": "stream",
     "text": [
      "LES distance between Sketch-conv2 and Infograph-conv5:14.67794807057279\n",
      "LES distance between Sketch-conv2 and Paint-conv1:3.941128500179688\n",
      "LES distance between Sketch-conv2 and Paint-conv2:7.945846874261845e-14\n",
      "LES distance between Sketch-conv2 and Paint-conv3:5.15137312458633\n"
     ]
    },
    {
     "name": "stderr",
     "output_type": "stream",
     "text": [
      "\n",
      "4it [00:02,  1.91it/s]\u001b[A"
     ]
    },
    {
     "name": "stdout",
     "output_type": "stream",
     "text": [
      "LES distance between Sketch-conv2 and Paint-conv4:10.120140780661762\n",
      "LES distance between Sketch-conv2 and Paint-conv5:14.677948070572905\n",
      "LES distance between Sketch-conv2 and Quickdraw-conv1:3.9411285001796847\n",
      "LES distance between Sketch-conv2 and Quickdraw-conv2:6.932522739688972e-14\n"
     ]
    },
    {
     "name": "stderr",
     "output_type": "stream",
     "text": [
      "\n",
      "5it [00:02,  1.89it/s]\u001b[A"
     ]
    },
    {
     "name": "stdout",
     "output_type": "stream",
     "text": [
      "LES distance between Sketch-conv2 and Quickdraw-conv3:5.151373124586319\n",
      "LES distance between Sketch-conv2 and Quickdraw-conv4:10.120140780661815\n",
      "LES distance between Sketch-conv2 and Quickdraw-conv5:14.677948070572835\n",
      "LES distance between Sketch-conv2 and Real-conv1:3.941128500179693\n",
      "LES distance between Sketch-conv2 and Real-conv2:6.983647003196801e-14\n"
     ]
    },
    {
     "name": "stderr",
     "output_type": "stream",
     "text": [
      "\n",
      "6it [00:03,  1.90it/s]\u001b[A"
     ]
    },
    {
     "name": "stdout",
     "output_type": "stream",
     "text": [
      "LES distance between Sketch-conv2 and Real-conv3:5.151373124586334\n",
      "LES distance between Sketch-conv2 and Real-conv4:10.120140780661792\n",
      "LES distance between Sketch-conv2 and Real-conv5:14.677948070572773\n",
      "LES distance between Sketch-conv2 and Sketch-conv1:3.9411285001796696\n",
      "LES distance between Sketch-conv2 and Sketch-conv2:5.4695585485566546e-14\n",
      "LES distance between Sketch-conv2 and Sketch-conv3:5.151373124586333\n"
     ]
    },
    {
     "name": "stderr",
     "output_type": "stream",
     "text": [
      "\n",
      "7it [00:03,  1.91it/s]\u001b[A\n"
     ]
    },
    {
     "name": "stdout",
     "output_type": "stream",
     "text": [
      "LES distance between Sketch-conv2 and Sketch-conv4:10.12014078066175\n",
      "LES distance between Sketch-conv2 and Sketch-conv5:14.677948070572782\n"
     ]
    },
    {
     "name": "stderr",
     "output_type": "stream",
     "text": [
      "\n",
      "0it [00:00, ?it/s]\u001b[A"
     ]
    },
    {
     "name": "stdout",
     "output_type": "stream",
     "text": [
      "LES distance between Sketch-conv3 and Clipart-conv1:8.998302577783976\n",
      "LES distance between Sketch-conv3 and Clipart-conv2:5.151373124586327\n",
      "LES distance between Sketch-conv3 and Clipart-conv3:1.2695612668966115e-13\n"
     ]
    },
    {
     "name": "stderr",
     "output_type": "stream",
     "text": [
      "\n",
      "1it [00:00,  2.27it/s]\u001b[A"
     ]
    },
    {
     "name": "stdout",
     "output_type": "stream",
     "text": [
      "LES distance between Sketch-conv3 and Clipart-conv4:5.0015756538153795\n",
      "LES distance between Sketch-conv3 and Clipart-conv5:9.560127805619876\n",
      "LES distance between Sketch-conv3 and ImageNet-conv1:8.99830257778395\n",
      "LES distance between Sketch-conv3 and ImageNet-conv2:5.151373124586343\n",
      "LES distance between Sketch-conv3 and ImageNet-conv3:1.3454528949898522e-13\n",
      "LES distance between Sketch-conv3 and ImageNet-conv4:5.001575653815343\n"
     ]
    },
    {
     "name": "stderr",
     "output_type": "stream",
     "text": [
      "\n",
      "2it [00:00,  2.22it/s]\u001b[A"
     ]
    },
    {
     "name": "stdout",
     "output_type": "stream",
     "text": [
      "LES distance between Sketch-conv3 and ImageNet-conv5:9.560127805619926\n",
      "LES distance between Sketch-conv3 and Infograph-conv1:8.99830257778398\n",
      "LES distance between Sketch-conv3 and Infograph-conv2:5.151373124586327\n",
      "LES distance between Sketch-conv3 and Infograph-conv3:1.3554109041624551e-13\n",
      "LES distance between Sketch-conv3 and Infograph-conv4:5.001575653815399\n"
     ]
    },
    {
     "name": "stderr",
     "output_type": "stream",
     "text": [
      "\n",
      "3it [00:01,  2.21it/s]\u001b[A"
     ]
    },
    {
     "name": "stdout",
     "output_type": "stream",
     "text": [
      "LES distance between Sketch-conv3 and Infograph-conv5:9.560127805619802\n",
      "LES distance between Sketch-conv3 and Paint-conv1:8.99830257778396\n",
      "LES distance between Sketch-conv3 and Paint-conv2:5.151373124586333\n",
      "LES distance between Sketch-conv3 and Paint-conv3:1.353947817707508e-13\n",
      "LES distance between Sketch-conv3 and Paint-conv4:5.001575653815408\n"
     ]
    },
    {
     "name": "stderr",
     "output_type": "stream",
     "text": [
      "\n",
      "4it [00:01,  2.17it/s]\u001b[A"
     ]
    },
    {
     "name": "stdout",
     "output_type": "stream",
     "text": [
      "LES distance between Sketch-conv3 and Paint-conv5:9.56012780561993\n",
      "LES distance between Sketch-conv3 and Quickdraw-conv1:8.998302577783978\n",
      "LES distance between Sketch-conv3 and Quickdraw-conv2:5.151373124586333\n",
      "LES distance between Sketch-conv3 and Quickdraw-conv3:1.2890851124842941e-13\n",
      "LES distance between Sketch-conv3 and Quickdraw-conv4:5.001575653815412\n"
     ]
    },
    {
     "name": "stderr",
     "output_type": "stream",
     "text": [
      "\n",
      "5it [00:02,  2.14it/s]\u001b[A"
     ]
    },
    {
     "name": "stdout",
     "output_type": "stream",
     "text": [
      "LES distance between Sketch-conv3 and Quickdraw-conv5:9.560127805619928\n",
      "LES distance between Sketch-conv3 and Real-conv1:8.99830257778398\n",
      "LES distance between Sketch-conv3 and Real-conv2:5.151373124586341\n",
      "LES distance between Sketch-conv3 and Real-conv3:1.3531464538570317e-13\n",
      "LES distance between Sketch-conv3 and Real-conv4:5.001575653815385\n"
     ]
    },
    {
     "name": "stderr",
     "output_type": "stream",
     "text": [
      "\n",
      "6it [00:02,  2.14it/s]\u001b[A"
     ]
    },
    {
     "name": "stdout",
     "output_type": "stream",
     "text": [
      "LES distance between Sketch-conv3 and Real-conv5:9.560127805619963\n",
      "LES distance between Sketch-conv3 and Sketch-conv1:8.998302577783946\n",
      "LES distance between Sketch-conv3 and Sketch-conv2:5.151373124586354\n"
     ]
    },
    {
     "name": "stderr",
     "output_type": "stream",
     "text": [
      "\n",
      "7it [00:03,  2.18it/s]\u001b[A\n"
     ]
    },
    {
     "name": "stdout",
     "output_type": "stream",
     "text": [
      "LES distance between Sketch-conv3 and Sketch-conv3:9.482370592480252e-14\n",
      "LES distance between Sketch-conv3 and Sketch-conv4:5.0015756538153555\n",
      "LES distance between Sketch-conv3 and Sketch-conv5:9.560127805619853\n"
     ]
    },
    {
     "name": "stderr",
     "output_type": "stream",
     "text": [
      "\n",
      "0it [00:00, ?it/s]\u001b[A"
     ]
    },
    {
     "name": "stdout",
     "output_type": "stream",
     "text": [
      "LES distance between Sketch-conv4 and Clipart-conv1:13.953126751228448\n",
      "LES distance between Sketch-conv4 and Clipart-conv2:10.120140780661778\n",
      "LES distance between Sketch-conv4 and Clipart-conv3:5.001575653815357\n"
     ]
    },
    {
     "name": "stderr",
     "output_type": "stream",
     "text": [
      "\n",
      "1it [00:00,  2.21it/s]\u001b[A"
     ]
    },
    {
     "name": "stdout",
     "output_type": "stream",
     "text": [
      "LES distance between Sketch-conv4 and Clipart-conv4:2.4936360474831673e-13\n",
      "LES distance between Sketch-conv4 and Clipart-conv5:4.6035285864452415\n",
      "LES distance between Sketch-conv4 and ImageNet-conv1:13.953126751228407\n",
      "LES distance between Sketch-conv4 and ImageNet-conv2:10.120140780661783\n",
      "LES distance between Sketch-conv4 and ImageNet-conv3:5.001575653815317\n",
      "LES distance between Sketch-conv4 and ImageNet-conv4:2.4183308001281195e-13\n"
     ]
    },
    {
     "name": "stderr",
     "output_type": "stream",
     "text": [
      "\n",
      "2it [00:00,  2.27it/s]\u001b[A"
     ]
    },
    {
     "name": "stdout",
     "output_type": "stream",
     "text": [
      "LES distance between Sketch-conv4 and ImageNet-conv5:4.603528586445433\n",
      "LES distance between Sketch-conv4 and Infograph-conv1:13.953126751228412\n",
      "LES distance between Sketch-conv4 and Infograph-conv2:10.120140780661778\n"
     ]
    },
    {
     "name": "stderr",
     "output_type": "stream",
     "text": [
      "\n",
      "3it [00:01,  2.29it/s]\u001b[A"
     ]
    },
    {
     "name": "stdout",
     "output_type": "stream",
     "text": [
      "LES distance between Sketch-conv4 and Infograph-conv3:5.001575653815304\n",
      "LES distance between Sketch-conv4 and Infograph-conv4:2.704528810234566e-13\n",
      "LES distance between Sketch-conv4 and Infograph-conv5:4.603528586445434\n",
      "LES distance between Sketch-conv4 and Paint-conv1:13.953126751228435\n",
      "LES distance between Sketch-conv4 and Paint-conv2:10.120140780661782\n",
      "LES distance between Sketch-conv4 and Paint-conv3:5.001575653815401\n"
     ]
    },
    {
     "name": "stderr",
     "output_type": "stream",
     "text": [
      "\n",
      "4it [00:01,  2.28it/s]\u001b[A"
     ]
    },
    {
     "name": "stdout",
     "output_type": "stream",
     "text": [
      "LES distance between Sketch-conv4 and Paint-conv4:2.3540079500130317e-13\n",
      "LES distance between Sketch-conv4 and Paint-conv5:4.6035285864454245\n",
      "LES distance between Sketch-conv4 and Quickdraw-conv1:13.95312675122839\n",
      "LES distance between Sketch-conv4 and Quickdraw-conv2:10.120140780661774\n",
      "LES distance between Sketch-conv4 and Quickdraw-conv3:5.001575653815345\n",
      "LES distance between Sketch-conv4 and Quickdraw-conv4:2.347876805332784e-13\n"
     ]
    },
    {
     "name": "stderr",
     "output_type": "stream",
     "text": [
      "\n",
      "5it [00:02,  2.28it/s]\u001b[A"
     ]
    },
    {
     "name": "stdout",
     "output_type": "stream",
     "text": [
      "LES distance between Sketch-conv4 and Quickdraw-conv5:4.6035285864453686\n",
      "LES distance between Sketch-conv4 and Real-conv1:13.953126751228442\n",
      "LES distance between Sketch-conv4 and Real-conv2:10.120140780661753\n",
      "LES distance between Sketch-conv4 and Real-conv3:5.0015756538153715\n",
      "LES distance between Sketch-conv4 and Real-conv4:2.529334645997723e-13\n"
     ]
    },
    {
     "name": "stderr",
     "output_type": "stream",
     "text": [
      "\n",
      "6it [00:02,  2.25it/s]\u001b[A"
     ]
    },
    {
     "name": "stdout",
     "output_type": "stream",
     "text": [
      "LES distance between Sketch-conv4 and Real-conv5:4.6035285864453295\n",
      "LES distance between Sketch-conv4 and Sketch-conv1:13.953126751228442\n",
      "LES distance between Sketch-conv4 and Sketch-conv2:10.120140780661782\n",
      "LES distance between Sketch-conv4 and Sketch-conv3:5.001575653815418\n",
      "LES distance between Sketch-conv4 and Sketch-conv4:1.9516002946101961e-13\n"
     ]
    },
    {
     "name": "stderr",
     "output_type": "stream",
     "text": [
      "\n",
      "7it [00:03,  2.24it/s]\u001b[A\n"
     ]
    },
    {
     "name": "stdout",
     "output_type": "stream",
     "text": [
      "LES distance between Sketch-conv4 and Sketch-conv5:4.60352858644528\n"
     ]
    },
    {
     "name": "stderr",
     "output_type": "stream",
     "text": [
      "\n",
      "0it [00:00, ?it/s]\u001b[A"
     ]
    },
    {
     "name": "stdout",
     "output_type": "stream",
     "text": [
      "LES distance between Sketch-conv5 and Clipart-conv1:18.50126662080744\n",
      "LES distance between Sketch-conv5 and Clipart-conv2:14.677948070572748\n",
      "LES distance between Sketch-conv5 and Clipart-conv3:9.5601278056199\n",
      "LES distance between Sketch-conv5 and Clipart-conv4:4.603528586445443\n"
     ]
    },
    {
     "name": "stderr",
     "output_type": "stream",
     "text": [
      "\n",
      "1it [00:00,  2.36it/s]\u001b[A"
     ]
    },
    {
     "name": "stdout",
     "output_type": "stream",
     "text": [
      "LES distance between Sketch-conv5 and Clipart-conv5:4.765284155319553e-13\n",
      "LES distance between Sketch-conv5 and ImageNet-conv1:18.50126662080751\n",
      "LES distance between Sketch-conv5 and ImageNet-conv2:14.677948070572786\n",
      "LES distance between Sketch-conv5 and ImageNet-conv3:9.560127805619896\n",
      "LES distance between Sketch-conv5 and ImageNet-conv4:4.603528586445365\n"
     ]
    },
    {
     "name": "stderr",
     "output_type": "stream",
     "text": [
      "\n",
      "2it [00:00,  2.36it/s]\u001b[A"
     ]
    },
    {
     "name": "stdout",
     "output_type": "stream",
     "text": [
      "LES distance between Sketch-conv5 and ImageNet-conv5:5.39672046514911e-13\n",
      "LES distance between Sketch-conv5 and Infograph-conv1:18.501266620807478\n",
      "LES distance between Sketch-conv5 and Infograph-conv2:14.677948070572693\n"
     ]
    },
    {
     "name": "stderr",
     "output_type": "stream",
     "text": [
      "\n",
      "3it [00:01,  2.39it/s]\u001b[A"
     ]
    },
    {
     "name": "stdout",
     "output_type": "stream",
     "text": [
      "LES distance between Sketch-conv5 and Infograph-conv3:9.560127805619919\n",
      "LES distance between Sketch-conv5 and Infograph-conv4:4.6035285864452735\n",
      "LES distance between Sketch-conv5 and Infograph-conv5:5.622883629891457e-13\n",
      "LES distance between Sketch-conv5 and Paint-conv1:18.50126662080747\n",
      "LES distance between Sketch-conv5 and Paint-conv2:14.677948070572718\n",
      "LES distance between Sketch-conv5 and Paint-conv3:9.560127805619839\n"
     ]
    },
    {
     "name": "stderr",
     "output_type": "stream",
     "text": [
      "\n",
      "4it [00:01,  2.42it/s]\u001b[A"
     ]
    },
    {
     "name": "stdout",
     "output_type": "stream",
     "text": [
      "LES distance between Sketch-conv5 and Paint-conv4:4.603528586445412\n",
      "LES distance between Sketch-conv5 and Paint-conv5:3.6323653834836464e-13\n",
      "LES distance between Sketch-conv5 and Quickdraw-conv1:18.50126662080748\n",
      "LES distance between Sketch-conv5 and Quickdraw-conv2:14.67794807057287\n",
      "LES distance between Sketch-conv5 and Quickdraw-conv3:9.560127805619837\n",
      "LES distance between Sketch-conv5 and Quickdraw-conv4:4.603528586445333\n"
     ]
    },
    {
     "name": "stderr",
     "output_type": "stream",
     "text": [
      "\n",
      "5it [00:02,  2.38it/s]\u001b[A"
     ]
    },
    {
     "name": "stdout",
     "output_type": "stream",
     "text": [
      "LES distance between Sketch-conv5 and Quickdraw-conv5:4.902936446811848e-13\n",
      "LES distance between Sketch-conv5 and Real-conv1:18.501266620807513\n",
      "LES distance between Sketch-conv5 and Real-conv2:14.677948070572755\n",
      "LES distance between Sketch-conv5 and Real-conv3:9.560127805619823\n",
      "LES distance between Sketch-conv5 and Real-conv4:4.603528586445508\n"
     ]
    },
    {
     "name": "stderr",
     "output_type": "stream",
     "text": [
      "\n",
      "6it [00:02,  2.35it/s]\u001b[A"
     ]
    },
    {
     "name": "stdout",
     "output_type": "stream",
     "text": [
      "LES distance between Sketch-conv5 and Real-conv5:4.0223930233701107e-13\n",
      "LES distance between Sketch-conv5 and Sketch-conv1:18.501266620807474\n",
      "LES distance between Sketch-conv5 and Sketch-conv2:14.677948070572718\n"
     ]
    },
    {
     "name": "stderr",
     "output_type": "stream",
     "text": [
      "\n",
      "7it [00:02,  2.36it/s]\u001b[A\n",
      "7it [02:01, 17.41s/it]"
     ]
    },
    {
     "name": "stdout",
     "output_type": "stream",
     "text": [
      "LES distance between Sketch-conv5 and Sketch-conv3:9.560127805619937\n",
      "LES distance between Sketch-conv5 and Sketch-conv4:4.603528586445315\n",
      "LES distance between Sketch-conv5 and Sketch-conv5:5.111401696310928e-13\n",
      "35\n"
     ]
    },
    {
     "name": "stderr",
     "output_type": "stream",
     "text": [
      "\n"
     ]
    }
   ],
   "source": [
    "pairwise_dists = []\n",
    "ind_i=0\n",
    "for i, domain1 in tqdm(enumerate(activations.keys())):\n",
    "    activations_d1 = activations[domain1]\n",
    "    for m in range(1,6):\n",
    "        activations_d1_l1 = activations_d1[f'conv{m}']\n",
    "        dists = []\n",
    "        for j,domain2 in tqdm(enumerate(activations.keys())):\n",
    "            activations_d2 = activations[domain]\n",
    "            for n in range(1,6):\n",
    "                activations_d2_l2 = activations_d2[f'conv{n}']\n",
    "                les_desc = SIGMA, NEV, GAMMA = 2, 200, 1e-8\n",
    "                les_desc_x1 = les_desc_comp(activations_d1_l1, SIGMA, NEV, GAMMA)\n",
    "                les_desc_x2 = les_desc_comp(activations_d2_l2, SIGMA, NEV, GAMMA)\n",
    "                les_dist = les_dist_comp(les_desc_x1, les_desc_x2)\n",
    "                dists.append(les_dist)\n",
    "                print(f'LES distance between {domain1}-conv{m} and {domain2}-conv{n}:{les_dist}')\n",
    "        pairwise_dists.append(dists)        \n",
    "print(len(pairwise_dists))"
   ]
  },
  {
   "cell_type": "code",
   "execution_count": 111,
   "id": "8c4f96b1",
   "metadata": {},
   "outputs": [],
   "source": [
    "pairwise_dists = []\n",
    "for i in range(1,6):\n",
    "    layerwise_dists = []\n",
    "    for domain1 in activations.keys():\n",
    "        activations1 = activations[domain1][f'conv{i}']\n",
    "        dists = []\n",
    "        for domain2 in activations.keys():\n",
    "            activations2 = activations[domain2][f'conv{i}']\n",
    "            les_desc = SIGMA, NEV, GAMMA = 2, 200, 1e-8\n",
    "            les_desc_x1 = les_desc_comp(activations1, SIGMA, NEV, GAMMA)\n",
    "            les_desc_x2 = les_desc_comp(activations2, SIGMA, NEV, GAMMA)\n",
    "            les_dist = les_dist_comp(les_desc_x1, les_desc_x2)\n",
    "            dists.append(les_dist)\n",
    "    #         print(f'LES distance between {domain1}-conv{conv_layer} and {domain2}-conv{conv_layer}:{les_dist}')\n",
    "        layerwise_dists.append(dists)\n",
    "    layerwise_dists = np.array(layerwise_dists)\n",
    "    pairwise_dists.append(layerwise_dists)"
   ]
  },
  {
   "cell_type": "code",
   "execution_count": 112,
   "id": "9fde191c",
   "metadata": {},
   "outputs": [
    {
     "data": {
      "image/png": "[encoded data removed]",
      "text/plain": [
       "<Figure size 2160x720 with 10 Axes>"
      ]
     },
     "metadata": {
      "needs_background": "light"
     },
     "output_type": "display_data"
    }
   ],
   "source": [
    "fig,axs = plt.subplots(1,5,figsize=(30,10))\n",
    "for i in range(5):\n",
    "    mat = axs[i].imshow(np.array(pairwise_dists[i]))\n",
    "    fig.colorbar(mat,ax=axs[i],fraction=0.05)\n",
    "    axs[i].set_xticks(ticks=np.arange(7),labels=activations.keys())\n",
    "    axs[i].set_yticks(ticks=np.arange(7),labels=activations.keys())\n",
    "    axs[i].set_title(f'Conv {i+1}')"
   ]
  },
  {
   "cell_type": "code",
   "execution_count": 142,
   "id": "dd02d9e4",
   "metadata": {},
   "outputs": [
    {
     "data": {
      "text/plain": [
       "(49, 5, 5)"
      ]
     },
     "execution_count": 142,
     "metadata": {},
     "output_type": "execute_result"
    }
   ],
   "source": [
    "pairwise_dists = []\n",
    "labels = []\n",
    "for domain1 in activations.keys():\n",
    "    activations_d1 = activations[domain1]\n",
    "    for domain2 in activations.keys():\n",
    "        activations_d2 = activations[domain2]\n",
    "        domainwise_dists = []\n",
    "        for i in range(1,6):\n",
    "            activations_d1_l1 = activations_d1[f'conv{i}']\n",
    "            dists = []\n",
    "            for j in range(1,6):\n",
    "                activations_d2_l2 = activations_d2[f'conv{j}']\n",
    "                les_desc = SIGMA, NEV, GAMMA = 2, 200, 1e-8\n",
    "                les_desc_x1 = les_desc_comp(activations_d1_l1, SIGMA, NEV, GAMMA)\n",
    "                les_desc_x2 = les_desc_comp(activations_d2_l2, SIGMA, NEV, GAMMA)\n",
    "                les_dist = les_dist_comp(les_desc_x1, les_desc_x2)\n",
    "                dists.append(les_dist)\n",
    "            domainwise_dists.append(np.array(dists))\n",
    "        domainwise_dists = np.array(domainwise_dists)\n",
    "        pairwise_dists.append(domainwise_dists)\n",
    "        labels.append(f'{domain1} vs {domain2}')\n",
    "np.array(pairwise_dists).shape"
   ]
  },
  {
   "cell_type": "code",
   "execution_count": 146,
   "id": "c8289590",
   "metadata": {},
   "outputs": [
    {
     "data": {
      "image/png": "[encoded data removed]",
      "text/plain": [
       "<Figure size 2160x2160 with 98 Axes>"
      ]
     },
     "metadata": {},
     "output_type": "display_data"
    }
   ],
   "source": [
    "fig,axs = plt.subplots(7,7,figsize=(30,30),facecolor='white')\n",
    "ind = 0\n",
    "for i,domain1 in enumerate(activations.keys()):\n",
    "    for j,domain2 in enumerate(activations.keys()):\n",
    "        mat = axs[i,j].imshow(np.array(pairwise_dists[ind]))\n",
    "        fig.colorbar(mat,ax=axs[i,j],fraction=0.05)\n",
    "        axs[i,j].set_xticks(ticks=np.arange(5),labels=[f'Conv {i}' for i in range(1,6)])\n",
    "        axs[i,j].set_yticks(ticks=np.arange(5),labels=[f'Conv {i}' for i in range(1,6)])\n",
    "        axs[i,j].set_title(labels[ind])\n",
    "        ind+=1"
   ]
  },
  {
   "cell_type": "code",
   "execution_count": 49,
   "id": "09ab41b3",
   "metadata": {},
   "outputs": [],
   "source": [
    "labels=[]\n",
    "\n",
    "for k,domain in enumerate(activations.keys()):\n",
    "    for layer in range(1,6):\n",
    "        labels.append(k)"
   ]
  },
  {
   "cell_type": "code",
   "execution_count": 39,
   "id": "0d27dca9",
   "metadata": {},
   "outputs": [],
   "source": [
    "from sklearn.manifold import MDS"
   ]
  },
  {
   "cell_type": "code",
   "execution_count": 51,
   "id": "f184588f",
   "metadata": {},
   "outputs": [
    {
     "data": {
      "text/plain": [
       "(50, 2)"
      ]
     },
     "execution_count": 51,
     "metadata": {},
     "output_type": "execute_result"
    }
   ],
   "source": [
    "dists_embed = MDS(n_components=2,dissimilarity='precomputed').fit_transform(pairwise_dist_mat)\n",
    "dists_embed.shape"
   ]
  },
  {
   "cell_type": "code",
   "execution_count": null,
   "id": "f6e34b27",
   "metadata": {},
   "outputs": [],
   "source": []
  }
 ],
 "metadata": {
  "kernelspec": {
   "display_name": "Python 3 (ipykernel)",
   "language": "python",
   "name": "python3"
  },
  "language_info": {
   "codemirror_mode": {
    "name": "ipython",
    "version": 3
   },
   "file_extension": ".py",
   "mimetype": "text/x-python",
   "name": "python",
   "nbconvert_exporter": "python",
   "pygments_lexer": "ipython3",
   "version": "3.8.11"
  }
 },
 "nbformat": 4,
 "nbformat_minor": 5
}
