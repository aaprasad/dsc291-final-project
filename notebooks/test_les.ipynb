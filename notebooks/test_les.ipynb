{
 "cells": [
  {
   "cell_type": "code",
   "execution_count": 1,
   "metadata": {},
   "outputs": [],
   "source": [
    "%load_ext autoreload\n",
    "%autoreload 2"
   ]
  },
  {
   "cell_type": "code",
   "execution_count": 2,
   "metadata": {},
   "outputs": [],
   "source": [
    "import sys\n",
    "sys.path.insert(0, '/cellar/users/dlaub/projects/log_euclidean_signature/dsc291-final-project')"
   ]
  },
  {
   "cell_type": "code",
   "execution_count": 37,
   "metadata": {},
   "outputs": [],
   "source": [
    "import torch\n",
    "from les.les import les_dist_comp, les_desc_comp, _build_graph\n",
    "from les_pytorch.les import LES\n",
    "import numpy as np"
   ]
  },
  {
   "cell_type": "code",
   "execution_count": 162,
   "metadata": {},
   "outputs": [],
   "source": [
    "rng = np.random.default_rng(0)\n",
    "x1 = rng.normal(0, 1, (10, 1))\n",
    "x2 = x1 * 2 + rng.normal(0, 0.5, (10, 1))\n",
    "x1t = torch.as_tensor(x1)\n",
    "x2t = torch.as_tensor(x2)\n",
    "x1t.requires_grad = True\n",
    "x2t.requires_grad = True"
   ]
  },
  {
   "cell_type": "code",
   "execution_count": 134,
   "metadata": {},
   "outputs": [],
   "source": [
    "np.testing.assert_allclose(_build_graph(x1), LES()._heat_kernel(x1t).numpy())"
   ]
  },
  {
   "cell_type": "code",
   "execution_count": 139,
   "metadata": {},
   "outputs": [],
   "source": [
    "np.random.seed(0)\n",
    "f1 = les_desc_comp(x1)\n",
    "f1t = LES()._log_eigenvalues(LES()._heat_kernel(x1t))\n",
    "np.testing.assert_allclose(f1, f1t.numpy())\n",
    "\n",
    "np.random.seed(0)\n",
    "f2 = les_desc_comp(x2)\n",
    "f2t = LES()._log_eigenvalues(LES()._heat_kernel(x2t))\n",
    "np.testing.assert_allclose(f2, f2t.numpy())\n",
    "\n",
    "les_d = les_dist_comp(f1, f2)\n",
    "les_dt = ((f1t - f2t)**2).sum().sqrt()\n",
    "np.testing.assert_allclose(les_d, les_dt.numpy())"
   ]
  },
  {
   "cell_type": "code",
   "execution_count": 161,
   "metadata": {},
   "outputs": [],
   "source": [
    "np.random.seed(0)\n",
    "f1 = les_desc_comp(x1)\n",
    "f2 = les_desc_comp(x2)\n",
    "les_d = les_dist_comp(f1, f2)\n",
    "\n",
    "np.random.seed(0)\n",
    "les_dt = LES()(x1t, x2t)\n",
    "\n",
    "np.testing.assert_allclose(les_d, les_dt.detach().numpy())"
   ]
  },
  {
   "cell_type": "code",
   "execution_count": 158,
   "metadata": {},
   "outputs": [
    {
     "data": {
      "text/plain": [
       "<torch.autograd.anomaly_mode.set_detect_anomaly at 0x155462ee3910>"
      ]
     },
     "execution_count": 158,
     "metadata": {},
     "output_type": "execute_result"
    }
   ],
   "source": [
    "torch.autograd.set_detect_anomaly(True)"
   ]
  },
  {
   "cell_type": "code",
   "execution_count": 172,
   "metadata": {},
   "outputs": [],
   "source": [
    "np.random.seed(0)\n",
    "les_dt = LES()(x1t, x2t)\n",
    "les_dt.backward()"
   ]
  }
 ],
 "metadata": {
  "kernelspec": {
   "display_name": "Log Euclidean Signature",
   "language": "python",
   "name": "les"
  },
  "language_info": {
   "codemirror_mode": {
    "name": "ipython",
    "version": 3
   },
   "file_extension": ".py",
   "mimetype": "text/x-python",
   "name": "python",
   "nbconvert_exporter": "python",
   "pygments_lexer": "ipython3",
   "version": "3.9.13"
  },
  "orig_nbformat": 4
 },
 "nbformat": 4,
 "nbformat_minor": 2
}
