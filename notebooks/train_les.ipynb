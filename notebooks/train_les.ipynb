{
 "cells": [
  {
   "cell_type": "code",
   "execution_count": 1,
   "id": "9e8d00bc-9913-41f8-a545-d0840347a281",
   "metadata": {
    "collapsed": true,
    "jupyter": {
     "outputs_hidden": true
    },
    "tags": []
   },
   "outputs": [
    {
     "name": "stdout",
     "output_type": "stream",
     "text": [
      "Requirement already satisfied: pytorch-lightning in /opt/conda/envs/python37/lib/python3.7/site-packages (1.5.10)\n",
      "Requirement already satisfied: lightly in /opt/conda/envs/python37/lib/python3.7/site-packages (1.2.35)\n",
      "Requirement already satisfied: future>=0.17.1 in /opt/conda/envs/python37/lib/python3.7/site-packages (from pytorch-lightning) (0.18.2)\n",
      "Requirement already satisfied: fsspec[http]!=2021.06.0,>=2021.05.0 in /opt/conda/envs/python37/lib/python3.7/site-packages (from pytorch-lightning) (2022.2.0)\n",
      "Requirement already satisfied: packaging>=17.0 in /opt/conda/envs/python37/lib/python3.7/site-packages (from pytorch-lightning) (21.3)\n",
      "Requirement already satisfied: tensorboard>=2.2.0 in /opt/conda/envs/python37/lib/python3.7/site-packages (from pytorch-lightning) (2.6.0)\n",
      "Requirement already satisfied: typing-extensions in /opt/conda/envs/python37/lib/python3.7/site-packages (from pytorch-lightning) (3.10.0.2)\n",
      "Requirement already satisfied: numpy>=1.17.2 in /opt/conda/envs/python37/lib/python3.7/site-packages (from pytorch-lightning) (1.19.5)\n",
      "Requirement already satisfied: pyDeprecate==0.3.1 in /opt/conda/envs/python37/lib/python3.7/site-packages (from pytorch-lightning) (0.3.1)\n",
      "Requirement already satisfied: tqdm>=4.41.0 in /opt/conda/envs/python37/lib/python3.7/site-packages (from pytorch-lightning) (4.62.3)\n",
      "Requirement already satisfied: torchmetrics>=0.4.1 in /opt/conda/envs/python37/lib/python3.7/site-packages (from pytorch-lightning) (0.7.2)\n",
      "Requirement already satisfied: PyYAML>=5.1 in /opt/conda/envs/python37/lib/python3.7/site-packages (from pytorch-lightning) (6.0)\n",
      "Requirement already satisfied: setuptools==59.5.0 in /opt/conda/envs/python37/lib/python3.7/site-packages (from pytorch-lightning) (59.5.0)\n",
      "Requirement already satisfied: torch>=1.7.* in /opt/conda/envs/python37/lib/python3.7/site-packages (from pytorch-lightning) (1.10.2+cu113)\n",
      "Requirement already satisfied: lightly-utils~=0.0.0 in /opt/conda/envs/python37/lib/python3.7/site-packages (from lightly) (0.0.2)\n",
      "Requirement already satisfied: six>=1.10 in /opt/conda/envs/python37/lib/python3.7/site-packages (from lightly) (1.15.0)\n",
      "Requirement already satisfied: hydra-core>=1.0.0 in /opt/conda/envs/python37/lib/python3.7/site-packages (from lightly) (1.2.0)\n",
      "Requirement already satisfied: certifi>=14.05.14 in /opt/conda/envs/python37/lib/python3.7/site-packages (from lightly) (2021.10.8)\n",
      "Requirement already satisfied: python-dateutil>=2.5.3 in /opt/conda/envs/python37/lib/python3.7/site-packages (from lightly) (2.8.2)\n",
      "Requirement already satisfied: urllib3>=1.15.1 in /opt/conda/envs/python37/lib/python3.7/site-packages (from lightly) (1.26.8)\n",
      "Requirement already satisfied: requests>=2.23.0 in /opt/conda/envs/python37/lib/python3.7/site-packages (from lightly) (2.27.1)\n",
      "Requirement already satisfied: torchvision in /opt/conda/envs/python37/lib/python3.7/site-packages (from lightly) (0.11.3+cu113)\n",
      "Requirement already satisfied: aiohttp in /opt/conda/envs/python37/lib/python3.7/site-packages (from fsspec[http]!=2021.06.0,>=2021.05.0->pytorch-lightning) (3.8.1)\n",
      "Requirement already satisfied: omegaconf~=2.2 in /opt/conda/envs/python37/lib/python3.7/site-packages (from hydra-core>=1.0.0->lightly) (2.2.3)\n",
      "Requirement already satisfied: antlr4-python3-runtime==4.9.* in /opt/conda/envs/python37/lib/python3.7/site-packages (from hydra-core>=1.0.0->lightly) (4.9.3)\n",
      "Requirement already satisfied: importlib-resources in /opt/conda/envs/python37/lib/python3.7/site-packages (from hydra-core>=1.0.0->lightly) (5.4.0)\n",
      "Requirement already satisfied: Pillow in /opt/conda/envs/python37/lib/python3.7/site-packages (from lightly-utils~=0.0.0->lightly) (9.0.1)\n",
      "Requirement already satisfied: pyparsing!=3.0.5,>=2.0.2 in /opt/conda/envs/python37/lib/python3.7/site-packages (from packaging>=17.0->pytorch-lightning) (3.0.7)\n",
      "Requirement already satisfied: charset-normalizer~=2.0.0 in /opt/conda/envs/python37/lib/python3.7/site-packages (from requests>=2.23.0->lightly) (2.0.12)\n",
      "Requirement already satisfied: idna<4,>=2.5 in /opt/conda/envs/python37/lib/python3.7/site-packages (from requests>=2.23.0->lightly) (3.3)\n",
      "Requirement already satisfied: markdown>=2.6.8 in /opt/conda/envs/python37/lib/python3.7/site-packages (from tensorboard>=2.2.0->pytorch-lightning) (3.3.6)\n",
      "Requirement already satisfied: google-auth-oauthlib<0.5,>=0.4.1 in /opt/conda/envs/python37/lib/python3.7/site-packages (from tensorboard>=2.2.0->pytorch-lightning) (0.4.6)\n",
      "Requirement already satisfied: google-auth<2,>=1.6.3 in /opt/conda/envs/python37/lib/python3.7/site-packages (from tensorboard>=2.2.0->pytorch-lightning) (1.35.0)\n",
      "Requirement already satisfied: werkzeug>=0.11.15 in /opt/conda/envs/python37/lib/python3.7/site-packages (from tensorboard>=2.2.0->pytorch-lightning) (2.0.3)\n",
      "Requirement already satisfied: wheel>=0.26 in /opt/conda/envs/python37/lib/python3.7/site-packages (from tensorboard>=2.2.0->pytorch-lightning) (0.37.1)\n",
      "Requirement already satisfied: protobuf>=3.6.0 in /opt/conda/envs/python37/lib/python3.7/site-packages (from tensorboard>=2.2.0->pytorch-lightning) (3.19.4)\n",
      "Requirement already satisfied: absl-py>=0.4 in /opt/conda/envs/python37/lib/python3.7/site-packages (from tensorboard>=2.2.0->pytorch-lightning) (0.15.0)\n",
      "Requirement already satisfied: tensorboard-data-server<0.7.0,>=0.6.0 in /opt/conda/envs/python37/lib/python3.7/site-packages (from tensorboard>=2.2.0->pytorch-lightning) (0.6.1)\n",
      "Requirement already satisfied: tensorboard-plugin-wit>=1.6.0 in /opt/conda/envs/python37/lib/python3.7/site-packages (from tensorboard>=2.2.0->pytorch-lightning) (1.8.1)\n",
      "Requirement already satisfied: grpcio>=1.24.3 in /opt/conda/envs/python37/lib/python3.7/site-packages (from tensorboard>=2.2.0->pytorch-lightning) (1.44.0)\n",
      "Requirement already satisfied: rsa<5,>=3.1.4 in /opt/conda/envs/python37/lib/python3.7/site-packages (from google-auth<2,>=1.6.3->tensorboard>=2.2.0->pytorch-lightning) (4.8)\n",
      "Requirement already satisfied: pyasn1-modules>=0.2.1 in /opt/conda/envs/python37/lib/python3.7/site-packages (from google-auth<2,>=1.6.3->tensorboard>=2.2.0->pytorch-lightning) (0.2.7)\n",
      "Requirement already satisfied: cachetools<5.0,>=2.0.0 in /opt/conda/envs/python37/lib/python3.7/site-packages (from google-auth<2,>=1.6.3->tensorboard>=2.2.0->pytorch-lightning) (4.2.4)\n",
      "Requirement already satisfied: requests-oauthlib>=0.7.0 in /opt/conda/envs/python37/lib/python3.7/site-packages (from google-auth-oauthlib<0.5,>=0.4.1->tensorboard>=2.2.0->pytorch-lightning) (1.3.1)\n",
      "Requirement already satisfied: importlib-metadata>=4.4 in /opt/conda/envs/python37/lib/python3.7/site-packages (from markdown>=2.6.8->tensorboard>=2.2.0->pytorch-lightning) (4.11.1)\n",
      "Requirement already satisfied: asynctest==0.13.0 in /opt/conda/envs/python37/lib/python3.7/site-packages (from aiohttp->fsspec[http]!=2021.06.0,>=2021.05.0->pytorch-lightning) (0.13.0)\n",
      "Requirement already satisfied: aiosignal>=1.1.2 in /opt/conda/envs/python37/lib/python3.7/site-packages (from aiohttp->fsspec[http]!=2021.06.0,>=2021.05.0->pytorch-lightning) (1.2.0)\n",
      "Requirement already satisfied: multidict<7.0,>=4.5 in /opt/conda/envs/python37/lib/python3.7/site-packages (from aiohttp->fsspec[http]!=2021.06.0,>=2021.05.0->pytorch-lightning) (6.0.2)\n",
      "Requirement already satisfied: attrs>=17.3.0 in /opt/conda/envs/python37/lib/python3.7/site-packages (from aiohttp->fsspec[http]!=2021.06.0,>=2021.05.0->pytorch-lightning) (21.4.0)\n",
      "Requirement already satisfied: yarl<2.0,>=1.0 in /opt/conda/envs/python37/lib/python3.7/site-packages (from aiohttp->fsspec[http]!=2021.06.0,>=2021.05.0->pytorch-lightning) (1.7.2)\n",
      "Requirement already satisfied: async-timeout<5.0,>=4.0.0a3 in /opt/conda/envs/python37/lib/python3.7/site-packages (from aiohttp->fsspec[http]!=2021.06.0,>=2021.05.0->pytorch-lightning) (4.0.2)\n",
      "Requirement already satisfied: frozenlist>=1.1.1 in /opt/conda/envs/python37/lib/python3.7/site-packages (from aiohttp->fsspec[http]!=2021.06.0,>=2021.05.0->pytorch-lightning) (1.3.0)\n",
      "Requirement already satisfied: zipp>=3.1.0 in /opt/conda/envs/python37/lib/python3.7/site-packages (from importlib-resources->hydra-core>=1.0.0->lightly) (3.7.0)\n",
      "Requirement already satisfied: pyasn1<0.5.0,>=0.4.6 in /opt/conda/envs/python37/lib/python3.7/site-packages (from pyasn1-modules>=0.2.1->google-auth<2,>=1.6.3->tensorboard>=2.2.0->pytorch-lightning) (0.4.8)\n",
      "Requirement already satisfied: oauthlib>=3.0.0 in /opt/conda/envs/python37/lib/python3.7/site-packages (from requests-oauthlib>=0.7.0->google-auth-oauthlib<0.5,>=0.4.1->tensorboard>=2.2.0->pytorch-lightning) (3.2.0)\n",
      "Note: you may need to restart the kernel to use updated packages.\n"
     ]
    }
   ],
   "source": [
    "pip install pytorch-lightning lightly"
   ]
  },
  {
   "cell_type": "code",
   "execution_count": 1,
   "id": "8b1ed7c3-384f-4518-915b-f207a9c63aee",
   "metadata": {},
   "outputs": [],
   "source": [
    "import sys\n",
    "sys.path.append('../')\n",
    "import torch\n",
    "import PIL\n",
    "import pytorch_lightning as pl\n",
    "import torchvision\n",
    "from les.les import les_dist_comp, les_desc_comp, _build_graph\n",
    "from les_pytorch.les import LES\n",
    "import numpy as np\n",
    "from torch.utils.data import DataLoader\n",
    "from torch.utils.data import Dataset\n",
    "from torchvision.models import alexnet\n",
    "from lightly.models.modules.heads import SimCLRProjectionHead\n",
    "from matplotlib import pyplot as plt\n",
    "import lightly"
   ]
  },
  {
   "cell_type": "code",
   "execution_count": 14,
   "id": "c7d92c8c-7dd2-497c-ac33-02d7e6814afe",
   "metadata": {},
   "outputs": [
    {
     "name": "stdout",
     "output_type": "stream",
     "text": [
      "Data path is ../../../../talmodata-nfs/datasets/DomainNet/painting\n",
      "Dataset size: 75759\n"
     ]
    }
   ],
   "source": [
    "domain='Painting'\n",
    "if domain.lower() == 'imagenet':\n",
    "    data_path = f'../../../../talmodata-nfs/datasets/TinyImageNet/train'\n",
    "elif domain.lower() == 'cremi':\n",
    "    data_path = f'../../../../talmodata-nfs/datasets/cremi/jpegs'\n",
    "else:\n",
    "    data_path = f'../../../../talmodata-nfs/datasets/DomainNet/{domain.lower()}'\n",
    "print(f'Data path is {data_path}')\n",
    "example_dataset=lightly.data.LightlyDataset(data_path)\n",
    "test_collate_fn = lightly.data.SimCLRCollateFunction(input_size=64,gaussian_blur=0.0,cj_prob=0.0)\n",
    "dataloader_simclr = DataLoader(\n",
    "                        example_dataset,\n",
    "                        batch_size=512,\n",
    "                        shuffle=False,\n",
    "                        collate_fn=test_collate_fn,\n",
    "                        drop_last=True,\n",
    "                        num_workers=8,\n",
    "                        pin_memory=False\n",
    "                    )\n",
    "print(f'Dataset size: {len(example_dataset)}')"
   ]
  },
  {
   "cell_type": "code",
   "execution_count": 3,
   "id": "0819f941-c3d8-4fff-84d3-6965c8e90d53",
   "metadata": {},
   "outputs": [],
   "source": [
    "iterator = iter(dataloader_simclr)\n",
    "batch,labels,files = next(iterator)\n",
    "aug1 = batch[0]\n",
    "aug2 = batch[1]\n",
    "# fig,ax = plt.subplots(5,3,figsize=(64,64),facecolor='w')\n",
    "# for i,file in zip(range(5),files):\n",
    "#     ax[i,0].imshow(PIL.Image.open(f'{data_path}/{file}'))\n",
    "# ax[0,0].set_title('Original')\n",
    "# for i in range(5):\n",
    "#     ax[i,1].imshow(aug1[i].permute(1,2,0))\n",
    "# ax[0,1].set_title('View 1')\n",
    "# for i in range(5):\n",
    "#     ax[i,2].imshow(aug2[i].permute(1,2,0))\n",
    "# ax[0,2].set_title('View 2')"
   ]
  },
  {
   "cell_type": "code",
   "execution_count": 15,
   "id": "347309b7-9794-4e6e-a5ba-f51b3144c3f5",
   "metadata": {},
   "outputs": [],
   "source": [
    "class LESclrModel(pl.LightningModule):\n",
    "    def __init__(self,\n",
    "                 dataset_path,\n",
    "                 backbone = torchvision.models.alexnet(pretrained=False),\n",
    "                 transform = torchvision.transforms.Resize((64,64)),\n",
    "                 batch_size = 512,\n",
    "                 temp = 0.1, \n",
    "                 learning_rate = 1e-2,  \n",
    "                 momentum = 0.9, \n",
    "                 embedding_dim = 128,\n",
    "                 input_size = 64,\n",
    "                 weight_decay = 1e-6):\n",
    "        super().__init__()\n",
    "        hidden_dim = 9216\n",
    "        self.backbone = torch.nn.Sequential(*list(backbone.children())[:-1])\n",
    "        self.dataset_path = dataset_path\n",
    "        self.transform = transform\n",
    "        self.batch_size = batch_size\n",
    "        self.temp = temp\n",
    "        self.lr = learning_rate\n",
    "        self.momentum = momentum\n",
    "        self.weight_decay = weight_decay\n",
    "        self.projection_head = SimCLRProjectionHead(hidden_dim, hidden_dim, embedding_dim)\n",
    "        self.criterion = LES()\n",
    "        self.collate_fn = lightly.data.SimCLRCollateFunction(input_size=input_size,gaussian_blur=0.0,cj_prob=0.0)\n",
    "        self.save_hyperparameters()\n",
    "    def forward(self, x):\n",
    "        h=self.backbone(x).flatten(start_dim=1)\n",
    "        z = self.projection_head(h)\n",
    "        return z\n",
    "\n",
    "    def training_step(self, batch, batch_idx):\n",
    "        (x0, x1), _, _ = batch\n",
    "        z0 = self.forward(x0)\n",
    "        z1 = self.forward(x1)\n",
    "        print(z0.device)\n",
    "        print(z1.device)\n",
    "        loss = self.criterion(z0, z1)\n",
    "        self.log(\"train_loss_les\", loss)\n",
    "        return loss\n",
    "\n",
    "    def configure_optimizers(self):\n",
    "        optim = torch.optim.SGD(params=self.parameters(),lr=self.lr,momentum=self.momentum,weight_decay=self.weight_decay)\n",
    "        scheduler = None #torch.optim.lr_scheduler.ReduceLROnPlateau(optim, mode='min', factor=0.5, patience=10, threshold=0.1, threshold_mode='rel', cooldown=0, min_lr=0, eps=1e-08, verbose=True)\n",
    "        monitor =  {\"scheduler\": scheduler, \"monitor\": \"train_loss_ssl\",'interval':'epoch',\"frequency\":10}\n",
    "        return optim#],[monitor]\n",
    "\n",
    "    def train_dataloader(self):\n",
    "        #normalize={'mean':[0, 0, 0],'std':[1, 1, 1]})\n",
    "        dataset = lightly.data.LightlyDataset(input_dir=self.dataset_path,transform=self.transform)\n",
    "        return DataLoader(\n",
    "                        dataset,\n",
    "                        batch_size=self.batch_size,\n",
    "                        shuffle=True,\n",
    "                        collate_fn=self.collate_fn,\n",
    "                        drop_last=True,\n",
    "                        num_workers=8,\n",
    "                        pin_memory=False\n",
    "                    )"
   ]
  },
  {
   "cell_type": "code",
   "execution_count": 16,
   "id": "25803c91-b2b0-4446-884b-cf367791139c",
   "metadata": {},
   "outputs": [
    {
     "data": {
      "text/plain": [
       "LESclrModel(\n",
       "  (backbone): Sequential(\n",
       "    (0): Sequential(\n",
       "      (0): Conv2d(3, 64, kernel_size=(11, 11), stride=(4, 4), padding=(2, 2))\n",
       "      (1): ReLU(inplace=True)\n",
       "      (2): MaxPool2d(kernel_size=3, stride=2, padding=0, dilation=1, ceil_mode=False)\n",
       "      (3): Conv2d(64, 192, kernel_size=(5, 5), stride=(1, 1), padding=(2, 2))\n",
       "      (4): ReLU(inplace=True)\n",
       "      (5): MaxPool2d(kernel_size=3, stride=2, padding=0, dilation=1, ceil_mode=False)\n",
       "      (6): Conv2d(192, 384, kernel_size=(3, 3), stride=(1, 1), padding=(1, 1))\n",
       "      (7): ReLU(inplace=True)\n",
       "      (8): Conv2d(384, 256, kernel_size=(3, 3), stride=(1, 1), padding=(1, 1))\n",
       "      (9): ReLU(inplace=True)\n",
       "      (10): Conv2d(256, 256, kernel_size=(3, 3), stride=(1, 1), padding=(1, 1))\n",
       "      (11): ReLU(inplace=True)\n",
       "      (12): MaxPool2d(kernel_size=3, stride=2, padding=0, dilation=1, ceil_mode=False)\n",
       "    )\n",
       "    (1): AdaptiveAvgPool2d(output_size=(6, 6))\n",
       "  )\n",
       "  (projection_head): SimCLRProjectionHead(\n",
       "    (layers): Sequential(\n",
       "      (0): Linear(in_features=9216, out_features=9216, bias=True)\n",
       "      (1): ReLU()\n",
       "      (2): Linear(in_features=9216, out_features=128, bias=True)\n",
       "    )\n",
       "  )\n",
       "  (criterion): LES()\n",
       "  (collate_fn): SimCLRCollateFunction()\n",
       ")"
      ]
     },
     "execution_count": 16,
     "metadata": {},
     "output_type": "execute_result"
    }
   ],
   "source": [
    "LESclr_model = LESclrModel(dataset_path = data_path,\n",
    "                                              transform = None,\n",
    "                                              batch_size = 1024,\n",
    "                                              temp = 0.1,\n",
    "                                              learning_rate = 4.8,\n",
    "                                              momentum = 0.9,\n",
    "                                              embedding_dim = 128,\n",
    "                                              input_size = 64,\n",
    "                                              weight_decay =1e-6,\n",
    "                                              )\n",
    "LESclr_model"
   ]
  },
  {
   "cell_type": "code",
   "execution_count": null,
   "id": "88f3348e-68da-46f9-ade4-0ed980d3d6e5",
   "metadata": {},
   "outputs": [],
   "source": [
    "iterator = iter(dataloader_simclr)\n",
    "for batches in iterator:\n",
    "    batch,labels,files = batches\n",
    "    aug1 = batch[0]\n",
    "    aug2 = batch[1]\n",
    "    embed1 = LESclr_model(aug1).to(torch.float64)\n",
    "    les_embed1 = embed1.detach().numpy()\n",
    "    les_embed1 = les_desc_comp(les_embed1)\n",
    "    embed2 = LESclr_model(aug2).to(torch.float64)\n",
    "    les_embed2 = embed2.detach().numpy()\n",
    "    les_embed2 = les_desc_comp(les_embed2)\n",
    "    print(les_dist_comp(les_embed1,les_embed2))\n",
    "    les = LES()\n",
    "    print(les(embed1,embed2))\n",
    "    # les(embed1.to(torch.float64),embed2.to(torch.float64))\n",
    "len(batch)"
   ]
  },
  {
   "cell_type": "code",
   "execution_count": 13,
   "id": "e71b3a6d-df1a-4cc9-b9cc-2570f736dc96",
   "metadata": {},
   "outputs": [
    {
     "data": {
      "text/plain": [
       "512"
      ]
     },
     "execution_count": 13,
     "metadata": {},
     "output_type": "execute_result"
    }
   ],
   "source": [
    "len(aug1)"
   ]
  },
  {
   "cell_type": "code",
   "execution_count": null,
   "id": "2bd296b6-9a53-4bd6-94e8-2626eca6e868",
   "metadata": {},
   "outputs": [],
   "source": [
    "x1 = torch.randn(size=(2,128),dtype=torch.float32)\n",
    "x2 = torch.randn(size=(2,128),dtype=torch.float32)\n",
    "LES()(x1,x2)"
   ]
  },
  {
   "cell_type": "code",
   "execution_count": 11,
   "id": "ef750f04-b1f6-444f-8068-96d48a0104e0",
   "metadata": {},
   "outputs": [
    {
     "name": "stdout",
     "output_type": "stream",
     "text": [
      "Using GPU\n"
     ]
    }
   ],
   "source": [
    "device = torch.device(\"cuda\" if torch.cuda.is_available() else \"cpu\")\n",
    "if device == \"cpu\":\n",
    "    print('GPU is not available. Using CPU')\n",
    "else: print('Using GPU')"
   ]
  },
  {
   "cell_type": "code",
   "execution_count": 12,
   "id": "16d4647a-e6f8-4721-ac7e-43af2ff3f48f",
   "metadata": {},
   "outputs": [
    {
     "name": "stderr",
     "output_type": "stream",
     "text": [
      "GPU available: True, used: True\n",
      "TPU available: False, using: 0 TPU cores\n",
      "IPU available: False, using: 0 IPUs\n",
      "LOCAL_RANK: 0 - CUDA_VISIBLE_DEVICES: [0]\n",
      "/opt/conda/envs/python37/lib/python3.7/site-packages/pytorch_lightning/trainer/trainer.py:688: UserWarning: Detected KeyboardInterrupt, attempting graceful shutdown...\n",
      "  rank_zero_warn(\"Detected KeyboardInterrupt, attempting graceful shutdown...\")\n"
     ]
    }
   ],
   "source": [
    "trainer = pl.Trainer(gpus=1, \n",
    "                     strategy=\"dp\", \n",
    "                     max_epochs=10, \n",
    "                     log_every_n_steps=1)\n",
    "trainer.fit(LESclr_model)"
   ]
  },
  {
   "cell_type": "code",
   "execution_count": null,
   "id": "22e187eb-1237-4c43-818a-1eef907cda37",
   "metadata": {},
   "outputs": [],
   "source": []
  }
 ],
 "metadata": {
  "kernelspec": {
   "display_name": "python37",
   "language": "python",
   "name": "python37"
  },
  "language_info": {
   "codemirror_mode": {
    "name": "ipython",
    "version": 3
   },
   "file_extension": ".py",
   "mimetype": "text/x-python",
   "name": "python",
   "nbconvert_exporter": "python",
   "pygments_lexer": "ipython3",
   "version": "3.7.12"
  }
 },
 "nbformat": 4,
 "nbformat_minor": 5
}
